{
  "nbformat": 4,
  "nbformat_minor": 0,
  "metadata": {
    "colab": {
      "name": "Lab12.ipynb",
      "provenance": []
    },
    "kernelspec": {
      "name": "python3",
      "display_name": "Python 3"
    }
  },
  "cells": [
    {
      "cell_type": "code",
      "metadata": {
        "id": "CFX_9OYEx6re"
      },
      "source": [
        "\"\"\"Create a Python class named Circle constructed by a radius and two methods\r\n",
        " which will compute the area and the perimeter of a circle. \"\"\" \r\n",
        "\r\n",
        "class Circle:\r\n",
        "   def __init__(self,radius):\r\n",
        "     self.radius=radius\r\n",
        "\r\n",
        "   def perimeter(self):\r\n",
        "     p=2.0*3.14*self.radius\r\n",
        "     print(f\"The perimeter of a circle with radius {self.radius} is {p} units.\")\r\n",
        "   def area(self):\r\n",
        "     a=3.14*(self.radius**2)\r\n",
        "     print(f\"The area of a circle with radius {self.radius} is {a} square units.\")"
      ],
      "execution_count": 7,
      "outputs": []
    },
    {
      "cell_type": "code",
      "metadata": {
        "colab": {
          "base_uri": "https://localhost:8080/",
          "height": 0
        },
        "id": "G8vVmiPezaHy",
        "outputId": "a20515ff-6426-468b-8968-483cc32071d8"
      },
      "source": [
        "#Creating the object of class Circle\r\n",
        "c=Circle(4.0)\r\n",
        "c.perimeter()\r\n",
        "c.area()"
      ],
      "execution_count": 8,
      "outputs": [
        {
          "output_type": "stream",
          "text": [
            "The perimeter of a circle with radius 4.0 is 25.12 units.\n",
            "The area of a circle with radius 4.0 is 50.24 square units.\n"
          ],
          "name": "stdout"
        }
      ]
    },
    {
      "cell_type": "code",
      "metadata": {
        "id": "ML6WDJJ00HCF"
      },
      "source": [
        "\"\"\" Create a Python class named Rectangle constructed by a length and width\r\n",
        "and a method which will compute the area of a rectangle.\"\"\"\r\n",
        "\r\n",
        "class Rectangle:\r\n",
        "   def __init__(self,length,width):\r\n",
        "     self.length=length\r\n",
        "     self.width=width\r\n",
        "\r\n",
        "   def area(self):\r\n",
        "     a=self.length*self.width\r\n",
        "     print(f\"The area of the rectangle is {a} square units.\")"
      ],
      "execution_count": 9,
      "outputs": []
    },
    {
      "cell_type": "code",
      "metadata": {
        "colab": {
          "base_uri": "https://localhost:8080/",
          "height": 0
        },
        "id": "KdaQryI90uHM",
        "outputId": "48bd1629-bcc2-42fd-8ca9-de996a587b93"
      },
      "source": [
        "r=Rectangle(5.0,3.0)\r\n",
        "r.area()"
      ],
      "execution_count": 10,
      "outputs": [
        {
          "output_type": "stream",
          "text": [
            "The area of the rectangle is 15.0 square units.\n"
          ],
          "name": "stdout"
        }
      ]
    },
    {
      "cell_type": "code",
      "metadata": {
        "id": "rDrlipRp08dM"
      },
      "source": [
        "\"\"\"Utilize class concepts to find student grade.\"\"\"\r\n",
        "\r\n",
        "class Grade:\r\n",
        "  def __init__(self,marks):\r\n",
        "    self.marks=marks\r\n",
        "  def calc(self):\r\n",
        "    if self.marks>90:\r\n",
        "      print(\"Grade is A+\")\r\n",
        "    if self.marks<=90 and self.marks>80:\r\n",
        "      print(\"Grade is A\")\r\n",
        "    elif self.marks<=80 and self.marks>70:\r\n",
        "      print(\"Grade is B+\")\r\n",
        "    elif self.marks<=70 and self.marks>60:\r\n",
        "      print(\"Grade is B\")\r\n",
        "    elif self.marks<=60 and self.marks>50:\r\n",
        "      print(\"Grade is C\")\r\n",
        "    elif self.marks<=50 and self.marks>40:\r\n",
        "      print(\"Grade is C+\")\r\n",
        "    else:\r\n",
        "      print(\"Grade is F\")"
      ],
      "execution_count": 13,
      "outputs": []
    },
    {
      "cell_type": "code",
      "metadata": {
        "colab": {
          "base_uri": "https://localhost:8080/",
          "height": 0
        },
        "id": "-iA0bnbV2mbC",
        "outputId": "3de05e66-a92f-432d-d3f9-23c178047496"
      },
      "source": [
        "g=Grade(56)\r\n",
        "g.calc()"
      ],
      "execution_count": 14,
      "outputs": [
        {
          "output_type": "stream",
          "text": [
            "Grade is C\n"
          ],
          "name": "stdout"
        }
      ]
    },
    {
      "cell_type": "code",
      "metadata": {
        "id": "zt0O28da3Pci"
      },
      "source": [
        "#Create a BookStore class in Python\r\n",
        "class BookStore:\r\n",
        "    num = 0\r\n",
        " \r\n",
        "    def __init__(self, title, author):\r\n",
        "        self.title = title\r\n",
        "        self.author = author\r\n",
        "        BookStore.num=BookStore.num+1\r\n",
        " \r\n",
        "    def bookinfo(self):\r\n",
        "        print(\"Book title:\", self.title)\r\n",
        "        print(\"*******************************\\nBook author:\", self.author,\"\\n\")\r\n",
        " "
      ],
      "execution_count": 19,
      "outputs": []
    },
    {
      "cell_type": "code",
      "metadata": {
        "colab": {
          "base_uri": "https://localhost:8080/"
        },
        "id": "KOi3MEwz3ewt",
        "outputId": "8046979b-37e5-4e58-b45a-e221be9ae4b4"
      },
      "source": [
        "# Create a virtual book store\r\n",
        "b1 = BookStore(\"Percy Jackson\", \"Rick Riordan\")\r\n",
        "b2 = BookStore(\"Harry Potter\", \"JK Rowling\")\r\n",
        "b3 = BookStore(\"A Thousand Splendid Suns\", \"Khaled Housseni\")\r\n",
        "b4 = BookStore(\"The Sialkot Saga\", \"Ashwini Singh\")\r\n",
        "b5 = BookStore(\"The Immortals of Meluha\", \"AMISH\")\r\n",
        "b1.bookinfo()\r\n",
        "b2.bookinfo()\r\n",
        "b3.bookinfo()\r\n",
        "b4.bookinfo()\r\n",
        "b5.bookinfo()\r\n",
        "print(\"Total number of books:\", BookStore.num)"
      ],
      "execution_count": 20,
      "outputs": [
        {
          "output_type": "stream",
          "text": [
            "Book title: Percy Jackson\n",
            "*******************************\n",
            "Book author: Rick Riordan \n",
            "\n",
            "Book title: Harry Potter\n",
            "*******************************\n",
            "Book author: JK Rowling \n",
            "\n",
            "Book title: A Thousand Splendid Suns\n",
            "*******************************\n",
            "Book author: Khaled Housseni \n",
            "\n",
            "Book title: The Sialkot Saga\n",
            "*******************************\n",
            "Book author: Ashwini Singh \n",
            "\n",
            "Book title: The Immortals of Meluha\n",
            "*******************************\n",
            "Book author: AMISH \n",
            "\n",
            "Total number of books: 5\n"
          ],
          "name": "stdout"
        }
      ]
    }
  ]
}