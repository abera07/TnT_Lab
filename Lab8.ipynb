{
  "nbformat": 4,
  "nbformat_minor": 0,
  "metadata": {
    "colab": {
      "name": "Lab8.ipynb",
      "provenance": []
    },
    "kernelspec": {
      "name": "python3",
      "display_name": "Python 3"
    }
  },
  "cells": [
    {
      "cell_type": "markdown",
      "metadata": {
        "id": "8Emks4uYMJsF"
      },
      "source": [
        "###Ankita Bera, 1828229\r\n",
        "CSSE-4\r\n"
      ]
    },
    {
      "cell_type": "markdown",
      "metadata": {
        "id": "OiOSH1Qfkdw4"
      },
      "source": [
        "**Pattern Programs**"
      ]
    },
    {
      "cell_type": "code",
      "metadata": {
        "colab": {
          "base_uri": "https://localhost:8080/"
        },
        "id": "NlHA0xDkjEP-",
        "outputId": "3e702c88-f9e7-46c1-92ab-7428dbddabb8"
      },
      "source": [
        "#Pattern program\r\n",
        "\"\"\"Print the pattern:\r\n",
        "\r\n",
        "**********\r\n",
        "****  ****\r\n",
        "***    ***\r\n",
        "**      **\r\n",
        "*        *\r\n",
        "\"\"\"\r\n",
        "\r\n",
        "p=int(input(\"Enter the number of lines you want as input:\"))\r\n",
        "q=p\r\n",
        "x=p\r\n",
        "a=0\r\n",
        "for r in range(1,p+1):\r\n",
        "  \r\n",
        "  for c1 in range(0,q):\r\n",
        "    print(\"*\",end='')\r\n",
        "  q=q-1\r\n",
        "  for i in range(0,a):\r\n",
        "    print(\"  \",end='')\r\n",
        "  a=a+1\r\n",
        "  \r\n",
        "  for c2 in range(0,x):\r\n",
        "    print(\"*\",end='')\r\n",
        "  x=x-1\r\n",
        "  print(\"\\n\")"
      ],
      "execution_count": 2,
      "outputs": [
        {
          "output_type": "stream",
          "text": [
            "Enter the number of lines you want as input:5\n",
            "**********\n",
            "\n",
            "****  ****\n",
            "\n",
            "***    ***\n",
            "\n",
            "**      **\n",
            "\n",
            "*        *\n",
            "\n"
          ],
          "name": "stdout"
        }
      ]
    },
    {
      "cell_type": "code",
      "metadata": {
        "colab": {
          "base_uri": "https://localhost:8080/"
        },
        "id": "Eu6RXaIhmV4z",
        "outputId": "1f7594d9-9d7d-43c6-bf77-87f20236b955"
      },
      "source": [
        "#Function to check a number if it is Perfect or not\r\n",
        "def div(x):\r\n",
        "  l=[]\r\n",
        "  for i in range(1,x):\r\n",
        "    if x%i==0:\r\n",
        "      l.append(i)\r\n",
        "  return l\r\n",
        "\r\n",
        "def check_perfect(divisors,num):\r\n",
        "  r=0\r\n",
        "  for i in divisors:\r\n",
        "    r=r+i\r\n",
        "  if num==r:\r\n",
        "    print(f\"{num} is a perfect number.\")\r\n",
        "  else:\r\n",
        "    print(f\"{num} is not a perfect number.\")\r\n",
        "\r\n",
        "\r\n",
        "x=int(input(\"Enter a number:\"))\r\n",
        "list_of_divisors=div(x)\r\n",
        "check_perfect(list_of_divisors,x)"
      ],
      "execution_count": 3,
      "outputs": [
        {
          "output_type": "stream",
          "text": [
            "Enter a number:6\n",
            "6 is a perfect number.\n"
          ],
          "name": "stdout"
        }
      ]
    },
    {
      "cell_type": "code",
      "metadata": {
        "colab": {
          "base_uri": "https://localhost:8080/"
        },
        "id": "h7DD5B5doxZ7",
        "outputId": "97235310-1aa2-4799-d923-abe70c88ab2e"
      },
      "source": [
        "#Function to check a number if it is Armstrong or not\r\n",
        "def check_armstrong(num):\r\n",
        "    sum = 0\r\n",
        "\r\n",
        "\r\n",
        "    temp = num\r\n",
        "    while temp > 0:\r\n",
        "        digit = temp % 10\r\n",
        "        sum += digit ** 3\r\n",
        "        temp //= 10\r\n",
        "\r\n",
        "\r\n",
        "    if num == sum:\r\n",
        "        print(num,\"is an Armstrong number!\")\r\n",
        "    else:\r\n",
        "        print(num,\"is not an Armstrong number!!\")\r\n",
        "\r\n",
        "\r\n",
        "num = int(input(\"Enter a number: \"))\r\n",
        "check_armstrong(num)"
      ],
      "execution_count": 4,
      "outputs": [
        {
          "output_type": "stream",
          "text": [
            "Enter a number: 153\n",
            "153 is an Armstrong number!\n"
          ],
          "name": "stdout"
        }
      ]
    },
    {
      "cell_type": "code",
      "metadata": {
        "colab": {
          "base_uri": "https://localhost:8080/"
        },
        "id": "WgphyFtwqZhT",
        "outputId": "a397dcb8-24c0-4050-d112-2f84e33670a2"
      },
      "source": [
        "#Function to covert Centigrade to Farenheit\r\n",
        "def to_far(c):\r\n",
        "  f=float(((9*c)/5.0)+32)\r\n",
        "  print(f\"It is {f} Farenheit\")\r\n",
        "\r\n",
        "x=int(input(\"Enter temperature in Celcius:\"))\r\n",
        "to_far(x)"
      ],
      "execution_count": 5,
      "outputs": [
        {
          "output_type": "stream",
          "text": [
            "Enter temperature in Celcius:23\n",
            "It is 73.4 Farenheit\n"
          ],
          "name": "stdout"
        }
      ]
    },
    {
      "cell_type": "code",
      "metadata": {
        "colab": {
          "base_uri": "https://localhost:8080/"
        },
        "id": "VJ7jp6mirTNB",
        "outputId": "f60de23d-ab58-4e9f-f197-4c55f509ddea"
      },
      "source": [
        "#Function to calculate TSA of a cuboid\r\n",
        "def cuboid( x,y,z):\r\n",
        "  surf_ar=2.0*(x+y+z)\r\n",
        "  float(surf_ar)\r\n",
        "  return surf_ar\r\n",
        "\r\n",
        "print(\"Enter the dimensions of the cuboid\")\r\n",
        "x=float(input(\"x:\"))\r\n",
        "y=float(input(\"y:\"))\r\n",
        "z=float(input(\"z:\"))\r\n",
        "tsa=cuboid(x,y,z)\r\n",
        "print(f\"Total surface are is {tsa} sq units \")"
      ],
      "execution_count": 6,
      "outputs": [
        {
          "output_type": "stream",
          "text": [
            "Enter the dimensions of the cuboid\n",
            "x:3.5\n",
            "y:4\n",
            "z:2\n",
            "Total surface are is 19.0 sq units \n"
          ],
          "name": "stdout"
        }
      ]
    },
    {
      "cell_type": "code",
      "metadata": {
        "colab": {
          "base_uri": "https://localhost:8080/"
        },
        "id": "JNSLrFdBveEK",
        "outputId": "581d48aa-0209-4e94-fbcc-ca3c58e371c3"
      },
      "source": [
        "#Pattern\r\n",
        "x=int(input(\"Enter a number:\"))\r\n",
        "my_list=[]\r\n",
        "for i in range(0,x+1):\r\n",
        "  my_list.append(i)\r\n",
        "l=list(filter(lambda x:(x%2==1),my_list))\r\n",
        "print(l)\r\n",
        "\r\n",
        "a=len(l)\r\n",
        "\r\n",
        "for r in l:\r\n",
        "  for i in range(1,a+1):\r\n",
        "    print(\"   \",end='')\r\n",
        "  a=a-1\r\n",
        "  for j in range(1,r+1):\r\n",
        "    print(r,' ',end='')\r\n",
        "  print(\"\\n\")  "
      ],
      "execution_count": 7,
      "outputs": [
        {
          "output_type": "stream",
          "text": [
            "Enter a number:5\n",
            "[1, 3, 5]\n",
            "         1  \n",
            "\n",
            "      3  3  3  \n",
            "\n",
            "   5  5  5  5  5  \n",
            "\n"
          ],
          "name": "stdout"
        }
      ]
    },
    {
      "cell_type": "code",
      "metadata": {
        "colab": {
          "base_uri": "https://localhost:8080/"
        },
        "id": "GPVFEmams3zX",
        "outputId": "eba34b66-59f8-4ab6-8cf5-b919e45e68d4"
      },
      "source": [
        "#Pattern\r\n",
        "p=int(input(\"Enter the number of lines you want as input:\"))\r\n",
        "q=p\r\n",
        "x=p\r\n",
        "a=0\r\n",
        "for r in range(1,p+1):\r\n",
        "  \r\n",
        "  for c1 in range(0,q):\r\n",
        "    print(\"*\",end='')\r\n",
        "  q=q-1\r\n",
        "  for i in range(0,a):\r\n",
        "    print(\"  \",end='')\r\n",
        "  a=a+1\r\n",
        "  \r\n",
        "  for c2 in range(0,x):\r\n",
        "    print(\"*\",end='')\r\n",
        "  x=x-1\r\n",
        "  print(\"\\n\")\r\n",
        "a=p-1\r\n",
        "for r in range(1,p+1):\r\n",
        "  for c1 in range(1,r+1):\r\n",
        "    print(\"*\",end='')\r\n",
        "  for i in range(0,a):\r\n",
        "    print(\"  \",end='')\r\n",
        "  a=a-1\r\n",
        "  for c2 in range(1,r+1):\r\n",
        "    print(\"*\",end='')\r\n",
        "  print('\\n')"
      ],
      "execution_count": 8,
      "outputs": [
        {
          "output_type": "stream",
          "text": [
            "Enter the number of lines you want as input:5\n",
            "**********\n",
            "\n",
            "****  ****\n",
            "\n",
            "***    ***\n",
            "\n",
            "**      **\n",
            "\n",
            "*        *\n",
            "\n",
            "*        *\n",
            "\n",
            "**      **\n",
            "\n",
            "***    ***\n",
            "\n",
            "****  ****\n",
            "\n",
            "**********\n",
            "\n"
          ],
          "name": "stdout"
        }
      ]
    },
    {
      "cell_type": "code",
      "metadata": {
        "colab": {
          "base_uri": "https://localhost:8080/"
        },
        "id": "KbB3AkuVxVgO",
        "outputId": "7528bf47-b81e-4dad-de13-f7b45a2e61b4"
      },
      "source": [
        "#Pattern\r\n",
        "start=65\r\n",
        "end=start\r\n",
        "loop=int(input(\"How many times do you want the loop to run?\"))\r\n",
        "a=loop\r\n",
        "for i in range(1,loop+1):\r\n",
        "  for j in range(1,a):\r\n",
        "    print(\" \",end='')\r\n",
        "  a=a-1\r\n",
        "  \r\n",
        "  for k in range(start,end+1):\r\n",
        "    print(chr(k),end='')\r\n",
        "  end=end+2\r\n",
        "  print(\"\\n\")"
      ],
      "execution_count": 9,
      "outputs": [
        {
          "output_type": "stream",
          "text": [
            "How many times do you want the loop to run?5\n",
            "    A\n",
            "\n",
            "   ABC\n",
            "\n",
            "  ABCDE\n",
            "\n",
            " ABCDEFG\n",
            "\n",
            "ABCDEFGHI\n",
            "\n"
          ],
          "name": "stdout"
        }
      ]
    },
    {
      "cell_type": "code",
      "metadata": {
        "colab": {
          "base_uri": "https://localhost:8080/"
        },
        "id": "FMR7ARo00IFO",
        "outputId": "f24121bd-54e3-441b-fc3a-a337c5854251"
      },
      "source": [
        "def binary(num):\r\n",
        "        if num >= 1:\r\n",
        "            binary(num // 2)\r\n",
        "            print((num%2),end='')\r\n",
        "binary(88)"
      ],
      "execution_count": 11,
      "outputs": [
        {
          "output_type": "stream",
          "text": [
            "1011000"
          ],
          "name": "stdout"
        }
      ]
    },
    {
      "cell_type": "code",
      "metadata": {
        "colab": {
          "base_uri": "https://localhost:8080/"
        },
        "id": "n1Wm-F9D03_9",
        "outputId": "218b3daf-f25a-4a3f-84c4-a9a2fdb51350"
      },
      "source": [
        "#Convert an input to ASCII value\r\n",
        "def to_ascii(x):\r\n",
        "  l=[ord(c) for c in x]\r\n",
        "  return l\r\n",
        "\r\n",
        "a=input(\"Enter anything:\")\r\n",
        "list_of_ascii=to_ascii(a)\r\n",
        "print(list_of_ascii)"
      ],
      "execution_count": 12,
      "outputs": [
        {
          "output_type": "stream",
          "text": [
            "Enter anything:Ankita Bera @@\n",
            "[65, 110, 107, 105, 116, 97, 32, 66, 101, 114, 97, 32, 64, 64]\n"
          ],
          "name": "stdout"
        }
      ]
    },
    {
      "cell_type": "code",
      "metadata": {
        "colab": {
          "base_uri": "https://localhost:8080/"
        },
        "id": "yKrh08hG1fAA",
        "outputId": "5ea5fae8-f506-4225-d459-22903bbecc17"
      },
      "source": [
        "#Find the LCM of 2 numbers.\r\n",
        "def find_lcm(x,y):\r\n",
        "  m1=min(x,y)\r\n",
        "  print(m1)\r\n",
        "  m2=max(x,y)\r\n",
        "  print(m2)\r\n",
        "  low=1\r\n",
        "  \r\n",
        "  for i in range(2,m1+1):\r\n",
        "    if m1%i==0:\r\n",
        "      for j in range(2,m2+1):\r\n",
        "        if m2%j==0:\r\n",
        "          if i==j:\r\n",
        "            low=i\r\n",
        "  \r\n",
        "  print(\"The lowest common factor is:\",low)\r\n",
        "\r\n",
        "\r\n",
        "\r\n",
        "find_lcm(17,20)"
      ],
      "execution_count": 13,
      "outputs": [
        {
          "output_type": "stream",
          "text": [
            "17\n",
            "20\n",
            "The lowest common factor is: 1\n"
          ],
          "name": "stdout"
        }
      ]
    },
    {
      "cell_type": "code",
      "metadata": {
        "colab": {
          "base_uri": "https://localhost:8080/"
        },
        "id": "xfCZJVcK1-93",
        "outputId": "bf3d4178-02cc-4069-bb94-5e019f3d15c6"
      },
      "source": [
        "#Home Assignment: Find the HCF of 2 numbers.\r\n",
        "def find_hcf(x,y):\r\n",
        "  m1=max(x,y)\r\n",
        "  m2=min(x,y)\r\n",
        "  high=[]\r\n",
        "  for i in range(m1,0,-1):\r\n",
        "    if m1%i==0:\r\n",
        "      for j in range(m2,0,-1):\r\n",
        "        if m2%j==0:\r\n",
        "          if i==j:\r\n",
        "            high.append(i)\r\n",
        "\r\n",
        "  print(\"Highest common factor is:\",high[0])\r\n",
        "\r\n",
        "find_hcf(72,45)"
      ],
      "execution_count": 14,
      "outputs": [
        {
          "output_type": "stream",
          "text": [
            "Highest common factor is: 9\n"
          ],
          "name": "stdout"
        }
      ]
    }
  ]
}