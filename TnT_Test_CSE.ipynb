{
  "nbformat": 4,
  "nbformat_minor": 0,
  "metadata": {
    "colab": {
      "name": "TnT_Test_CSE.ipynb",
      "provenance": []
    },
    "kernelspec": {
      "name": "python3",
      "display_name": "Python 3"
    }
  },
  "cells": [
    {
      "cell_type": "code",
      "metadata": {
        "colab": {
          "base_uri": "https://localhost:8080/"
        },
        "id": "3KGm90RO5Pud",
        "outputId": "dea0dd7a-e9b5-4361-c9ac-995d6d1fb05e"
      },
      "source": [
        "\"\"\"\" Function to find whether a number is even or odd \"\"\"\"\r\n",
        "\r\n",
        "def num(x):\r\n",
        "  if x%2==0:\r\n",
        "    print(\"The number is even\")\r\n",
        "  else:\r\n",
        "    print(\"The number is odd\")\r\n",
        "num(11203)"
      ],
      "execution_count": null,
      "outputs": [
        {
          "output_type": "stream",
          "text": [
            "The number is odd\n"
          ],
          "name": "stdout"
        }
      ]
    },
    {
      "cell_type": "code",
      "metadata": {
        "colab": {
          "base_uri": "https://localhost:8080/"
        },
        "id": "eD0bwOKW5kLx",
        "outputId": "b44489ff-5fa6-4f57-e35e-7c4b688dd0fb"
      },
      "source": [
        "\"\"\" Define a List with couple of items and do the below\r\n",
        "a)Change the last item in your list\r\n",
        "b)Remove the 3rd item from your list\r\n",
        "c)sort your list on descending\r\n",
        "d)Change the second value in your list by replacing it with 2 new values.\r\n",
        "e)Add a new item in the 3rd index without replacing any of the values. \"\"\"\r\n",
        "\r\n",
        "import random\r\n",
        "\r\n",
        "l=random.sample(range(0,100),10)\r\n",
        "print(l)"
      ],
      "execution_count": null,
      "outputs": [
        {
          "output_type": "stream",
          "text": [
            "[55, 26, 29, 68, 39, 25, 0, 99, 16, 97]\n"
          ],
          "name": "stdout"
        }
      ]
    },
    {
      "cell_type": "code",
      "metadata": {
        "colab": {
          "base_uri": "https://localhost:8080/"
        },
        "id": "CFjf6nxX6Sq2",
        "outputId": "ab6f19a4-315f-4970-e877-63c59e5ff649"
      },
      "source": [
        "l[9]=int(input(\"Enter a number of your choice to change the last item of the list:\"))\r\n",
        "print(\"Updated list:\\n\",l)"
      ],
      "execution_count": null,
      "outputs": [
        {
          "output_type": "stream",
          "text": [
            "Enter a number of your choice to change the last item of the list:78\n",
            "Updated list:\n",
            " [55, 26, 29, 68, 39, 25, 0, 99, 16, 78]\n"
          ],
          "name": "stdout"
        }
      ]
    },
    {
      "cell_type": "code",
      "metadata": {
        "colab": {
          "base_uri": "https://localhost:8080/"
        },
        "id": "s7Hd4U0P7M4u",
        "outputId": "c1475f4d-e60c-4f40-eeb9-5c0f649ac87d"
      },
      "source": [
        "del(l[2])\r\n",
        "print(\"Updated list after deletion\",l)"
      ],
      "execution_count": null,
      "outputs": [
        {
          "output_type": "stream",
          "text": [
            "Updated list after deletion [55, 26, 68, 39, 25, 0, 99, 16, 78]\n"
          ],
          "name": "stdout"
        }
      ]
    },
    {
      "cell_type": "code",
      "metadata": {
        "id": "Q9scq3I07YKZ"
      },
      "source": [
        "l.sort(reverse=True)"
      ],
      "execution_count": null,
      "outputs": []
    },
    {
      "cell_type": "code",
      "metadata": {
        "colab": {
          "base_uri": "https://localhost:8080/"
        },
        "id": "Iy_l0FMR7emS",
        "outputId": "dbcbda9c-3f93-4b41-dfb5-3cff2fb85f8b"
      },
      "source": [
        "print(\"Updated list in descending order:\",l)"
      ],
      "execution_count": null,
      "outputs": [
        {
          "output_type": "stream",
          "text": [
            "Updated list in descending order: [99, 78, 68, 55, 39, 26, 25, 16, 0]\n"
          ],
          "name": "stdout"
        }
      ]
    },
    {
      "cell_type": "code",
      "metadata": {
        "colab": {
          "base_uri": "https://localhost:8080/"
        },
        "id": "-UxOCyz07gHl",
        "outputId": "9ee2633f-7ab9-4510-e242-bd07bef8e2b2"
      },
      "source": [
        "n=input(\"Enter two numbers:\").split()\r\n",
        "n=[int(i) for i in n]"
      ],
      "execution_count": null,
      "outputs": [
        {
          "output_type": "stream",
          "text": [
            "Enter two numbers:2 3\n"
          ],
          "name": "stdout"
        }
      ]
    },
    {
      "cell_type": "code",
      "metadata": {
        "colab": {
          "base_uri": "https://localhost:8080/"
        },
        "id": "ITAivywY8LYF",
        "outputId": "aa8d13cd-4d24-4c82-f593-a0289ce2125d"
      },
      "source": [
        "l[1]=n\r\n",
        "print(\"Updated list:\",l)"
      ],
      "execution_count": null,
      "outputs": [
        {
          "output_type": "stream",
          "text": [
            "Updated list: [99, [2, 3], 68, 55, 39, 26, 25, 16, 0]\n"
          ],
          "name": "stdout"
        }
      ]
    },
    {
      "cell_type": "code",
      "metadata": {
        "colab": {
          "base_uri": "https://localhost:8080/"
        },
        "id": "prFPRlhj8q7j",
        "outputId": "db8c7b9c-6d5c-4b90-fbd5-635c86429f7c"
      },
      "source": [
        "l.insert(2,325)\r\n",
        "print(\"Updated list:\",l)"
      ],
      "execution_count": null,
      "outputs": [
        {
          "output_type": "stream",
          "text": [
            "Updated list: [99, [2, 3], 325, 68, 55, 39, 26, 25, 16, 0]\n"
          ],
          "name": "stdout"
        }
      ]
    },
    {
      "cell_type": "code",
      "metadata": {
        "colab": {
          "base_uri": "https://localhost:8080/"
        },
        "id": "QbXlh2MU9blh",
        "outputId": "51c874be-5a88-4311-da8f-d13b3457b58c"
      },
      "source": [
        "\"\"\"Define a dictionary and do the below\r\n",
        "a) Print the key and values of items defined in your dictionary\r\n",
        "b)Add a new item to the original dictionary\r\n",
        "c)Check if a key exist in the dictionary\r\n",
        "d)Change value of a particular item\r\n",
        "e)Copy your dict to anotherr dict\r\n",
        "\"\"\"\r\n",
        "\r\n",
        "x={1:'Pathera tigris',2:'Panthera leo',3:'Panthera panthera',4:'Panthera pardus'}\r\n",
        "print(\"The keys and values of the dictionary:\",x)\r\n",
        "\r\n",
        "x.update({5:'Canis lupus'})\r\n",
        "print(\"Dictionary after addition of new item:\",x)\r\n",
        "\r\n",
        "y=int(input(\"The key that you want to check for:\"))\r\n",
        "\r\n",
        "if y in x==True:\r\n",
        "  print(\"The key is present in the dictionary.\")\r\n",
        "else:\r\n",
        "  print(\"The key does not exist in the dictionary.\")\r\n",
        "\r\n",
        "z=int(input(\"Enter the key you want to change:\"))\r\n",
        "a=input(\"Enter the value for the key:\")\r\n",
        "\r\n",
        "x.update({z:a})\r\n",
        "print(\"Update dictionary:\",x)\r\n",
        "\r\n",
        "print(\"Copying your dictionary to another...\")\r\n",
        "b=x.copy()\r\n",
        "print(f\"The new dictionary:{b}\")"
      ],
      "execution_count": null,
      "outputs": [
        {
          "output_type": "stream",
          "text": [
            "The keys and values of the dictionary: {1: 'Pathera tigris', 2: 'Panthera leo', 3: 'Panthera panthera', 4: 'Panthera pardus'}\n",
            "Dictionary after addition of new item: {1: 'Pathera tigris', 2: 'Panthera leo', 3: 'Panthera panthera', 4: 'Panthera pardus', 5: 'Canis lupus'}\n",
            "The key that you want to check for:7\n",
            "The key does not exist in the dictionary.\n",
            "Enter the key you want to change:4\n",
            "Enter the value for the key:Corvus splendens\n",
            "Update dictionary: {1: 'Pathera tigris', 2: 'Panthera leo', 3: 'Panthera panthera', 4: 'Corvus splendens', 5: 'Canis lupus'}\n",
            "Copying your dictionary to another...\n",
            "The new dictionary:{1: 'Pathera tigris', 2: 'Panthera leo', 3: 'Panthera panthera', 4: 'Corvus splendens', 5: 'Canis lupus'}\n"
          ],
          "name": "stdout"
        }
      ]
    },
    {
      "cell_type": "code",
      "metadata": {
        "colab": {
          "base_uri": "https://localhost:8080/"
        },
        "id": "qSCDZlwvA-FO",
        "outputId": "3908c5ff-0b99-44c6-ef99-af64f66a0c9e"
      },
      "source": [
        "\"\"\"\"Define 2 Set with some common items and do the following\r\n",
        "a)join both the set \r\n",
        "b)use update method to insert items from 2nd set to 1st set\r\n",
        "c)Find out the duplicates from the sets.\r\n",
        "d)Eliminate the duplicates from the sets.\r\n",
        "e)check if the 2 sets have a intersection or not\r\n",
        "\"\"\"\r\n",
        "\r\n",
        "set1 = {100,99,98}\r\n",
        "set2 = {1, 2, 3}\r\n",
        "set3= set1.union(set2)\r\n",
        "print(f\"The new set is: {set3}\")\r\n",
        "\r\n",
        "#update method\r\n",
        "set1.update(set2)\r\n",
        "print(f\"Updated the first set with the values of the second:{set1}\")\r\n",
        "\r\n",
        "x={1,2,3,4,5,7,8}\r\n",
        "\r\n",
        "for i in x:\r\n",
        "  for j in set3:\r\n",
        "    if i==j:\r\n",
        "      print(f\"Duplicate found:{i}\")\r\n",
        "\r\n",
        "#removing duplicates\r\n",
        "a=x.copy()\r\n",
        "for i in a:\r\n",
        "  for j in set3:\r\n",
        "    if i==j:\r\n",
        "      x.discard(i)\r\n",
        "\r\n",
        "print(\"Updated set:\",x)\r\n",
        "\r\n",
        "y = {\"c\", \"d\", \"e\"}\r\n",
        "z = {\"f\", \"g\", \"c\",\"e\"}\r\n",
        "\r\n",
        "print(f\"Printing intersections of sets: {y} and {z}\")\r\n",
        "\r\n",
        "result = y.intersection(z)\r\n",
        "\r\n",
        "print(\"The intersection is:\",result)"
      ],
      "execution_count": null,
      "outputs": [
        {
          "output_type": "stream",
          "text": [
            "The new set is: {1, 98, 99, 100, 2, 3}\n",
            "Updated the first set with the values of the second:{1, 98, 99, 100, 2, 3}\n",
            "Duplicate found:1\n",
            "Duplicate found:2\n",
            "Duplicate found:3\n",
            "Updated set: {4, 5, 7, 8}\n",
            "Printing intersections of sets: {'d', 'e', 'c'} and {'g', 'c', 'e', 'f'}\n",
            "The intersection is: {'e', 'c'}\n"
          ],
          "name": "stdout"
        }
      ]
    },
    {
      "cell_type": "code",
      "metadata": {
        "colab": {
          "base_uri": "https://localhost:8080/"
        },
        "id": "_zVPY8jYDdmP",
        "outputId": "07af414c-75ad-4658-95a8-abf633c2b4c3"
      },
      "source": [
        "\"\"\"Take a string and perform below action for the string\r\n",
        "a)Check a particular word's existence in your string.\r\n",
        "b)Count the number of letters in your string\r\n",
        "c)Replace a particular word with another word\r\n",
        "d)Convert all to uppercase\r\n",
        "e)print all letters except last 1\r\n",
        "\r\n",
        "\"\"\"\r\n",
        "\r\n",
        "s=str(input(\"Enter a string:\"))\r\n",
        "word=str(input(\"Enter the word you want to search for:\"))\r\n",
        "\r\n",
        "if word in s:\r\n",
        "  printb(\"The sentence does contain the word\")\r\n",
        "  \r\n",
        "  \r\n",
        "else:\r\n",
        "  print(\"The sentence does not contain the word\")\r\n"
      ],
      "execution_count": null,
      "outputs": [
        {
          "output_type": "stream",
          "text": [
            "Enter a string:I like blue, do you?\n",
            "Enter the word you want to search for:blue\n",
            "The sentence does contain the word\n"
          ],
          "name": "stdout"
        }
      ]
    },
    {
      "cell_type": "code",
      "metadata": {
        "colab": {
          "base_uri": "https://localhost:8080/"
        },
        "id": "XquM0upqcx6u",
        "outputId": "a9dd3f5e-0e77-4a31-f755-c9b6003d1aea"
      },
      "source": [
        "#Counting letters\r\n",
        "s=str(input(\"Enter a string:\"))\r\n",
        "count=0\r\n",
        "for i in s:\r\n",
        "  if i.isalpha()==True:\r\n",
        "    count=count+1\r\n",
        "\r\n",
        "print(\"The number of letters in the string:\",count)"
      ],
      "execution_count": null,
      "outputs": [
        {
          "output_type": "stream",
          "text": [
            "Enter a string:Ankita 101 Bera\n",
            "The number of letters in the string: 10\n"
          ],
          "name": "stdout"
        }
      ]
    },
    {
      "cell_type": "code",
      "metadata": {
        "colab": {
          "base_uri": "https://localhost:8080/"
        },
        "id": "7jonl9Gzeggs",
        "outputId": "0ef04326-14f6-4b19-cd75-828ed1215eb1"
      },
      "source": [
        "s=str(input(\"Enter a string:\"))\r\n",
        "#Replacing a word\r\n",
        "\r\n",
        "rep=str(input(\"Enter the word which you wanna replace:\"))\r\n",
        "word=str(input(\"Enter a word to replace the word:\"))\r\n",
        "\r\n",
        "s=s.replace(rep,word)\r\n",
        "\r\n",
        "print(\"The new string will be:\",s)"
      ],
      "execution_count": null,
      "outputs": [
        {
          "output_type": "stream",
          "text": [
            "Enter a string:I like blue\n",
            "Enter the word which you wanna replace:blue\n",
            "Enter a word to replace the word:purple\n",
            "The new string will be: I like purple\n"
          ],
          "name": "stdout"
        }
      ]
    },
    {
      "cell_type": "code",
      "metadata": {
        "colab": {
          "base_uri": "https://localhost:8080/"
        },
        "id": "cqIopWKlfQX4",
        "outputId": "f3e96e20-ae52-44e3-9303-83e7d62e25c1"
      },
      "source": [
        "s=s.upper()\r\n",
        "print(\"Converted string to uppercase:\",s)\r\n",
        "\r\n",
        "for i in range(0,(len(s)-1)):\r\n",
        "  if s[i].isalpha()==True:\r\n",
        "    print(s[i],end='') #printed all letters except the last one"
      ],
      "execution_count": null,
      "outputs": [
        {
          "output_type": "stream",
          "text": [
            "Converted string to uppercase: I LIKE PURPLE\n",
            "ILIKEPURPL"
          ],
          "name": "stdout"
        }
      ]
    },
    {
      "cell_type": "code",
      "metadata": {
        "id": "50D0gUR7fo20"
      },
      "source": [
        "#inheritance in python\r\n",
        "import datetime\r\n",
        "class Parent:\r\n",
        "  def __init__(self,fname,lname,dob):\r\n",
        "    self.fname=fname\r\n",
        "    self.lname=lname\r\n",
        "    self.dob=dob\r\n",
        "  def show(self):\r\n",
        "    print(f\"Your first name is {self.fname}, your last name is {self.lname}\\nDate of birth:{self.dob}\")\r\n"
      ],
      "execution_count": null,
      "outputs": []
    },
    {
      "cell_type": "code",
      "metadata": {
        "id": "kjiMyje_VOtW"
      },
      "source": [
        "class Child(Parent):\r\n",
        "\r\n",
        "  def __init__(self,fname,dob):\r\n",
        "    self.fname=fname\r\n",
        "    self.dob=dob\r\n",
        "      \r\n",
        "      \r\n",
        "  def show(self):\r\n",
        "    print(\"Your name is:\",self.fname,\"\\nPriniting details of your parents...\")\r\n"
      ],
      "execution_count": 18,
      "outputs": []
    },
    {
      "cell_type": "code",
      "metadata": {
        "colab": {
          "base_uri": "https://localhost:8080/"
        },
        "id": "Qo8WcKICXZYO",
        "outputId": "4542f24a-ce6d-4236-9892-6fe09e845785"
      },
      "source": [
        "n1,n2=input(\"Enter your name:\").split()\r\n",
        "n3=input(\"Child's name:\")\r\n",
        "y1,m1,d1=input(\"Enter your date of birth:Y/M/D:\").split('/')\r\n",
        "y1=int(y1)\r\n",
        "m1=int(m1)\r\n",
        "d1=int(d1)\r\n",
        "dob1=datetime.datetime(y1,m1,d1)\r\n",
        "y2,m2,d2=input(\"Enter your date of birth of child:Y/M/D:\").split('/')\r\n",
        "y2=int(y2)\r\n",
        "m2=int(m2)\r\n",
        "d2=int(d2)\r\n",
        "dob2=datetime.datetime(y2,m2,d2)\r\n",
        "x=Parent(n1,n2,dob1)\r\n",
        "x.show()\r\n",
        "y=Child(n3,dob2)\r\n",
        "y.show()"
      ],
      "execution_count": 20,
      "outputs": [
        {
          "output_type": "stream",
          "text": [
            "Enter your name:Minato Namikaze\n",
            "Child's name:Naruto\n",
            "Enter your date of birth:Y/M/D:1970/04/12\n",
            "Enter your date of birth of child:Y/M/D:1999/10/10\n",
            "Your first name is Minato, your last name is Namikaze\n",
            "Date of birth:1970-04-12 00:00:00\n",
            "Your name is: Naruto \n",
            "Priniting details of your parents...\n"
          ],
          "name": "stdout"
        }
      ]
    },
    {
      "cell_type": "code",
      "metadata": {
        "id": "elMKV5oRYXI1",
        "colab": {
          "base_uri": "https://localhost:8080/"
        },
        "outputId": "4586b33b-5ce2-445f-b90c-3fdc9df00416"
      },
      "source": [
        "\"\"\"5. Define a Tuple with couple of items and do the below \r\n",
        "a)Add a new item to the Tuple\r\n",
        "b)Remove the 2nd item from the tuple\r\n",
        "c)Unpack the tuple to different variables.\r\n",
        "d)From your list items, upack last 3 items to a single variable.\r\n",
        "\"\"\"\r\n",
        "tup=(1,2,3,8,9,10,23,52,85,22)\r\n",
        "print(\"Operating with tuple:\",tup)\r\n",
        "#adding new element\r\n",
        "tup=tup+(9,)\r\n",
        "print(\"New tuple is:\",tup)\r\n",
        "\r\n",
        "#specified index\r\n",
        "tup = tup[:5] + (15, 20, 25) + tup[5:]\r\n",
        "print(\"New tuple is:\",tup)\r\n",
        "\r\n",
        "l=list(tup)\r\n",
        "l.remove(52)\r\n",
        "tup=tuple(l)\r\n",
        "print(\"New tuple is:\",tup)\r\n",
        "\r\n",
        "t=(1,2,3,4)\r\n",
        "print(\"Operating with tuple:\",t)\r\n",
        "n1, n2, n3, n4=t\r\n",
        "print(f\"Unpacked first 4 items of tuple into variables n1={n1},n2={n2},n3={n3},n4={n4}\")\r\n",
        "\r\n",
        "l=list(tup)\r\n",
        "print(\"Converted 1st tuple into list:\",l)\r\n",
        "\r\n",
        "x,y,z=l[-3:]\r\n",
        "\r\n",
        "print(f\"Unpacked last 3 items of tuple into variables x={x},y={y},z={z}\")"
      ],
      "execution_count": 3,
      "outputs": [
        {
          "output_type": "stream",
          "text": [
            "Operating with tuple: (1, 2, 3, 8, 9, 10, 23, 52, 85, 22)\n",
            "New tuple is: (1, 2, 3, 8, 9, 10, 23, 52, 85, 22, 9)\n",
            "New tuple is: (1, 2, 3, 8, 9, 15, 20, 25, 10, 23, 52, 85, 22, 9)\n",
            "New tuple is: (1, 2, 3, 8, 9, 15, 20, 25, 10, 23, 85, 22, 9)\n",
            "Operating with tuple: (1, 2, 3, 4)\n",
            "Unpacked first 4 items of tuple into variables n1=1,n2=2,n3=3,n4=4\n",
            "Converted 1st tuple into list: [1, 2, 3, 8, 9, 15, 20, 25, 10, 23, 85, 22, 9]\n",
            "Unpacked last 3 items of tuple into variables x=85,y=22,z=9\n"
          ],
          "name": "stdout"
        }
      ]
    }
  ]
}