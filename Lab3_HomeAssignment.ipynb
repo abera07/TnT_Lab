{
  "nbformat": 4,
  "nbformat_minor": 0,
  "metadata": {
    "colab": {
      "name": "Lab3_HomeAssignment.ipynb",
      "provenance": []
    },
    "kernelspec": {
      "name": "python3",
      "display_name": "Python 3"
    }
  },
  "cells": [
    {
      "cell_type": "code",
      "metadata": {
        "colab": {
          "base_uri": "https://localhost:8080/"
        },
        "id": "QyL93gGMmsli",
        "outputId": "df43b691-3444-494c-b0cd-6f8a4b8099b1"
      },
      "source": [
        "#Write a Python program to check whether a list contains a sublist.\r\n",
        "l=['a',12,'google',[5,6,7],'youtube',2.3]\r\n",
        "\r\n",
        "flag=0\r\n",
        "for i in l:\r\n",
        "  print(type(i))\r\n",
        "  if type(i)==list:\r\n",
        "    flag=1\r\n",
        "    \r\n",
        "if flag==0:\r\n",
        "  print(\"The list does not contain another list\")\r\n",
        "else:\r\n",
        "  print(\"The list does contain a sublist.\")"
      ],
      "execution_count": 7,
      "outputs": [
        {
          "output_type": "stream",
          "text": [
            "<class 'str'>\n",
            "<class 'int'>\n",
            "<class 'str'>\n",
            "<class 'list'>\n",
            "<class 'str'>\n",
            "<class 'float'>\n",
            "The list does contain a sublist.\n"
          ],
          "name": "stdout"
        }
      ]
    },
    {
      "cell_type": "code",
      "metadata": {
        "colab": {
          "base_uri": "https://localhost:8080/"
        },
        "id": "5hpkfyTUoKaZ",
        "outputId": "acc63f0d-a859-46ff-d69a-7860adebf943"
      },
      "source": [
        "#Write a Python program to find common items from two lists.\r\n",
        "l1=['x', 'y', 'z']\r\n",
        "l2=['x', 'a', 'y', 'x', 'b', 'z']\r\n",
        "\r\n",
        "#any()\r\n",
        "check=any(item in l1 for item in l2)\r\n",
        "\r\n",
        "if check is True:\r\n",
        "  print(\"The list {} contains elements of list {}\".format(l1,l2))\r\n",
        "else:\r\n",
        "  print(\"The list {}, contains elements of list{}.\".format(l1,l2))"
      ],
      "execution_count": 10,
      "outputs": [
        {
          "output_type": "stream",
          "text": [
            "The list ['x', 'y', 'z'] contains elements of list ['x', 'a', 'y', 'x', 'b', 'z']\n"
          ],
          "name": "stdout"
        }
      ]
    },
    {
      "cell_type": "code",
      "metadata": {
        "colab": {
          "base_uri": "https://localhost:8080/"
        },
        "id": "SSqrOlBvrmPR",
        "outputId": "1589e052-3f96-4d28-92ff-b6e6625d4102"
      },
      "source": [
        "for i in range(len(l1)):\r\n",
        "  for j in range(len(l2)):\r\n",
        "    if l1[i]==l2[j]:\r\n",
        "      print(l1[i],end=' ')"
      ],
      "execution_count": 12,
      "outputs": [
        {
          "output_type": "stream",
          "text": [
            "x x y z "
          ],
          "name": "stdout"
        }
      ]
    },
    {
      "cell_type": "code",
      "metadata": {
        "colab": {
          "base_uri": "https://localhost:8080/"
        },
        "id": "UAO-S1CFs13A",
        "outputId": "02fe8dfb-4ca3-4f42-e9ce-520e2615f0cb"
      },
      "source": [
        "#Write a Python program to split a list of 20 elements after every 4th element\r\n",
        "import random\r\n",
        "a=random.sample(range(1,100),20)\r\n",
        "print(a,end=\" \")"
      ],
      "execution_count": 16,
      "outputs": [
        {
          "output_type": "stream",
          "text": [
            "[13, 52, 20, 73, 41, 82, 40, 30, 10, 63, 43, 69, 85, 66, 70, 86, 11, 95, 15, 83] "
          ],
          "name": "stdout"
        }
      ]
    },
    {
      "cell_type": "code",
      "metadata": {
        "colab": {
          "base_uri": "https://localhost:8080/"
        },
        "id": "W-ONMlQituGC",
        "outputId": "81c4ebed-96dc-456d-83d0-7fd6b329213a"
      },
      "source": [
        "a[::4]"
      ],
      "execution_count": 17,
      "outputs": [
        {
          "output_type": "execute_result",
          "data": {
            "text/plain": [
              "[13, 41, 10, 85, 11]"
            ]
          },
          "metadata": {
            "tags": []
          },
          "execution_count": 17
        }
      ]
    }
  ]
}