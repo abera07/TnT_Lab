{
  "nbformat": 4,
  "nbformat_minor": 0,
  "metadata": {
    "colab": {
      "name": "Lab5.ipynb",
      "provenance": []
    },
    "kernelspec": {
      "name": "python3",
      "display_name": "Python 3"
    }
  },
  "cells": [
    {
      "cell_type": "code",
      "metadata": {
        "colab": {
          "base_uri": "https://localhost:8080/"
        },
        "id": "xOqgu3EFIAtK",
        "outputId": "07305b07-ad83-4a01-bec4-1574d1eac76a"
      },
      "source": [
        "# Write a Python program to find the average of lowest 3 values in a dictionary.\r\n",
        "marks={'A':91,'B':87,'C':64,'D':71,'E':76,'F':34}\r\n",
        "\r\n",
        "m=sorted(marks.values())\r\n",
        "print(m)\r\n",
        "tot=0\r\n",
        "for i in range(3):\r\n",
        "  tot=tot+m[i]\r\n",
        "\r\n",
        "print(\"Average of the three lowest numbers: \",tot/3)"
      ],
      "execution_count": null,
      "outputs": [
        {
          "output_type": "stream",
          "text": [
            "[34, 64, 71, 76, 87, 91]\n",
            "Average of the three lowest numbers:  56.333333333333336\n"
          ],
          "name": "stdout"
        }
      ]
    },
    {
      "cell_type": "code",
      "metadata": {
        "colab": {
          "base_uri": "https://localhost:8080/"
        },
        "id": "fhWTEPN7Lehi",
        "outputId": "7b67219d-af6c-4581-a757-56fdebce96fd"
      },
      "source": [
        "#WAP TO PRINT A DICT WITH 8 KEYS, UPDATE THE MIDDLE KEY AND DELETE SECOND LAST KEY  FROM RIGHT\r\n",
        "\r\n",
        "d={'item1': 45.50, 'item2':35, 'item3': 41.30, 'item4':55, 'item5': 24,'item6': 67.50, 'item7':30, 'item8': 101}\r\n",
        "\r\n",
        "x=int(input(\"Enter new value for the middle key:\"))\r\n",
        "d.update({'item4':x})\r\n",
        "\r\n",
        "print(\"Deleting the second last key.\")\r\n",
        "d.pop('item7')\r\n",
        "\r\n",
        "print(\"New contents of the dictionary:\",d)"
      ],
      "execution_count": null,
      "outputs": [
        {
          "output_type": "stream",
          "text": [
            "Enter new value for the middle key:59\n",
            "Deleting the second last key.\n",
            "New contents of the dictionary: {'item1': 45.5, 'item2': 35, 'item3': 41.3, 'item4': 59, 'item5': 24, 'item6': 67.5, 'item8': 101}\n"
          ],
          "name": "stdout"
        }
      ]
    },
    {
      "cell_type": "code",
      "metadata": {
        "id": "cDDSS-bKMpAO",
        "colab": {
          "base_uri": "https://localhost:8080/"
        },
        "outputId": "825525c6-9d0d-49aa-f367-dc3325c0fbf1"
      },
      "source": [
        "#Write a Python program to get the frequency of the second last element  in a list.\r\n",
        "k=[1,1,2,3,4,5,6,8,8,5,4,5,6,7,4,2,1,3,4,8,5,2,1,1,1,1,1]\r\n",
        "\r\n",
        "freq={}\r\n",
        "\r\n",
        "for i in k: \r\n",
        "  if i in freq: \r\n",
        "      freq[i] += 1\r\n",
        "  else: \r\n",
        "      freq[i] = 1\r\n",
        "\r\n",
        "print(\"The second last element of the list:\",k[-2])\r\n",
        "\r\n",
        "for value,key in freq.items():\r\n",
        "  if key==k[-2]:\r\n",
        "    print(\"The frequency of the second last item:\",value)"
      ],
      "execution_count": 7,
      "outputs": [
        {
          "output_type": "stream",
          "text": [
            "The second last element of the list: 1\n",
            "The frequency of the second last item: 7\n"
          ],
          "name": "stdout"
        }
      ]
    }
  ]
}