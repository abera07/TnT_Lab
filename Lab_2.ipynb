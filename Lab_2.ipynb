{
  "nbformat": 4,
  "nbformat_minor": 0,
  "metadata": {
    "colab": {
      "name": "Lab 2.ipynb",
      "provenance": []
    },
    "kernelspec": {
      "name": "python3",
      "display_name": "Python 3"
    }
  },
  "cells": [
    {
      "cell_type": "code",
      "metadata": {
        "id": "FyFm7QZ5g9XI"
      },
      "source": [
        "import re"
      ],
      "execution_count": 4,
      "outputs": []
    },
    {
      "cell_type": "code",
      "metadata": {
        "colab": {
          "base_uri": "https://localhost:8080/",
          "height": 35
        },
        "id": "xd2qlUnvezVv",
        "outputId": "36424ec1-6cc7-4987-dc95-db4ee89c2be8"
      },
      "source": [
        "#WAP to Remove Characters in String Except Alphabets\r\n",
        "s=\"This is January of year 2021 and day 6\"\r\n",
        "re.sub('[^A-Za-z ]+', '', s)"
      ],
      "execution_count": 11,
      "outputs": [
        {
          "output_type": "execute_result",
          "data": {
            "application/vnd.google.colaboratory.intrinsic+json": {
              "type": "string"
            },
            "text/plain": [
              "'This is January of year  and day '"
            ]
          },
          "metadata": {
            "tags": []
          },
          "execution_count": 11
        }
      ]
    },
    {
      "cell_type": "code",
      "metadata": {
        "colab": {
          "base_uri": "https://localhost:8080/"
        },
        "id": "0whUHF8Hg5Sx",
        "outputId": "e4e8b901-eff0-4e3c-d4ee-e385e3ff0bd7"
      },
      "source": [
        "#WAP TO CHECK WHETHER STRING IS PALLINDROME OR NOT.\r\n",
        "s='malayalam'\r\n",
        "srev=s[::-1]\r\n",
        "if s==srev:\r\n",
        "  print(\"String is palindrome\")\r\n",
        "else:\r\n",
        "  print(\"Not palindrome\")"
      ],
      "execution_count": 12,
      "outputs": [
        {
          "output_type": "stream",
          "text": [
            "String is palindrome\n"
          ],
          "name": "stdout"
        }
      ]
    },
    {
      "cell_type": "code",
      "metadata": {
        "colab": {
          "base_uri": "https://localhost:8080/"
        },
        "id": "Y6f82jLNiLEu",
        "outputId": "5ad2df28-5583-4be8-96a6-b4f39cf64dc0"
      },
      "source": [
        "#WAP Tto sort strings in the dictionary order (lexicographically)\r\n",
        "s='It is a beautiful day outside'\r\n",
        "s=s.lower()\r\n",
        "words=s.split()\r\n",
        "words.sort()\r\n",
        "\r\n",
        "print(\"The sorted words are:\")\r\n",
        "for i in words:\r\n",
        "   print(i)"
      ],
      "execution_count": 19,
      "outputs": [
        {
          "output_type": "stream",
          "text": [
            "The sorted words are:\n",
            "a\n",
            "beautiful\n",
            "day\n",
            "is\n",
            "it\n",
            "outside\n"
          ],
          "name": "stdout"
        }
      ]
    },
    {
      "cell_type": "code",
      "metadata": {
        "id": "4aEqqaHZiqY3"
      },
      "source": [
        "#WAP to find the frequency of characters in a string\r\n",
        "s=\"The boa constrictor is found widely in this jungle\"\r\n",
        "freq = {} \r\n",
        "  \r\n",
        "for i in s: \r\n",
        "    if i in freq: \r\n",
        "        freq[i] += 1\r\n",
        "    else: \r\n",
        "        freq[i] = 1"
      ],
      "execution_count": 29,
      "outputs": []
    },
    {
      "cell_type": "code",
      "metadata": {
        "colab": {
          "base_uri": "https://localhost:8080/"
        },
        "id": "Rj3spPsUmGVf",
        "outputId": "5115bfe0-7564-406f-b09b-33dea6b4a3ea"
      },
      "source": [
        "print(freq)"
      ],
      "execution_count": 30,
      "outputs": [
        {
          "output_type": "stream",
          "text": [
            "{'T': 1, 'h': 2, 'e': 3, ' ': 8, 'b': 1, 'o': 4, 'a': 1, 'c': 2, 'n': 4, 's': 3, 't': 3, 'r': 2, 'i': 5, 'f': 1, 'u': 2, 'd': 2, 'w': 1, 'l': 2, 'y': 1, 'j': 1, 'g': 1}\n"
          ],
          "name": "stdout"
        }
      ]
    },
    {
      "cell_type": "code",
      "metadata": {
        "id": "Oohm3qlEmU9H"
      },
      "source": [
        "from collections import Counter\r\n",
        "freq2=Counter(s)"
      ],
      "execution_count": 31,
      "outputs": []
    },
    {
      "cell_type": "code",
      "metadata": {
        "colab": {
          "base_uri": "https://localhost:8080/"
        },
        "id": "DHrJfTynn1If",
        "outputId": "83aeac07-1c32-401d-ec8d-d4b7f5fa62a9"
      },
      "source": [
        "print(freq2)"
      ],
      "execution_count": 32,
      "outputs": [
        {
          "output_type": "stream",
          "text": [
            "Counter({' ': 8, 'i': 5, 'o': 4, 'n': 4, 'e': 3, 's': 3, 't': 3, 'h': 2, 'c': 2, 'r': 2, 'u': 2, 'd': 2, 'l': 2, 'T': 1, 'b': 1, 'a': 1, 'f': 1, 'w': 1, 'y': 1, 'j': 1, 'g': 1})\n"
          ],
          "name": "stdout"
        }
      ]
    }
  ]
}