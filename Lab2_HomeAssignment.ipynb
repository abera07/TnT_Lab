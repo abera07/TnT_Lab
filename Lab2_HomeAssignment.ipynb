{
  "nbformat": 4,
  "nbformat_minor": 0,
  "metadata": {
    "colab": {
      "name": "Untitled0.ipynb",
      "provenance": []
    },
    "kernelspec": {
      "name": "python3",
      "display_name": "Python 3"
    }
  },
  "cells": [
    {
      "cell_type": "code",
      "metadata": {
        "id": "W5--RBKmt8kv"
      },
      "source": [
        "#WAP TO Make a two-player Rock-Paper-Scissors game.\r\n",
        "def game(x,y):\r\n",
        "    if(x==\"Scissors\" and y==\"Paper\"):\r\n",
        "        print(\"Player 1 is the winner!\")\r\n",
        "    if(y==\"Scissors\" and x==\"Paper\"):\r\n",
        "        print(\"Player 2 is the winner!\")\r\n",
        "    if(x=='Rock'and y=='Scissors'):\r\n",
        "         print(\"Player 1 is the winner!\")\r\n",
        "    if(y=='Rock'and x=='Scissors'):\r\n",
        "        print(\"Player 2 is the winner!\")\r\n",
        "    if(x=='Paper' and y=='Rock'):\r\n",
        "        print(\"Player 1 is the winner!\")\r\n",
        "    if(x=='Rock' and y=='Paper'):\r\n",
        "         print(\"Player 2 is the winner!\")\r\n"
      ],
      "execution_count": 4,
      "outputs": []
    },
    {
      "cell_type": "code",
      "metadata": {
        "colab": {
          "base_uri": "https://localhost:8080/"
        },
        "id": "1_quj6zlFfyW",
        "outputId": "89dc9875-eead-4bdb-fab0-01787df3003a"
      },
      "source": [
        "i=0\r\n",
        "\r\n",
        "while i==0:\r\n",
        "    usera=input(\"Enter Rock, Paper or Scissors:\\n\")\r\n",
        "    userb=input(\"Enter Rock, Paper or Scissors:\\n \")\r\n",
        "    \r\n",
        "    game(usera,userb)\r\n",
        "    \r\n",
        "    i=int(input(\"Enter 1 to exit the game,0 to continue:\\n\"))\r\n",
        "    "
      ],
      "execution_count": 5,
      "outputs": [
        {
          "output_type": "stream",
          "text": [
            "Enter Rock, Paper or Scissors:\n",
            "Rock\n",
            "Enter Rock, Paper or Scissors:\n",
            " Paper\n",
            "Player 2 is the winner!\n",
            "Enter 1 to exit the game,0 to continue:\n",
            "0\n",
            "Enter Rock, Paper or Scissors:\n",
            "Paper\n",
            "Enter Rock, Paper or Scissors:\n",
            " Paper\n",
            "Enter 1 to exit the game,0 to continue:\n",
            "0\n",
            "Enter Rock, Paper or Scissors:\n",
            "Rock\n",
            "Enter Rock, Paper or Scissors:\n",
            " Scissors\n",
            "Player 1 is the winner!\n",
            "Enter 1 to exit the game,0 to continue:\n",
            "1\n"
          ],
          "name": "stdout"
        }
      ]
    },
    {
      "cell_type": "code",
      "metadata": {
        "colab": {
          "base_uri": "https://localhost:8080/"
        },
        "id": "hHcISggqFgFy",
        "outputId": "615c3e61-3501-46a9-a237-59ea62ea69f8"
      },
      "source": [
        "#WAP TO Copy String Without Using strcpy()\r\n",
        "s=input()\r\n",
        "\r\n",
        "s2= [None]*len(s)\r\n",
        "\r\n",
        "for i in range(len(s)):\r\n",
        "  s2[i]=s[i]\r\n",
        "\r\n",
        "print(str(s2))\r\n",
        "\r\n",
        "s3=s[:]\r\n",
        "print(s3)"
      ],
      "execution_count": 24,
      "outputs": [
        {
          "output_type": "stream",
          "text": [
            "Red\n",
            "['R', 'e', 'd']\n",
            "Red\n"
          ],
          "name": "stdout"
        }
      ]
    },
    {
      "cell_type": "code",
      "metadata": {
        "id": "PtMcy0bGGEtP"
      },
      "source": [
        "#Write a Python program to get a string made of the first 2 and the last 2 chars from a given a string. \r\n",
        "# If the string length is less than 2, return instead of the empty string.\r\n",
        "\r\n",
        "def fun(s):\r\n",
        "  if (len(s)<2):\r\n",
        "    return;\r\n",
        "  else:\r\n",
        "    r=s[0:2]+s[-2:]\r\n",
        "    print(r)"
      ],
      "execution_count": 18,
      "outputs": []
    },
    {
      "cell_type": "code",
      "metadata": {
        "colab": {
          "base_uri": "https://localhost:8080/"
        },
        "id": "9zPoi5skJh9J",
        "outputId": "44a81e5e-06ae-4c07-9ded-a82457001178"
      },
      "source": [
        "t=input(\"Enter string:\")\r\n",
        "fun(t)"
      ],
      "execution_count": 16,
      "outputs": [
        {
          "output_type": "stream",
          "text": [
            "Enter string:You only live once\n",
            "Yoce\n"
          ],
          "name": "stdout"
        }
      ]
    },
    {
      "cell_type": "code",
      "metadata": {
        "colab": {
          "base_uri": "https://localhost:8080/"
        },
        "id": "0On7-cAMJrVC",
        "outputId": "73ea91d0-53cc-4d12-a1b2-f5b9ca41b755"
      },
      "source": [
        "#Write a Python program to add 'ing' at the end of a given string (length should be at least 3). \r\n",
        "#If the given string already ends with 'ing' then add 'ly' instead. \r\n",
        "#If the string length of the given string is less than 3, leave it unchanged. \r\n",
        "\r\n",
        "s=input(\"Enter your string larger than 3 characters\")\r\n",
        "\r\n",
        "if len(s)>3:\r\n",
        "  if s[-3:]==\"ing\":\r\n",
        "    s=s+\"ly\"\r\n",
        "  else:\r\n",
        "    s=s+\"ing\"\r\n",
        "\r\n",
        "print(s)\r\n"
      ],
      "execution_count": 36,
      "outputs": [
        {
          "output_type": "stream",
          "text": [
            "Enter your string larger than 3 charactersplaying\n",
            "playingly\n"
          ],
          "name": "stdout"
        }
      ]
    },
    {
      "cell_type": "code",
      "metadata": {
        "colab": {
          "base_uri": "https://localhost:8080/"
        },
        "id": "PqO31CuxOrL_",
        "outputId": "3e6c8b2b-4728-4804-ae7f-30490b7cbf36"
      },
      "source": [
        "#Write a Python function that takes a list of words and returns the length of the shortest one\r\n",
        "\r\n",
        "words=[\"David\",\"is\",\"a\",\"student\"]\r\n",
        "l=[]\r\n",
        "for i in words:\r\n",
        "  l.append(len(i))\r\n",
        "print(l.index(min(l)))\r\n",
        "print(words[l.index(min(l))])"
      ],
      "execution_count": 35,
      "outputs": [
        {
          "output_type": "stream",
          "text": [
            "2\n",
            "a\n"
          ],
          "name": "stdout"
        }
      ]
    }
  ]
}