{
 "cells": [
  {
   "cell_type": "code",
   "execution_count": 1,
   "metadata": {},
   "outputs": [
    {
     "data": {
      "text/html": [
       "<div>\n",
       "<style scoped>\n",
       "    .dataframe tbody tr th:only-of-type {\n",
       "        vertical-align: middle;\n",
       "    }\n",
       "\n",
       "    .dataframe tbody tr th {\n",
       "        vertical-align: top;\n",
       "    }\n",
       "\n",
       "    .dataframe thead th {\n",
       "        text-align: right;\n",
       "    }\n",
       "</style>\n",
       "<table border=\"1\" class=\"dataframe\">\n",
       "  <thead>\n",
       "    <tr style=\"text-align: right;\">\n",
       "      <th></th>\n",
       "      <th>Customer_id</th>\n",
       "      <th>Product</th>\n",
       "      <th>State</th>\n",
       "    </tr>\n",
       "  </thead>\n",
       "  <tbody>\n",
       "    <tr>\n",
       "      <th>0</th>\n",
       "      <td>2</td>\n",
       "      <td>Oven</td>\n",
       "      <td>California</td>\n",
       "    </tr>\n",
       "    <tr>\n",
       "      <th>1</th>\n",
       "      <td>4</td>\n",
       "      <td>Television</td>\n",
       "      <td>California</td>\n",
       "    </tr>\n",
       "    <tr>\n",
       "      <th>2</th>\n",
       "      <td>6</td>\n",
       "      <td>Television</td>\n",
       "      <td>Texas</td>\n",
       "    </tr>\n",
       "    <tr>\n",
       "      <th>3</th>\n",
       "      <td>7</td>\n",
       "      <td>NaN</td>\n",
       "      <td>New York</td>\n",
       "    </tr>\n",
       "    <tr>\n",
       "      <th>4</th>\n",
       "      <td>8</td>\n",
       "      <td>NaN</td>\n",
       "      <td>Indiana</td>\n",
       "    </tr>\n",
       "  </tbody>\n",
       "</table>\n",
       "</div>"
      ],
      "text/plain": [
       "   Customer_id     Product       State\n",
       "0            2        Oven  California\n",
       "1            4  Television  California\n",
       "2            6  Television       Texas\n",
       "3            7         NaN    New York\n",
       "4            8         NaN     Indiana"
      ]
     },
     "execution_count": 1,
     "metadata": {},
     "output_type": "execute_result"
    }
   ],
   "source": [
    "#question4\n",
    "import pandas as pd\n",
    "import numpy as np\n",
    "# data frame 1\n",
    "d1 = {'Customer_id':pd.Series([1,2,3,4,5,6]),\n",
    "      'Product':pd.Series(['Oven','Oven','Oven','Television','Television','Television'])}\n",
    "df1 = pd.DataFrame(d1)\n",
    " \n",
    "# data frame 2\n",
    "d2 = {'Customer_id':pd.Series([2,4,6,7,8]),\n",
    "          'State':pd.Series(['California','California','Texas','New York','Indiana'])}\n",
    "df2 = pd.DataFrame(d2)\n",
    "\n",
    "#inner join in python pandas\n",
    "inner_join_df= pd.merge(df1, df2, on='Customer_id', how='inner')\n",
    "inner_join_df \n",
    "\n",
    "# right join in python pandas\n",
    "right_join_df= pd.merge(df1, df2, on='Customer_id', how='right')\n",
    "right_join_df"
   ]
  },
  {
   "cell_type": "code",
   "execution_count": 10,
   "metadata": {
    "scrolled": true
   },
   "outputs": [
    {
     "name": "stdout",
     "output_type": "stream",
     "text": [
      "[23, 18, 16, 3]\n",
      "the average of highest 3 values in dictionary : 19.0\n"
     ]
    }
   ],
   "source": [
    "#question2\n",
    "list1 = {'1': 23, '2': 18, '3': 16, '4': 3}\n",
    "val=[x for x in list1.values()]\n",
    "\n",
    "for i in range(0,len(val)):\n",
    "    for j in range(0,len(val)):\n",
    "        if val[i]>val[j]:\n",
    "            temp=val[i]\n",
    "            val[i]=val[j]\n",
    "            val[j]=temp\n",
    "\n",
    "print(val)\n",
    "v=val[0:3] \n",
    "\n",
    "s=0\n",
    "for i in v:\n",
    "    s=s+i\n",
    "    \n",
    "s=s/3\n",
    "    \n",
    "print(\"the average of highest 3 values in dictionary :\",s)\n"
   ]
  },
  {
   "cell_type": "code",
   "execution_count": 5,
   "metadata": {},
   "outputs": [
    {
     "name": "stdout",
     "output_type": "stream",
     "text": [
      "This is parent class\n",
      "This is child class\n",
      "This is parent class\n"
     ]
    }
   ],
   "source": [
    "#question1\n",
    "class parent():\n",
    "    def par(self):\n",
    "        print(\"This is parent class\")\n",
    "        \n",
    "class child(parent):\n",
    "    def chi(self):\n",
    "        print('This is child class')\n",
    "        \n",
    "beta=parent()\n",
    "beta.par()#method of parent class by object of parent class\n",
    "oo=child()\n",
    "oo.chi()#method of child class by object of child class\n",
    "oo.par()#method of parent clas by object of child class"
   ]
  },
  {
   "cell_type": "code",
   "execution_count": 7,
   "metadata": {},
   "outputs": [
    {
     "name": "stdout",
     "output_type": "stream",
     "text": [
      "5.0\n",
      "4.0\n",
      "2.0\n",
      "[0 1 0 4 5 0 0 0]\n"
     ]
    }
   ],
   "source": [
    "#question3\n",
    "import numpy as np \n",
    "   \n",
    "arr = [2, 4, 4, 4, 5, 5, 7, 9] \n",
    "print(np.average(arr))\n",
    "print(np.var(arr))\n",
    "print(np.std(arr))\n",
    "a=[2, 3, 4, 5, 6, 1, 7, 3]\n",
    "print(np.mod(arr,a))"
   ]
  },
  {
   "cell_type": "code",
   "execution_count": 11,
   "metadata": {},
   "outputs": [
    {
     "name": "stdout",
     "output_type": "stream",
     "text": [
      "{'x': [101, 102, 103, 104, 105, 106, 107, 108, 109, 110, 111, 112, 113, 114, 115, 116, 117, 118, 119], 'y': [201, 202, 203, 204, 205, 206, 207, 208, 209, 210, 211, 212, 213, 214, 215, 216, 217, 218, 219], 'z': [301, 302, 303, 304, 305, 306, 307, 308, 309, 310, 311, 312, 313, 314, 315, 316, 317, 318, 319]}\n",
      "108\n",
      "208\n",
      "308\n",
      "113\n",
      "113\n",
      "113\n"
     ]
    }
   ],
   "source": [
    "#question5\n",
    "dict_nums = dict(x=list(range(101,120)), y=list(range(201,220)), z=list(range(301,320)))\n",
    "print(dict_nums)\n",
    "print(dict_nums[\"x\"][7])\n",
    "print(dict_nums[\"y\"][7])\n",
    "print(dict_nums[\"z\"][7])\n",
    "for k,v in dict_nums.items():\n",
    "   print(dict_nums[\"x\"][-7])"
   ]
  },
  {
   "cell_type": "code",
   "execution_count": null,
   "metadata": {},
   "outputs": [],
   "source": []
  }
 ],
 "metadata": {
  "kernelspec": {
   "display_name": "Python 3",
   "language": "python",
   "name": "python3"
  },
  "language_info": {
   "codemirror_mode": {
    "name": "ipython",
    "version": 3
   },
   "file_extension": ".py",
   "mimetype": "text/x-python",
   "name": "python",
   "nbconvert_exporter": "python",
   "pygments_lexer": "ipython3",
   "version": "3.7.6"
  }
 },
 "nbformat": 4,
 "nbformat_minor": 4
}
