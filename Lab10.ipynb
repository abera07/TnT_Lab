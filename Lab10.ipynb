{
  "nbformat": 4,
  "nbformat_minor": 0,
  "metadata": {
    "colab": {
      "name": "Lab10.ipynb",
      "provenance": [],
      "authorship_tag": "ABX9TyN4uDJ/7wI2Qj92QQrjL/sw",
      "include_colab_link": true
    },
    "kernelspec": {
      "name": "python3",
      "display_name": "Python 3"
    }
  },
  "cells": [
    {
      "cell_type": "markdown",
      "metadata": {
        "id": "view-in-github",
        "colab_type": "text"
      },
      "source": [
        "<a href=\"https://colab.research.google.com/github/abera07/TnT_Lab/blob/main/Lab10.ipynb\" target=\"_parent\"><img src=\"https://colab.research.google.com/assets/colab-badge.svg\" alt=\"Open In Colab\"/></a>"
      ]
    },
    {
      "cell_type": "code",
      "metadata": {
        "colab": {
          "base_uri": "https://localhost:8080/"
        },
        "id": "vzGH1Ai0tuaB",
        "outputId": "efcdb309-7367-4201-9928-b6e237568cb1"
      },
      "source": [
        "\"\"\" WAP TO MENTION THE CELEBRATIONS IN A MONTH , STUDENTS PARTICIPATING IN EACH AND FIND THE STUDENT\r\n",
        " WHO PARTICIPATES IN MORE THAN 1 EVENT.\r\n",
        " \"\"\"\r\n",
        "celeb_in_month={1:\"Fresher's\",2:\"Foundation Day\",3:\"Sports Day\",4:\"Cultural Fest\",5:\"Technical Fest\"}\r\n",
        "\r\n",
        "s=[]\r\n",
        "s_name=[]\r\n",
        "i=1\r\n",
        "while(i!=0):\r\n",
        "  s_name.append(input(\"Enter the name of the student:\"))\r\n",
        "  l=list(input(\"Enter the celebration he/she is participating in separated by ','\").split(','))\r\n",
        "  l = list(map(int,l))\r\n",
        "  s.append(l)\r\n",
        "  i=int(input(\"Enter 0 to stop taking input,1 to continue.\"))"
      ],
      "execution_count": 16,
      "outputs": [
        {
          "output_type": "stream",
          "text": [
            "Enter the name of the student:Ankita\n",
            "Enter the celebration he/she is participating in separated by ','1,2,3\n",
            "Enter 0 to stop taking input,1 to continue.1\n",
            "Enter the name of the student:Trambak\n",
            "Enter the celebration he/she is participating in separated by ','1,4,5,3\n",
            "Enter 0 to stop taking input,1 to continue.1\n",
            "Enter the name of the student:Pubasha\n",
            "Enter the celebration he/she is participating in separated by ','3\n",
            "Enter 0 to stop taking input,1 to continue.1\n",
            "Enter the name of the student:Bindu\n",
            "Enter the celebration he/she is participating in separated by ','1,2,3\n",
            "Enter 0 to stop taking input,1 to continue.0\n"
          ],
          "name": "stdout"
        }
      ]
    },
    {
      "cell_type": "code",
      "metadata": {
        "colab": {
          "base_uri": "https://localhost:8080/"
        },
        "id": "HSHf31wayaOs",
        "outputId": "62e0e380-4d4d-44c8-b60b-b020662d0ab9"
      },
      "source": [
        "j=len(s)\r\n",
        "print(\"Celebrations in a month:\")\r\n",
        "print(celeb_in_month)\r\n",
        "for j in range(j):\r\n",
        "  if len(s[i])>1:\r\n",
        "    print(f\"{s_name[j]} is participating in more than one event, i.e. in {len(s[i])}.\")\r\n",
        "  "
      ],
      "execution_count": 18,
      "outputs": [
        {
          "output_type": "stream",
          "text": [
            "Celebrations in a month:\n",
            "{1: \"Fresher's\", 2: 'Foundation Day', 3: 'Sports Day', 4: 'Cultural Fest', 5: 'Technical Fest'}\n",
            "Ankita is participating in more than one event, i.e. in 3.\n",
            "Trambak is participating in more than one event, i.e. in 3.\n",
            "Pubasha is participating in more than one event, i.e. in 3.\n",
            "Bindu is participating in more than one event, i.e. in 3.\n"
          ],
          "name": "stdout"
        }
      ]
    },
    {
      "cell_type": "code",
      "metadata": {
        "colab": {
          "base_uri": "https://localhost:8080/"
        },
        "id": "OfDZ4rrm6V_0",
        "outputId": "cceb5fcf-bb94-46ae-a3b8-1715adb573c4"
      },
      "source": [
        "#Removing an element from a set\r\n",
        "s = {1,2,3,4,5}\r\n",
        "print(\"Set before manipulation:\",s)\r\n",
        "s.discard(3)\r\n",
        "print(\"Set after manipulation\",s)"
      ],
      "execution_count": 19,
      "outputs": [
        {
          "output_type": "stream",
          "text": [
            "Set before manipulation: {1, 2, 3, 4, 5}\n",
            "Set after manipulation {1, 2, 4, 5}\n"
          ],
          "name": "stdout"
        }
      ]
    },
    {
      "cell_type": "code",
      "metadata": {
        "colab": {
          "base_uri": "https://localhost:8080/"
        },
        "id": "2lzHGKPs6lL5",
        "outputId": "bae94ca1-d43f-4a53-b5c3-409724198f38"
      },
      "source": [
        "#Intersection of 2 sets\r\n",
        "r={1,4,7,8,9,0,2}\r\n",
        "inter=s.intersection(r)\r\n",
        "print(f\"Intersection of sets {s} and {r} is:{inter}\")"
      ],
      "execution_count": 20,
      "outputs": [
        {
          "output_type": "stream",
          "text": [
            "Intersection of sets {1, 2, 4, 5} and {0, 1, 2, 4, 7, 8, 9} is:{1, 2, 4}\n"
          ],
          "name": "stdout"
        }
      ]
    },
    {
      "cell_type": "code",
      "metadata": {
        "colab": {
          "base_uri": "https://localhost:8080/"
        },
        "id": "1YbWsHbW67mL",
        "outputId": "bfc8691b-e1c6-479a-81c2-f8e862d0b908"
      },
      "source": [
        "#Difference of 2 sets\r\n",
        "diff=s.difference(r)\r\n",
        "print(f\"Difference of sets {s} and {r} is:{diff}\")"
      ],
      "execution_count": 21,
      "outputs": [
        {
          "output_type": "stream",
          "text": [
            "Difference of sets {1, 2, 4, 5} and {0, 1, 2, 4, 7, 8, 9} is:{5}\n"
          ],
          "name": "stdout"
        }
      ]
    },
    {
      "cell_type": "code",
      "metadata": {
        "colab": {
          "base_uri": "https://localhost:8080/"
        },
        "id": "YcH-ZvOa7VfM",
        "outputId": "96d5e19c-83c9-4bc9-902e-687d60e3eba4"
      },
      "source": [
        "\"\"\"Write a Python program to find maximum and the minimum value in a set\"\"\"\"\r\n",
        "\r\n",
        "max_val=max(r)\r\n",
        "min_val=min(r)\r\n",
        "print(f\"Of the set:{r}, the maximum value is:{max_val} and the minimum value is:{min_val}.\")"
      ],
      "execution_count": 23,
      "outputs": [
        {
          "output_type": "stream",
          "text": [
            "Of the set:{0, 1, 2, 4, 7, 8, 9}, the maximum value is:9 and the minimum value is:0.\n"
          ],
          "name": "stdout"
        }
      ]
    },
    {
      "cell_type": "code",
      "metadata": {
        "colab": {
          "base_uri": "https://localhost:8080/"
        },
        "id": "igsOYzM09_QL",
        "outputId": "4eb94caf-1fd7-4956-c297-25aaf1e94e3c"
      },
      "source": [
        "\"\"\" Write a Python program to check if a set is a subset of another set.\"\"\"\r\n",
        "t={1,2}\r\n",
        "if t.issubset(r):\r\n",
        "  print(f\"Set t:{t} is a subset of set r:{r}\")\r\n",
        "else:\r\n",
        "  print(\"Set t is not a subset of set r\")\r\n"
      ],
      "execution_count": 24,
      "outputs": [
        {
          "output_type": "stream",
          "text": [
            "Set t:{1, 2} is a subset of set r:{0, 1, 2, 4, 7, 8, 9}\n"
          ],
          "name": "stdout"
        }
      ]
    },
    {
      "cell_type": "code",
      "metadata": {
        "colab": {
          "base_uri": "https://localhost:8080/"
        },
        "id": "1krTFFbJ-cce",
        "outputId": "395ceb05-4235-4a0b-de69-e675027beae1"
      },
      "source": [
        "#Length of a set\r\n",
        "print(\"Length of set r is:\",len(r))"
      ],
      "execution_count": 25,
      "outputs": [
        {
          "output_type": "stream",
          "text": [
            "Length of set r is: 7\n"
          ],
          "name": "stdout"
        }
      ]
    },
    {
      "cell_type": "code",
      "metadata": {
        "colab": {
          "base_uri": "https://localhost:8080/"
        },
        "id": "a_JDpS3R-onw",
        "outputId": "791ea6dc-731f-4123-8981-ad0915d71638"
      },
      "source": [
        "\"\"\"Write a Python program to check if two given sets have no elements in common\"\"\"\r\n",
        "\r\n",
        "q={3}\r\n",
        "inter=r.intersection(q)\r\n",
        "\r\n",
        "if len(inter)==0:\r\n",
        "  print(f\"The two sets:{r} and {q} have no element in common.\")\r\n",
        "else:\r\n",
        "  print(\"Common elements are present.\")"
      ],
      "execution_count": 26,
      "outputs": [
        {
          "output_type": "stream",
          "text": [
            "The two sets:{0, 1, 2, 4, 7, 8, 9} and {3} have no element in common.\n"
          ],
          "name": "stdout"
        }
      ]
    },
    {
      "cell_type": "code",
      "metadata": {
        "colab": {
          "base_uri": "https://localhost:8080/"
        },
        "id": "QlBc3d2mBIhl",
        "outputId": "96a0c536-6543-4f0f-82a5-dd8e92891dbe"
      },
      "source": [
        "\"\"\"Write a Python program to find the elements in a given set that are not in another set. \"\"\"\r\n",
        "print(f\"The two sets are:{r} and {s}\")\r\n",
        "diff=r.difference(s)\r\n",
        "print(f\"Elements which are present in r but not in s:{diff}\")"
      ],
      "execution_count": 27,
      "outputs": [
        {
          "output_type": "stream",
          "text": [
            "The two sets are:{0, 1, 2, 4, 7, 8, 9} and {1, 2, 4, 5}\n",
            "Elements which are present in r but not in s:{0, 8, 9, 7}\n"
          ],
          "name": "stdout"
        }
      ]
    },
    {
      "cell_type": "code",
      "metadata": {
        "colab": {
          "base_uri": "https://localhost:8080/"
        },
        "id": "WDa-0TD_DOP7",
        "outputId": "29c3407a-36a7-4713-910a-9d1b64ddfd6f"
      },
      "source": [
        "\"\"\"Write a Python program to clear a set.\"\"\"\r\n",
        "print(f\"Set t is:{t}\")\r\n",
        "t.clear()\r\n",
        "print(f\"Set t after manipulation:{t}\")"
      ],
      "execution_count": 28,
      "outputs": [
        {
          "output_type": "stream",
          "text": [
            "Set t is:{1, 2}\n",
            "Set t after manipulation:set()\n"
          ],
          "name": "stdout"
        }
      ]
    }
  ]
}