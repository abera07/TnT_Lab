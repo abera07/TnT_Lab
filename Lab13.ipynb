{
  "nbformat": 4,
  "nbformat_minor": 0,
  "metadata": {
    "language_info": {
      "codemirror_mode": {
        "name": "ipython",
        "version": 3
      },
      "file_extension": ".py",
      "mimetype": "text/x-python",
      "name": "python",
      "nbconvert_exporter": "python",
      "pygments_lexer": "ipython3",
      "version": "3.6.8-final"
    },
    "orig_nbformat": 2,
    "kernelspec": {
      "name": "python3",
      "display_name": "Python 3.6.8 64-bit ('my_personal_lab': conda)",
      "metadata": {
        "interpreter": {
          "hash": "7c94d32e572778f173b9c5c1ef4f05bc2ec293e2da62ab8bc3bedc7c9ebe6715"
        }
      }
    },
    "colab": {
      "name": "Lab13.ipynb",
      "provenance": []
    }
  },
  "cells": [
    {
      "cell_type": "markdown",
      "metadata": {
        "id": "Cxrs4sdZ7Qzj"
      },
      "source": [
        "Lab. Report (Section-T&T Lab-CSSE-4)"
      ]
    },
    {
      "cell_type": "markdown",
      "metadata": {
        "id": "Ks1OysCC7To2"
      },
      "source": [
        "Date of Assignment: 26.02.2021"
      ]
    },
    {
      "cell_type": "markdown",
      "metadata": {
        "id": "8PFk6QLE736-"
      },
      "source": [
        "Roll number:1828229\r\n",
        "\r\n",
        "Name: Ankita Bera"
      ]
    },
    {
      "cell_type": "markdown",
      "metadata": {
        "id": "k1NAJ4Rr1X0b"
      },
      "source": [
        "# Inheritance"
      ]
    },
    {
      "cell_type": "markdown",
      "metadata": {
        "id": "O1g-LA9v1X0l"
      },
      "source": [
        "## Single Inheritance"
      ]
    },
    {
      "cell_type": "code",
      "metadata": {
        "id": "jCVOZ4Gz1X0n",
        "colab": {
          "base_uri": "https://localhost:8080/"
        },
        "outputId": "b6fd7ab1-d9cf-44bf-898b-95fc77ab7728"
      },
      "source": [
        "class Animal:  \n",
        "    def speak(self):  \n",
        "        print(\"Animal Speaking\")   \n",
        "class Dog(Animal):  \n",
        "    def bark(self):  \n",
        "        print(\"dog barking\")  \n",
        "d = Dog()  \n",
        "d.bark()  \n",
        "d.speak() "
      ],
      "execution_count": 1,
      "outputs": [
        {
          "output_type": "stream",
          "text": [
            "dog barking\n",
            "Animal Speaking\n"
          ],
          "name": "stdout"
        }
      ]
    },
    {
      "cell_type": "markdown",
      "metadata": {
        "id": "wUP_96gF1X0p"
      },
      "source": [
        "## Multilevel Inheritance"
      ]
    },
    {
      "cell_type": "code",
      "metadata": {
        "id": "JNM-Br7m1X0q",
        "colab": {
          "base_uri": "https://localhost:8080/"
        },
        "outputId": "4a73408a-f9f5-43d7-e73c-3e0f68ba0fb3"
      },
      "source": [
        "class Animal:  \n",
        "    def speak(self):  \n",
        "        print(\"Animal Speaking\")  \n",
        "class Dog(Animal):  \n",
        "    def bark(self):  \n",
        "        print(\"dog barking\")  \n",
        "class DogChild(Dog):  \n",
        "    def eat(self):  \n",
        "        print(\"Eating bread...\")  \n",
        "d = DogChild()  \n",
        "d.bark()  \n",
        "d.speak()  \n",
        "d.eat() "
      ],
      "execution_count": 2,
      "outputs": [
        {
          "output_type": "stream",
          "text": [
            "dog barking\n",
            "Animal Speaking\n",
            "Eating bread...\n"
          ],
          "name": "stdout"
        }
      ]
    },
    {
      "cell_type": "markdown",
      "metadata": {
        "id": "QZpLcw9v1X0r"
      },
      "source": [
        "## Multiple Inheritance"
      ]
    },
    {
      "cell_type": "code",
      "metadata": {
        "id": "bvh9Ej-q1X0r",
        "colab": {
          "base_uri": "https://localhost:8080/"
        },
        "outputId": "7944bf6a-0395-4c71-b464-a3c4439f7fe2"
      },
      "source": [
        "class Calculation1:  \n",
        "    def Summation(self,a,b):  \n",
        "        return a+b  \n",
        "class Calculation2:  \n",
        "    def Multiplication(self,a,b):  \n",
        "        return a*b  \n",
        "class Derived(Calculation1,Calculation2):  \n",
        "    def Divide(self,a,b):  \n",
        "        return a/b  \n",
        "d = Derived()  \n",
        "print(d.Summation(10,20))  \n",
        "print(d.Multiplication(10,20))  \n",
        "print(d.Divide(10,20)) "
      ],
      "execution_count": 3,
      "outputs": [
        {
          "output_type": "stream",
          "text": [
            "30\n",
            "200\n",
            "0.5\n"
          ],
          "name": "stdout"
        }
      ]
    },
    {
      "cell_type": "markdown",
      "metadata": {
        "id": "IttiYNyb1X0s"
      },
      "source": [
        "## Hierarchical Inheritance"
      ]
    },
    {
      "cell_type": "code",
      "metadata": {
        "id": "IjlvCHrY1X0t",
        "colab": {
          "base_uri": "https://localhost:8080/"
        },
        "outputId": "7cf17d8c-d048-41f4-cb55-0231f80a5561"
      },
      "source": [
        "class Animal:  \n",
        "    def speak(self):  \n",
        "        print(\"Animal Speaking\")  \n",
        "class Dog(Animal):  \n",
        "    def bark(self):  \n",
        "        print(\"Barking!\")  \n",
        "class Cat(Animal):  \n",
        "    def sound(self):  \n",
        "        print(\"Meow!!\")  \n",
        "d = Dog()  \n",
        "d.bark()  \n",
        "d.speak()  \n",
        "\n",
        "c = Cat()\n",
        "c.sound()\n",
        "c.speak()"
      ],
      "execution_count": 4,
      "outputs": [
        {
          "output_type": "stream",
          "text": [
            "Barking!\n",
            "Animal Speaking\n",
            "Meow!!\n",
            "Animal Speaking\n"
          ],
          "name": "stdout"
        }
      ]
    },
    {
      "cell_type": "markdown",
      "metadata": {
        "id": "qqrFfPZI1X0u"
      },
      "source": [
        "## 1. WAP TO REPRESENT HIERARCHIAL INHERITANCE\n",
        "\n"
      ]
    },
    {
      "cell_type": "code",
      "metadata": {
        "id": "Y4g7IZQB1X0u",
        "colab": {
          "base_uri": "https://localhost:8080/"
        },
        "outputId": "2b09fc4e-c94a-43a9-dae4-f3942411766a"
      },
      "source": [
        "class Animal:  \n",
        "    def speak(self):  \n",
        "        print(\"Animal Speaking\")  \n",
        "class Dog(Animal):  \n",
        "    def bark(self):  \n",
        "        print(\"Barking!\")  \n",
        "class Cat(Animal):  \n",
        "    def sound(self):  \n",
        "        print(\"Meow!!\")  \n",
        "d = Dog()  \n",
        "d.bark()  \n",
        "d.speak()  \n",
        "\n",
        "c = Cat()\n",
        "c.sound()\n",
        "c.speak()"
      ],
      "execution_count": 5,
      "outputs": [
        {
          "output_type": "stream",
          "text": [
            "Barking!\n",
            "Animal Speaking\n",
            "Meow!!\n",
            "Animal Speaking\n"
          ],
          "name": "stdout"
        }
      ]
    },
    {
      "cell_type": "markdown",
      "metadata": {
        "id": "N1BAnwoX1X0v"
      },
      "source": [
        "#### 2. Create a class named 'Member' having the following members:\n",
        "Data members\n",
        "1 - Name\n",
        "2 - Age\n",
        "3 - Phone number\n",
        "4 - Address\n",
        "5 - Salary\n",
        "It also has a method named 'printSalary' which prints the salary of the members.\n",
        "Two classes 'Employee' and 'Manager' inherits the 'Member' class. The 'Employee' and 'Manager' classes have data members 'specialization' and 'department' respectively. Now, assign name, age, phone number, address and salary to an employee and a manager by making an object of both of these."
      ]
    },
    {
      "cell_type": "code",
      "metadata": {
        "id": "kEq9Zsac1X0w",
        "colab": {
          "base_uri": "https://localhost:8080/"
        },
        "outputId": "3956cc4f-6652-4fda-986b-fcc782e9178b"
      },
      "source": [
        "class Member():\n",
        "    def details(self):\n",
        "        self.name=input(\"Enter Name:-  \")\n",
        "        self.age=int(input(\"Enter Age:-  \"))\n",
        "        self.phone=input(\"Enter Phone Number:- \")\n",
        "        self.address=input(\"Enter Address:- \")\n",
        "        self.salary=input(\"Enter Salary:- \")\n",
        "\n",
        "    def printSalary(self):\n",
        "        print(self.name, self.age, self.salary)\n",
        "\n",
        "class Employee(Member):\n",
        "    def __init__(self):\n",
        "        self.specialization=input(\"Enter Specialization of Employee:- \")\n",
        "        self.department=input(\"Enter Department of Employee:- \")\n",
        "\n",
        "class Manager(Member):\n",
        "    def __init__(self):\n",
        "        self.specialization=input(\"Enter Specialization of Manager:- \")\n",
        "        self.department=input(\"Enter Department of Manager:- \")\n",
        "\n",
        "\n",
        "e = Employee()\n",
        "\n",
        "e.details()\n",
        "e.printSalary()\n",
        "\n",
        "\n",
        "m = Manager()\n",
        "\n",
        "m.details()\n",
        "m.printSalary()\n",
        "      "
      ],
      "execution_count": 10,
      "outputs": [
        {
          "output_type": "stream",
          "text": [
            "Enter Specialization of Employee:- Data Analyst\n",
            "Enter Department of Employee:- Product\n",
            "Enter Name:-  Ankita Bera\n",
            "Enter Age:-  22\n",
            "Enter Phone Number:- 899076421\n",
            "Enter Address:- 35/1 NN Road\n",
            "Enter Salary:- 40000\n",
            "Ankita Bera 22 40000\n",
            "Enter Specialization of Manager:- Product Head\n",
            "Enter Department of Manager:- Product\n",
            "Enter Name:-  Harry Houdini\n",
            "Enter Age:-  39\n",
            "Enter Phone Number:- 904627191\n",
            "Enter Address:- Gingham Road\n",
            "Enter Salary:- 140000\n",
            "Harry Houdini 39 140000\n"
          ],
          "name": "stdout"
        }
      ]
    },
    {
      "cell_type": "markdown",
      "metadata": {
        "id": "hgE6Pxy11X0y"
      },
      "source": [
        "#### 3. Create a class with a method that prints \"This is parent class\" and its subclass with another method that prints \"This is child class\". Now, create an object for each of the class and call\n",
        "1 - method of parent class by object of parent class\n",
        "2 - method of child class by object of child class\n",
        "3 - method of parent class by object of child class"
      ]
    },
    {
      "cell_type": "code",
      "metadata": {
        "id": "ctmnGGO41X0z",
        "colab": {
          "base_uri": "https://localhost:8080/"
        },
        "outputId": "61602b58-d942-4325-fbce-3008b4450d15"
      },
      "source": [
        "class Parent:  \n",
        "    def funParent(self):  \n",
        "        print(\"This is parent class\")   \n",
        "class Child(Parent):  \n",
        "    def funChild(self):  \n",
        "        print(\"This is child class\")  \n",
        "obj = Parent()\n",
        "obj.funParent() \n",
        "\n",
        "obj2 = Child()\n",
        "obj2.funChild()\n",
        "\n",
        "obj2.funParent() "
      ],
      "execution_count": 8,
      "outputs": [
        {
          "output_type": "stream",
          "text": [
            "This is parent class\n",
            "This is child class\n",
            "This is parent class\n"
          ],
          "name": "stdout"
        }
      ]
    },
    {
      "cell_type": "markdown",
      "metadata": {
        "id": "79zgNse71X00"
      },
      "source": [
        "#### 4. .Create a class named 'Shape' with a method to print \"This is This is shape\". Then create two other classes named 'Rectangle', 'Circle' inheriting the Shape class, both having a method to print \"This is rectangular shape\" and \"This is circular shape\" respectively. Create a subclass 'Square' of 'Rectangle' having a method to print \"Square is a rectangle\". Now call the method of 'Shape' and 'Rectangle' class by the object of 'Square' class."
      ]
    },
    {
      "cell_type": "code",
      "metadata": {
        "id": "qbaKl_H-1X00",
        "colab": {
          "base_uri": "https://localhost:8080/"
        },
        "outputId": "ccba93cd-3c4f-41e3-9dd8-41d03f606992"
      },
      "source": [
        "class Shape:  \n",
        "    def funShape(self):  \n",
        "        print(\"This is This is shape\")   \n",
        "class Rectangle(Shape):  \n",
        "    def funRectangle(self):  \n",
        "        print(\"This is rectangular shape\") \n",
        "\n",
        "class Circle(Shape):  \n",
        "    def funCircle(self):  \n",
        "        print(\"This is circular shape\") \n",
        "\n",
        "class Square(Rectangle):\n",
        "    def funSquare(self):\n",
        "        print(\"Square is a rectangle\") \n",
        "\n",
        "\n",
        "obj = Square()\n",
        "\n",
        "obj.funShape()\n",
        "obj.funRectangle()"
      ],
      "execution_count": 9,
      "outputs": [
        {
          "output_type": "stream",
          "text": [
            "This is This is shape\n",
            "This is rectangular shape\n"
          ],
          "name": "stdout"
        }
      ]
    }
  ]
}