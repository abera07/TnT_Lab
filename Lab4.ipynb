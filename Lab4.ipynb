{
  "nbformat": 4,
  "nbformat_minor": 0,
  "metadata": {
    "colab": {
      "name": "Lab4.ipynb",
      "provenance": []
    },
    "kernelspec": {
      "name": "python3",
      "display_name": "Python 3"
    }
  },
  "cells": [
    {
      "cell_type": "code",
      "metadata": {
        "id": "KnAexmZcdEF0",
        "colab": {
          "base_uri": "https://localhost:8080/"
        },
        "outputId": "0e8be876-4c24-4f7d-a970-ee0538b20341"
      },
      "source": [
        "#Write a dictionary and print it\r\n",
        "x={1:'Pathera tigris',2:'Panthera leo',3:'Panthera panthera',4:'Panthera pardus'}\r\n",
        "print(x)"
      ],
      "execution_count": 2,
      "outputs": [
        {
          "output_type": "stream",
          "text": [
            "{1: 'Pathera tigris', 2: 'Panthera leo', 3: 'Panthera panthera', 4: 'Panthera pardus'}\n"
          ],
          "name": "stdout"
        }
      ]
    },
    {
      "cell_type": "code",
      "metadata": {
        "colab": {
          "base_uri": "https://localhost:8080/"
        },
        "id": "z-FMb43th-kc",
        "outputId": "681ed1c0-b567-45e5-fc4e-e8f76e94ef9c"
      },
      "source": [
        "y={5:'Canis lupus',6:'Corvus splendens',7:'Allium sativum'}\r\n",
        "z = x.copy()   # start with x's keys and values\r\n",
        "z.update(y)\r\n",
        "print(z)"
      ],
      "execution_count": 3,
      "outputs": [
        {
          "output_type": "stream",
          "text": [
            "{1: 'Pathera tigris', 2: 'Panthera leo', 3: 'Panthera panthera', 4: 'Panthera pardus', 5: 'Canis lupus', 6: 'Corvus splendens', 7: 'Allium sativum'}\n"
          ],
          "name": "stdout"
        }
      ]
    },
    {
      "cell_type": "code",
      "metadata": {
        "id": "E7-gUmZNjsnU"
      },
      "source": [
        "#WAP TO PRINT A DICT WITH 7 KEYS, UPDATE THE 3RD KEY AND DELETE SECOND LAST KEY  FROM RIGHT\r\n",
        "res={1:\"Mumbai\",2:\"Delhi\",3:\"Chennai\",4:\"Kolkata\",5:\"Jaipur\",6:\"Andheri\",7:\"Amritsar\"}"
      ],
      "execution_count": 4,
      "outputs": []
    },
    {
      "cell_type": "code",
      "metadata": {
        "colab": {
          "base_uri": "https://localhost:8080/",
          "height": 35
        },
        "id": "S4axmj-7kkNw",
        "outputId": "9bd5dd9f-735d-465e-fc71-857080df9465"
      },
      "source": [
        "j={3:'Orlando'}\r\n",
        "res.update(j)\r\n",
        "res.pop(6)"
      ],
      "execution_count": 5,
      "outputs": [
        {
          "output_type": "execute_result",
          "data": {
            "application/vnd.google.colaboratory.intrinsic+json": {
              "type": "string"
            },
            "text/plain": [
              "'Andheri'"
            ]
          },
          "metadata": {
            "tags": []
          },
          "execution_count": 5
        }
      ]
    },
    {
      "cell_type": "code",
      "metadata": {
        "colab": {
          "base_uri": "https://localhost:8080/"
        },
        "id": "wrSJjRouli61",
        "outputId": "24bf4c38-c920-4c48-fb9f-cb8ccbe615b8"
      },
      "source": [
        "print(res)"
      ],
      "execution_count": 6,
      "outputs": [
        {
          "output_type": "stream",
          "text": [
            "{1: 'Mumbai', 2: 'Delhi', 3: 'Orlando', 4: 'Kolkata', 5: 'Jaipur', 7: 'Amritsar'}\n"
          ],
          "name": "stdout"
        }
      ]
    },
    {
      "cell_type": "code",
      "metadata": {
        "colab": {
          "base_uri": "https://localhost:8080/"
        },
        "id": "uBkhSfrFl2D3",
        "outputId": "7952efae-5602-4f08-bdbe-c4f5bf86ada5"
      },
      "source": [
        "#WAP to Check if a given key already exists in a dictionary\r\n",
        "x=int(input(\"Enter the key that you want to check for unavailability:\"))\r\n",
        "\r\n",
        "if x in res:\r\n",
        "  print(\"Present\")\r\n",
        "else:\r\n",
        "  print(\"Absent\")"
      ],
      "execution_count": 7,
      "outputs": [
        {
          "output_type": "stream",
          "text": [
            "Enter the key that you want to check for unavailability:7\n",
            "Present\n"
          ],
          "name": "stdout"
        }
      ]
    },
    {
      "cell_type": "code",
      "metadata": {
        "colab": {
          "base_uri": "https://localhost:8080/"
        },
        "id": "BCt4P3k-m7zU",
        "outputId": "37c0dbf9-6c61-4571-da93-8e3aa01ea2ad"
      },
      "source": [
        "# Dictionary Comprehension\r\n",
        "squares = {x: x*x for x in range(1,9)}\r\n",
        "\r\n",
        "print(squares)"
      ],
      "execution_count": 8,
      "outputs": [
        {
          "output_type": "stream",
          "text": [
            "{1: 1, 2: 4, 3: 9, 4: 16, 5: 25, 6: 36, 7: 49, 8: 64}\n"
          ],
          "name": "stdout"
        }
      ]
    },
    {
      "cell_type": "code",
      "metadata": {
        "id": "ZFsAePKWoMBh"
      },
      "source": [
        "r={j: j*2 for j in range(1,20) if j%2==0 and j%3==0} "
      ],
      "execution_count": 9,
      "outputs": []
    },
    {
      "cell_type": "code",
      "metadata": {
        "colab": {
          "base_uri": "https://localhost:8080/"
        },
        "id": "pwTt-LczohTX",
        "outputId": "4d40a681-07d2-475e-9603-5e631dcbca07"
      },
      "source": [
        "print(r)"
      ],
      "execution_count": 10,
      "outputs": [
        {
          "output_type": "stream",
          "text": [
            "{6: 12, 12: 24, 18: 36}\n"
          ],
          "name": "stdout"
        }
      ]
    },
    {
      "cell_type": "code",
      "metadata": {
        "id": "urWTIFoYojLD"
      },
      "source": [
        "#Write a Python script to print a dictionary where the keys are numbers \r\n",
        "#between 1 and 15 (both included) and the values are factorials of keys.\r\n",
        "def Fact(x):\r\n",
        "  r=1\r\n",
        "  for i in range(1,x):\r\n",
        "    r=i*r\r\n",
        "  return r\r\n",
        "k={k: Fact(k) for k in range(1,16)}"
      ],
      "execution_count": 11,
      "outputs": []
    },
    {
      "cell_type": "code",
      "metadata": {
        "colab": {
          "base_uri": "https://localhost:8080/"
        },
        "id": "HX8r_r5XphAN",
        "outputId": "d5f894b2-054c-453b-c496-13a3f8bef0eb"
      },
      "source": [
        "print(k)"
      ],
      "execution_count": 12,
      "outputs": [
        {
          "output_type": "stream",
          "text": [
            "{1: 1, 2: 1, 3: 2, 4: 6, 5: 24, 6: 120, 7: 720, 8: 5040, 9: 40320, 10: 362880, 11: 3628800, 12: 39916800, 13: 479001600, 14: 6227020800, 15: 87178291200}\n"
          ],
          "name": "stdout"
        }
      ]
    },
    {
      "cell_type": "code",
      "metadata": {
        "colab": {
          "base_uri": "https://localhost:8080/"
        },
        "id": "MsTu6dwkqYRS",
        "outputId": "d93ece71-2c80-4629-ee6c-88d795f32358"
      },
      "source": [
        "# Write a Python program to sort a dictionary by key. \r\n",
        "b={56:'Fifty six',23:'Twenty three',16:'Sixteen',45:'Forty five'}\r\n",
        "l=[b.keys()]\r\n",
        "c={}\r\n",
        "d={}\r\n",
        "print(l)\r\n",
        "max=l[0]"
      ],
      "execution_count": 13,
      "outputs": [
        {
          "output_type": "stream",
          "text": [
            "[dict_keys([56, 23, 16, 45])]\n"
          ],
          "name": "stdout"
        }
      ]
    },
    {
      "cell_type": "code",
      "metadata": {
        "id": "d_eFe1X4rm0F"
      },
      "source": [
        "for i in sorted (b) : \r\n",
        "  c={i:b[i]}\r\n",
        "  d.update(c)"
      ],
      "execution_count": 14,
      "outputs": []
    },
    {
      "cell_type": "code",
      "metadata": {
        "colab": {
          "base_uri": "https://localhost:8080/"
        },
        "id": "Kwe0b3e8sCb6",
        "outputId": "2e1f1c54-e8b3-46e2-8f88-63a97fa6a37d"
      },
      "source": [
        "print(d)"
      ],
      "execution_count": 15,
      "outputs": [
        {
          "output_type": "stream",
          "text": [
            "{16: 'Sixteen', 23: 'Twenty three', 45: 'Forty five', 56: 'Fifty six'}\n"
          ],
          "name": "stdout"
        }
      ]
    },
    {
      "cell_type": "code",
      "metadata": {
        "colab": {
          "base_uri": "https://localhost:8080/"
        },
        "id": "Do-POK8WuacT",
        "outputId": "ef7c6d12-99ea-4b81-cfb6-33c7e828511d"
      },
      "source": [
        "#Write a Python program to filter a dictionary based on values.\r\n",
        "l={}\r\n",
        "v={}\r\n",
        "marks = {'Cierra Vega': 175, 'Alden Cantrell': 180, 'Kierra Gentry': 165, 'Pierre Cox': 190}\r\n",
        "\r\n",
        "res=list(marks.values())\r\n",
        "res.sort()\r\n",
        "print(res)\r\n",
        "def get_key(val):\r\n",
        "    for key, value in marks.items():\r\n",
        "      if val == value:\r\n",
        "        return key\r\n",
        "for i in res:\r\n",
        "  l={get_key(i):i}\r\n",
        "  v.update(l)"
      ],
      "execution_count": 16,
      "outputs": [
        {
          "output_type": "stream",
          "text": [
            "[165, 175, 180, 190]\n"
          ],
          "name": "stdout"
        }
      ]
    },
    {
      "cell_type": "code",
      "metadata": {
        "colab": {
          "base_uri": "https://localhost:8080/"
        },
        "id": "JRsMogcbvvNE",
        "outputId": "e49fe1ed-7e47-4f4d-bf35-3d63c43bcae2"
      },
      "source": [
        "print(v)"
      ],
      "execution_count": 17,
      "outputs": [
        {
          "output_type": "stream",
          "text": [
            "{'Kierra Gentry': 165, 'Cierra Vega': 175, 'Alden Cantrell': 180, 'Pierre Cox': 190}\n"
          ],
          "name": "stdout"
        }
      ]
    },
    {
      "cell_type": "code",
      "metadata": {
        "colab": {
          "base_uri": "https://localhost:8080/"
        },
        "id": "-eSqWJ9s5TZ2",
        "outputId": "f5b5a126-fe56-4935-ab4a-8993e89cce62"
      },
      "source": [
        "alpha={1:'a',2:'x',3:'g',4:'t',5:'b'}\r\n",
        "alpha.items()"
      ],
      "execution_count": 18,
      "outputs": [
        {
          "output_type": "execute_result",
          "data": {
            "text/plain": [
              "dict_items([(1, 'a'), (2, 'x'), (3, 'g'), (4, 't'), (5, 'b')])"
            ]
          },
          "metadata": {
            "tags": []
          },
          "execution_count": 18
        }
      ]
    },
    {
      "cell_type": "code",
      "metadata": {
        "id": "Rq9ocP_PxXuI"
      },
      "source": [
        "#Write a Python program to create and display all combinations of letters, \r\n",
        "#selecting each letter from a different key in a dictionary.\r\n",
        "import random\r\n",
        "\r\n",
        "alpha={1:'a',2:'x',3:'g',4:'t',5:'b'}\r\n",
        "\r\n",
        "def combo(y):\r\n",
        "  s=''\r\n",
        "  for i in range(y):\r\n",
        "    q=random.choice(list(alpha))\r\n",
        "    for key, value in alpha.items():\r\n",
        "      if q==key:\r\n",
        "        s=s+str(value)\r\n",
        "  print(s)"
      ],
      "execution_count": 19,
      "outputs": []
    },
    {
      "cell_type": "code",
      "metadata": {
        "colab": {
          "base_uri": "https://localhost:8080/"
        },
        "id": "t8urcJWu7ebn",
        "outputId": "def00c36-faf2-4c20-c243-3a4a53535528"
      },
      "source": [
        "y=int(input(\"Enter the length of the random string to be generated from the alpha dictionary:\"))\r\n",
        "combo(y)"
      ],
      "execution_count": 20,
      "outputs": [
        {
          "output_type": "stream",
          "text": [
            "Enter the length of the random string to be generated from the alpha dictionary:6\n",
            "atxxbt\n"
          ],
          "name": "stdout"
        }
      ]
    }
  ]
}