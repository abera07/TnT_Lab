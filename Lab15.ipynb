{
  "nbformat": 4,
  "nbformat_minor": 0,
  "metadata": {
    "colab": {
      "name": "Lab15.ipynb",
      "provenance": [],
      "authorship_tag": "ABX9TyNP3jMScfLI+9cI1RJh6FWp"
    },
    "kernelspec": {
      "name": "python3",
      "display_name": "Python 3"
    }
  },
  "cells": [
    {
      "cell_type": "code",
      "metadata": {
        "id": "p7jtie6T08la"
      },
      "source": [
        "import numpy as np"
      ],
      "execution_count": 1,
      "outputs": []
    },
    {
      "cell_type": "code",
      "metadata": {
        "colab": {
          "base_uri": "https://localhost:8080/"
        },
        "id": "0Cz7J5zWlPKS",
        "outputId": "25a3417d-1670-4268-dd87-60278fdcf14f"
      },
      "source": [
        "\"\"\"WAP in  to find the degree of an polynomial.\"\"\"\r\n",
        "\r\n",
        "terms=int(input(\"Enter the number of terms, including constant term.\"))\r\n",
        "x=[]\r\n",
        "coeff=[]\r\n",
        "while terms>0:\r\n",
        "  x.append(int(input(\"Enter the exponent:\")))\r\n",
        "  coeff.append(int(input(\"Enter the coefficient:\")))\r\n",
        "  terms=terms-1\r\n",
        "\r\n",
        "print(\"The equation is:\")\r\n",
        "\r\n",
        "for i in range(len(x)):\r\n",
        "  if (i==len(x)-1):\r\n",
        "    print(f\"{coeff[i]}x^{x[i]}\",end='')\r\n",
        "  else:\r\n",
        "    print(f\"{coeff[i]}x^{x[i]}+\",end='')\r\n",
        "\r\n",
        "x=sorted(x,reverse=True)\r\n",
        "print(f\"\\nThe degree of the equation is:{x[0]}\")\r\n",
        "\r\n",
        "print(\"Using NumPy:\")\r\n",
        "pol = np.poly1d([7,2,4,1])  \r\n",
        "print (\"Degree of Polynomial: \", pol.order) \r\n",
        "\r\n",
        "list1=[2,2,4,5,6]\r\n",
        "polyNew = np.poly1d(list1)\r\n",
        "print (\"Degree of Polynomial: \", (len(list1)-1))"
      ],
      "execution_count": 2,
      "outputs": [
        {
          "output_type": "stream",
          "text": [
            "Enter the number of terms, including constant term.3\n",
            "Enter the exponent:0\n",
            "Enter the coefficient:3\n",
            "Enter the exponent:2\n",
            "Enter the coefficient:4\n",
            "Enter the exponent:1\n",
            "Enter the coefficient:5\n",
            "The equation is:\n",
            "3x^0+4x^2+5x^1\n",
            "The degree of the equation is:2\n",
            "Using NumPy:\n",
            "Degree of Polynomial:  3\n",
            "Degree of Polynomial:  4\n"
          ],
          "name": "stdout"
        }
      ]
    },
    {
      "cell_type": "code",
      "metadata": {
        "colab": {
          "base_uri": "https://localhost:8080/"
        },
        "id": "aEmSvwUtqJAR",
        "outputId": "2ed4da30-8f05-455c-80e9-98699a3e241b"
      },
      "source": [
        "\"\"\"WAP to find roots of a Quadratic Equation\"\"\"\r\n",
        "import math  \r\n",
        "\r\n",
        "a =int(input(\"Enter term for a:\"))\r\n",
        "b =int(input(\"Enter term for b:\"))\r\n",
        "c =int(input(\"Enter term for c:\"))\r\n",
        "\r\n",
        "  \r\n",
        "d = b * b - 4 * a * c  \r\n",
        "sqrt_val = math.sqrt(abs(d))  \r\n",
        "      \r\n",
        "   \r\n",
        "if d > 0:  \r\n",
        "  print(\"Roots are real and different.\")  \r\n",
        "  print((-b + sqrt_val)/(2 * a))  \r\n",
        "  print((-b - sqrt_val)/(2 * a))  \r\n",
        "      \r\n",
        "elif d == 0:  \r\n",
        "  print(\"Roots are real and equal.\")  \r\n",
        "  print(-b / (2 * a))  \r\n",
        "      \r\n",
        "else: \r\n",
        "  print(\"Roots are complex\")  \r\n",
        "  print(- b / (2 * a), \" + i\", sqrt_val)  \r\n",
        "  print(- b / (2 * a), \" - i\", sqrt_val)  \r\n",
        "\r\n",
        "print(\"Using NumPy:\")\r\n",
        "quad = [1, 2, 1]\r\n",
        "print('Roots of equation: ',np.roots(quad))"
      ],
      "execution_count": 3,
      "outputs": [
        {
          "output_type": "stream",
          "text": [
            "Enter term for a:1\n",
            "Enter term for b:2\n",
            "Enter term for c:1\n",
            "Roots are real and equal.\n",
            "-1.0\n",
            "Using NumPy:\n",
            "Roots of equation:  [-1. -1.]\n"
          ],
          "name": "stdout"
        }
      ]
    },
    {
      "cell_type": "code",
      "metadata": {
        "colab": {
          "base_uri": "https://localhost:8080/"
        },
        "id": "LV8Syy6-qiz9",
        "outputId": "3e1f18b7-dd76-42b7-c037-d6258e6cfd3d"
      },
      "source": [
        "\"\"\"WAP to print diagonal elements of a matrix.\"\"\"\r\n",
        "n = 4\r\n",
        "a = [[ 1, 2, 3, 4 ],\r\n",
        "     [ 5, 6, 7, 8 ],\r\n",
        "     [ 1, 2, 3, 4 ],\r\n",
        "     [ 5, 6, 7, 8 ]]\r\n",
        "\r\n",
        "for i in range(n):\r\n",
        "  for j in range(n):\r\n",
        "    if (i == j):\r\n",
        "      print(a[i][j], end = \", \")\r\n",
        "print(\"Using NumPy:\")\r\n",
        "mat=np.matrix(a)\r\n",
        "print('Diagonal Elements of Matrix: ',mat.diagonal())"
      ],
      "execution_count": 5,
      "outputs": [
        {
          "output_type": "stream",
          "text": [
            "1, 6, 3, 8, Using NumPy:\n",
            "Diagonal Elements of Matrix:  [[1 6 3 8]]\n"
          ],
          "name": "stdout"
        }
      ]
    },
    {
      "cell_type": "code",
      "metadata": {
        "colab": {
          "base_uri": "https://localhost:8080/"
        },
        "id": "u1GfeWuqrcjk",
        "outputId": "26f5f277-9467-4380-d211-df8c01c8c8e4"
      },
      "source": [
        "\"\"\"WAP to find factorial of a number.\"\"\"\r\n",
        "x=int(input(\"Enter the number:\"))\r\n",
        "t=1\r\n",
        "for i in range(1,x+1):\r\n",
        "  t=t*i\r\n",
        "\r\n",
        "print(f\"Factorial of {x} is:{t}\")\r\n",
        "print(\"Using NumPy:\")\r\n",
        "print(np.math.factorial(x))"
      ],
      "execution_count": 6,
      "outputs": [
        {
          "output_type": "stream",
          "text": [
            "Enter the number:5\n",
            "Factorial of 5 is:120\n",
            "Using NumPy:\n",
            "120\n"
          ],
          "name": "stdout"
        }
      ]
    },
    {
      "cell_type": "code",
      "metadata": {
        "colab": {
          "base_uri": "https://localhost:8080/"
        },
        "id": "GsxmGhy9uTN1",
        "outputId": "5c4e8947-f76d-408a-9e72-75fd239667b0"
      },
      "source": [
        "\"\"\"WAP to find profit or loss for a given CP and SP.\"\"\"\r\n",
        "CP = float(input(\" Please Enter the Cost Price of the product: \"))\r\n",
        "\r\n",
        "SP = float(input(\" Please Enter the Sale Price of the product: \"))\r\n",
        "\r\n",
        "if(CP > SP):\r\n",
        "\r\n",
        "   amount = CP - SP\r\n",
        "\r\n",
        "   print(\"Total Loss Amount = {0}\".format(amount))\r\n",
        "\r\n",
        "elif(SP > CP):\r\n",
        "\r\n",
        "   amount = SP - CP\r\n",
        "\r\n",
        "   print(\"Total Profit = {0}\".format(amount))\r\n",
        "\r\n",
        "else:\r\n",
        "\r\n",
        "   print(\"There is no profit no loss.\")"
      ],
      "execution_count": 7,
      "outputs": [
        {
          "output_type": "stream",
          "text": [
            " Please Enter the Cost Price of the product: 1234.22\n",
            " Please Enter the Sale Price of the product: 1050.75\n",
            "Total Loss Amount = 183.47000000000003\n"
          ],
          "name": "stdout"
        }
      ]
    },
    {
      "cell_type": "code",
      "metadata": {
        "colab": {
          "base_uri": "https://localhost:8080/"
        },
        "id": "u39Qlg9dvJZB",
        "outputId": "cf4abd34-15d3-41c3-c622-7db99a18bd93"
      },
      "source": [
        "\"\"\"WAP to sort the matrix row wise and column wise.\"\"\"\r\n",
        "a= [[9, 8, 7, 1 ],[7, 3, 0, 2],[9, 5, 3, 2],[ 6, 3, 1, 2 ]]\r\n",
        "\r\n",
        "a=np.array(a)\r\n",
        "\r\n",
        "print (\"Row-wise sorted array:\\n\",np.sort(a, axis = 0)) \r\n",
        "print (\"Column-wise sorted array:\\n\",np.sort(a, axis = 1)) "
      ],
      "execution_count": 8,
      "outputs": [
        {
          "output_type": "stream",
          "text": [
            "Row-wise sorted array:\n",
            " [[6 3 0 1]\n",
            " [7 3 1 2]\n",
            " [9 5 3 2]\n",
            " [9 8 7 2]]\n",
            "Column-wise sorted array:\n",
            " [[1 7 8 9]\n",
            " [0 2 3 7]\n",
            " [2 3 5 9]\n",
            " [1 2 3 6]]\n"
          ],
          "name": "stdout"
        }
      ]
    }
  ]
}