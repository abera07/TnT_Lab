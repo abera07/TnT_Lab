{
  "nbformat": 4,
  "nbformat_minor": 0,
  "metadata": {
    "colab": {
      "name": "TnT_CSE_3.ipynb",
      "provenance": [],
      "authorship_tag": "ABX9TyMqYizd0Pi7MfmpYjzOoU3G",
      "include_colab_link": true
    },
    "kernelspec": {
      "name": "python3",
      "display_name": "Python 3"
    },
    "language_info": {
      "name": "python"
    }
  },
  "cells": [
    {
      "cell_type": "markdown",
      "metadata": {
        "id": "view-in-github",
        "colab_type": "text"
      },
      "source": [
        "<a href=\"https://colab.research.google.com/github/abera07/TnT_Lab/blob/main/TnT_CSE_3.ipynb\" target=\"_parent\"><img src=\"https://colab.research.google.com/assets/colab-badge.svg\" alt=\"Open In Colab\"/></a>"
      ]
    },
    {
      "cell_type": "code",
      "metadata": {
        "colab": {
          "base_uri": "https://localhost:8080/"
        },
        "id": "rXwxVcaeTho8",
        "outputId": "804de2c6-0891-47ca-f6b2-4a51c1cb850a"
      },
      "source": [
        "\"\"\"1. Create a new file and write 5 different lines of code and read each line from the file.\"\"\"\n",
        "f = open(\"myfile.txt\", \"w+\")\n",
        "f.write(\"All that glisters is not gold\")\n",
        "f.write(\"Often have you heard that told,\")\n",
        "f.write(\"Many a man his life hath sold\")\n",
        "f.write(\"But my outside to behold:\")\n",
        "f.write(\"Merchant of Venice, Shakespeare\")"
      ],
      "execution_count": 1,
      "outputs": [
        {
          "output_type": "execute_result",
          "data": {
            "text/plain": [
              "31"
            ]
          },
          "metadata": {
            "tags": []
          },
          "execution_count": 1
        }
      ]
    },
    {
      "cell_type": "code",
      "metadata": {
        "id": "hQ6jbJkTBIM8"
      },
      "source": [
        "f.close()"
      ],
      "execution_count": 2,
      "outputs": []
    },
    {
      "cell_type": "code",
      "metadata": {
        "colab": {
          "base_uri": "https://localhost:8080/"
        },
        "id": "bhsUZ2mxBM-b",
        "outputId": "d1ed6b53-73cf-413d-987e-1ae9b42a08d0"
      },
      "source": [
        "f= open('myfile.txt', 'r')\n",
        "count=0\n",
        "while True:\n",
        "    count += 1\n",
        " \n",
        "    # Get next line from file\n",
        "    line = f.readline()\n",
        " \n",
        "    # if line is empty\n",
        "    # end of file is reached\n",
        "    if not line:\n",
        "        break\n",
        "    print(f\"Line{count}: {line.strip()}\")\n",
        " \n",
        "f.close()"
      ],
      "execution_count": 3,
      "outputs": [
        {
          "output_type": "stream",
          "text": [
            "Line1: All that glisters is not goldOften have you heard that told,Many a man his life hath soldBut my outside to behold:Merchant of Venice, Shakespeare\n"
          ],
          "name": "stdout"
        }
      ]
    },
    {
      "cell_type": "code",
      "metadata": {
        "id": "0ocGeZ5lB6Mj"
      },
      "source": [
        "\"\"\"2. Create a new file and write some lines of code. Read the first 5\n",
        "characters, show the position of the file, reset the position of\n",
        "the file to begining and read the first character again.\n",
        "\"\"\"\n",
        "f = open(\"newfile.txt\", \"w+\")\n",
        "f.write(\"\\nAll that glisters is not gold\")\n",
        "f.write(\"\\nOften have you heard that told,\")\n",
        "f.write(\"\\nMany a man his life hath sold\")\n",
        "f.write(\"\\nBut my outside to behold:\")\n",
        "f.write(\"\\nMerchant of Venice, Shakespeare\")\n",
        "f.close()"
      ],
      "execution_count": 4,
      "outputs": []
    },
    {
      "cell_type": "code",
      "metadata": {
        "colab": {
          "base_uri": "https://localhost:8080/",
          "height": 35
        },
        "id": "M4Tv-3KLZMEU",
        "outputId": "d38d0d7f-2725-4e6d-f79d-1f4acdcf9685"
      },
      "source": [
        "f=open(\"newfile.txt\",\"r\")\n",
        "f.read(5)"
      ],
      "execution_count": 5,
      "outputs": [
        {
          "output_type": "execute_result",
          "data": {
            "application/vnd.google.colaboratory.intrinsic+json": {
              "type": "string"
            },
            "text/plain": [
              "'\\nAll '"
            ]
          },
          "metadata": {
            "tags": []
          },
          "execution_count": 5
        }
      ]
    },
    {
      "cell_type": "code",
      "metadata": {
        "colab": {
          "base_uri": "https://localhost:8080/"
        },
        "id": "Z87WeN19ZXKa",
        "outputId": "57558adc-1219-4ca6-cf8f-b29e0f084e0b"
      },
      "source": [
        "#showing the position of the file\n",
        "f.tell()"
      ],
      "execution_count": 6,
      "outputs": [
        {
          "output_type": "execute_result",
          "data": {
            "text/plain": [
              "5"
            ]
          },
          "metadata": {
            "tags": []
          },
          "execution_count": 6
        }
      ]
    },
    {
      "cell_type": "code",
      "metadata": {
        "colab": {
          "base_uri": "https://localhost:8080/"
        },
        "id": "TkUh5N7PZxfk",
        "outputId": "74ca0e7e-50c5-4335-e7fd-82a357ae78a3"
      },
      "source": [
        "#resetting the position of the pointer\n",
        "f.seek(0)"
      ],
      "execution_count": 7,
      "outputs": [
        {
          "output_type": "execute_result",
          "data": {
            "text/plain": [
              "0"
            ]
          },
          "metadata": {
            "tags": []
          },
          "execution_count": 7
        }
      ]
    },
    {
      "cell_type": "code",
      "metadata": {
        "colab": {
          "base_uri": "https://localhost:8080/",
          "height": 35
        },
        "id": "0_JpZcB6aClS",
        "outputId": "ef9c46e0-3130-4d6c-cb1e-e644d8d737de"
      },
      "source": [
        "#reading the first character\n",
        "f.read(1)"
      ],
      "execution_count": 8,
      "outputs": [
        {
          "output_type": "execute_result",
          "data": {
            "application/vnd.google.colaboratory.intrinsic+json": {
              "type": "string"
            },
            "text/plain": [
              "'\\n'"
            ]
          },
          "metadata": {
            "tags": []
          },
          "execution_count": 8
        }
      ]
    },
    {
      "cell_type": "code",
      "metadata": {
        "id": "6zdYXnRqaIO7"
      },
      "source": [
        "f.close()"
      ],
      "execution_count": 9,
      "outputs": []
    },
    {
      "cell_type": "code",
      "metadata": {
        "id": "DOqgatylalwi"
      },
      "source": [
        "\"\"\"3. Create a file, write a list to the file and read the file.\"\"\"\n",
        "\n",
        "l=[\"Pizza\",\"\\nis\",\"\\nmy\",\"\\nfavourite\",\"\\nfood.\"]\n",
        "f=open(\"food.txt\",\"w+\")\n",
        "f.writelines(l)\n",
        "f.close()"
      ],
      "execution_count": 10,
      "outputs": []
    },
    {
      "cell_type": "code",
      "metadata": {
        "colab": {
          "base_uri": "https://localhost:8080/"
        },
        "id": "HwfTNEMPbyj7",
        "outputId": "183dc697-2ca6-4feb-c812-73b31e9ef668"
      },
      "source": [
        "f=open(\"food.txt\",\"r\")\n",
        "lines=f.readlines()\n",
        "c=0\n",
        "for line in lines:\n",
        "  c=c+1\n",
        "  print(f\"Line {c} : {line.strip()}\")\n",
        "  f.close()"
      ],
      "execution_count": 11,
      "outputs": [
        {
          "output_type": "stream",
          "text": [
            "Line 1 : Pizza\n",
            "Line 2 : is\n",
            "Line 3 : my\n",
            "Line 4 : favourite\n",
            "Line 5 : food.\n"
          ],
          "name": "stdout"
        }
      ]
    },
    {
      "cell_type": "code",
      "metadata": {
        "id": "mJjGDT7RcRjy"
      },
      "source": [
        "\"\"\"4. Create a file and write a single line to the file and read the last\n",
        "character from the file.\n",
        "\"\"\"\n",
        "f=open(\"oneline.txt\",\"w\")\n",
        "f.write(\"A very rainy day\")\n",
        "f.close()"
      ],
      "execution_count": 12,
      "outputs": []
    },
    {
      "cell_type": "markdown",
      "metadata": {
        "id": "jERCpQrgiY9a"
      },
      "source": [
        "file.seek(offset,position)\n",
        "\n",
        "offset: How many characters you need (i.e. 1 means one character)\n",
        "position: Tells where your file read/write operation should start.\n",
        "\n",
        "0 means starting of file\n",
        "1 means current position of file read/write cursor\n",
        "2 means end of file\n",
        "\n",
        "\n",
        "f.seek(f.tell()-1,2) means go to the end of file and traverse back one element\n",
        "\n",
        "print(f.read()) prints the value obtained from the seek command"
      ]
    },
    {
      "cell_type": "code",
      "metadata": {
        "colab": {
          "base_uri": "https://localhost:8080/"
        },
        "id": "k6JSVWEShyn7",
        "outputId": "c5e77660-c9f3-4e4c-af90-65d3b7a81365"
      },
      "source": [
        "f=open(\"oneline.txt\",\"rb+\")\n",
        "f.seek(f.tell()-1,2)\n",
        "print(f.read())\n",
        "f.close()"
      ],
      "execution_count": 13,
      "outputs": [
        {
          "output_type": "stream",
          "text": [
            "b'y'\n"
          ],
          "name": "stdout"
        }
      ]
    },
    {
      "cell_type": "code",
      "metadata": {
        "colab": {
          "base_uri": "https://localhost:8080/"
        },
        "id": "dVAqV0XKh6oB",
        "outputId": "da8f8f32-2bcb-48d1-cb22-7408dfb96a4c"
      },
      "source": [
        "\"\"\"5. Convert a JSON string to Python.\"\"\"\n",
        "import json\n",
        "x =  '{ \"name\":\"John\", \"age\":30, \"city\":\"New York\"}'\n",
        "y = json.loads(x)\n",
        "\n",
        "print(y[\"age\"]) \n",
        "print(type(y))"
      ],
      "execution_count": 14,
      "outputs": [
        {
          "output_type": "stream",
          "text": [
            "30\n",
            "<class 'dict'>\n"
          ],
          "name": "stdout"
        }
      ]
    },
    {
      "cell_type": "code",
      "metadata": {
        "colab": {
          "base_uri": "https://localhost:8080/"
        },
        "id": "hqnKvwhQj1K2",
        "outputId": "dce39459-2941-41a0-efe7-ba775deb4bb4"
      },
      "source": [
        "\"\"\"6. Convert a Python dictionary to JSON strings.\"\"\"\n",
        "\n",
        "x =  { \"name\":\"John\", \"age\":30, \"city\":\"New York\"}\n",
        "y = json.dumps(x)\n",
        "  \n",
        "print(y)\n",
        "print(type(y))"
      ],
      "execution_count": 15,
      "outputs": [
        {
          "output_type": "stream",
          "text": [
            "{\"name\": \"John\", \"age\": 30, \"city\": \"New York\"}\n",
            "<class 'str'>\n"
          ],
          "name": "stdout"
        }
      ]
    },
    {
      "cell_type": "code",
      "metadata": {
        "colab": {
          "base_uri": "https://localhost:8080/"
        },
        "id": "3fcFh3lHkTFS",
        "outputId": "5bbd80bb-edd2-43ec-86d7-f0dc32baae19"
      },
      "source": [
        "\"\"\"7. Use a re built-in package to do the below:\n",
        "a)findall to find a particular text from your string\n",
        "b)search for both matching and nonmatching text in your string\n",
        "c)split your string with any delimiter\n",
        "d)replace a partcular text with some other text and limit it to 2.\n",
        "\"\"\"\n",
        "#7(a)\n",
        "import re\n",
        "\n",
        "string=\"\"\"He gives his harness bells a shake   \n",
        "To ask if there is some mistake.   \n",
        "The only other sound’s the sweep   \n",
        "Of easy wind and downy flake.   \n",
        "The woods are lovely, dark and deep,   \n",
        "But I have promises to keep,   \n",
        "And miles to go before I sleep,   \n",
        "And miles to go before I sleep.\n",
        "\"\"\"\n",
        "regex = 'sleep'             \n",
        "    \n",
        "match = re.findall(regex, string)  \n",
        "print(match) "
      ],
      "execution_count": 16,
      "outputs": [
        {
          "output_type": "stream",
          "text": [
            "['sleep', 'sleep']\n"
          ],
          "name": "stdout"
        }
      ]
    },
    {
      "cell_type": "code",
      "metadata": {
        "colab": {
          "base_uri": "https://localhost:8080/"
        },
        "id": "LtHHCFbniBEC",
        "outputId": "e3b803ec-746a-4474-f632-92eb3d2fb593"
      },
      "source": [
        "#7(b)\n",
        "nonmatch=re.split(regex,string)\n",
        "print(nonmatch)"
      ],
      "execution_count": 17,
      "outputs": [
        {
          "output_type": "stream",
          "text": [
            "['He gives his harness bells a shake   \\nTo ask if there is some mistake.   \\nThe only other sound’s the sweep   \\nOf easy wind and downy flake.   \\nThe woods are lovely, dark and deep,   \\nBut I have promises to keep,   \\nAnd miles to go before I ', ',   \\nAnd miles to go before I ', '.\\n']\n"
          ],
          "name": "stdout"
        }
      ]
    },
    {
      "cell_type": "code",
      "metadata": {
        "colab": {
          "base_uri": "https://localhost:8080/"
        },
        "id": "Ts12lZOXf3az",
        "outputId": "3c134935-d389-4355-d6bb-9950cd72aba8"
      },
      "source": [
        "#7(c)\n",
        "str = 'how,to,do,in,java'\n",
        "re.split(r'[;,\\s]\\s*', str)"
      ],
      "execution_count": 18,
      "outputs": [
        {
          "output_type": "execute_result",
          "data": {
            "text/plain": [
              "['how', 'to', 'do', 'in', 'java']"
            ]
          },
          "metadata": {
            "tags": []
          },
          "execution_count": 18
        }
      ]
    },
    {
      "cell_type": "code",
      "metadata": {
        "colab": {
          "base_uri": "https://localhost:8080/"
        },
        "id": "upZrIE39f3WK",
        "outputId": "3f718570-56b0-4760-afb0-2d039c9296ee"
      },
      "source": [
        "#7(d)\n",
        "print(re.sub(r\"sleep\", \"rest\", string))"
      ],
      "execution_count": 19,
      "outputs": [
        {
          "output_type": "stream",
          "text": [
            "He gives his harness bells a shake   \n",
            "To ask if there is some mistake.   \n",
            "The only other sound’s the sweep   \n",
            "Of easy wind and downy flake.   \n",
            "The woods are lovely, dark and deep,   \n",
            "But I have promises to keep,   \n",
            "And miles to go before I rest,   \n",
            "And miles to go before I rest.\n",
            "\n"
          ],
          "name": "stdout"
        }
      ]
    },
    {
      "cell_type": "code",
      "metadata": {
        "colab": {
          "base_uri": "https://localhost:8080/"
        },
        "id": "_7DAzcBztrhE",
        "outputId": "0a22cb71-56b0-44ac-bed8-0686e9d5c10b"
      },
      "source": [
        "\"\"\"8. Use random built in module and use the choice method from this\n",
        "module to randomly select any member from a list.\n",
        "\"\"\"\n",
        "import random \n",
        "\n",
        "l=[1,2,6,4,8,65,75,38,68,22,10]\n",
        "print(f\"Randomly choosing an element from the list:{random.choice(l)}\")"
      ],
      "execution_count": 20,
      "outputs": [
        {
          "output_type": "stream",
          "text": [
            "Randomly choosing an element from the list:1\n"
          ],
          "name": "stdout"
        }
      ]
    },
    {
      "cell_type": "code",
      "metadata": {
        "colab": {
          "base_uri": "https://localhost:8080/"
        },
        "id": "RDwnmuczdaT_",
        "outputId": "f80a3b4c-8003-40d1-e944-03167620a83f"
      },
      "source": [
        "\"\"\"9. Use random built in module to randomly generate a number from 0 to 10.\"\"\"\n",
        "\n",
        "print(f\"Randommly generated integer:{random.sample(range(0,10),1)}\")"
      ],
      "execution_count": 21,
      "outputs": [
        {
          "output_type": "stream",
          "text": [
            "Randommly generated integer:[0]\n"
          ],
          "name": "stdout"
        }
      ]
    },
    {
      "cell_type": "code",
      "metadata": {
        "colab": {
          "base_uri": "https://localhost:8080/"
        },
        "id": "MeAr7MrAdyFl",
        "outputId": "90934f9e-b4a9-482d-c421-1325b3d9f11e"
      },
      "source": [
        "\"\"\"10. Use random built in module to generate random values from 1 to 6 from 2 dices.\"\"\"\n",
        "\n",
        "d1=random.randint(1,6)\n",
        "d2=random.randint(1,6)\n",
        "print(f\"Randomly generated values of two die:({d1},{d2})\")"
      ],
      "execution_count": 22,
      "outputs": [
        {
          "output_type": "stream",
          "text": [
            "Randomly generated values of two die:(4,4)\n"
          ],
          "name": "stdout"
        }
      ]
    }
  ]
}