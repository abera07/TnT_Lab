{
  "nbformat": 4,
  "nbformat_minor": 0,
  "metadata": {
    "colab": {
      "name": "Lab7.ipynb",
      "provenance": []
    },
    "kernelspec": {
      "name": "python3",
      "display_name": "Python 3"
    }
  },
  "cells": [
    {
      "cell_type": "markdown",
      "metadata": {
        "id": "q88TAdjTMPc6"
      },
      "source": [
        "##  Functions and Recursions"
      ]
    },
    {
      "cell_type": "markdown",
      "metadata": {
        "id": "i2M08AiANUUR"
      },
      "source": [
        "A function is a block of code which only runs when it is called."
      ]
    },
    {
      "cell_type": "code",
      "metadata": {
        "colab": {
          "base_uri": "https://localhost:8080/"
        },
        "id": "TfyGX6JJLwRl",
        "outputId": "9033f65f-0661-4bae-900c-25652929aaa4"
      },
      "source": [
        "def my_func():\r\n",
        "  print(\"Hello from a function\")\r\n",
        "\r\n",
        "my_func()"
      ],
      "execution_count": 1,
      "outputs": [
        {
          "output_type": "stream",
          "text": [
            "Hello from a function\n"
          ],
          "name": "stdout"
        }
      ]
    },
    {
      "cell_type": "code",
      "metadata": {
        "colab": {
          "base_uri": "https://localhost:8080/"
        },
        "id": "Ra0zUK1jNyHL",
        "outputId": "9c77b6d6-985a-477a-abdc-1f2193870c8a"
      },
      "source": [
        "#Function that display your country name\r\n",
        "\r\n",
        "def nat():\r\n",
        "  c=input(\"Enter the country which you reside in:\")\r\n",
        "  print(c)\r\n",
        "\r\n",
        "nat()"
      ],
      "execution_count": 2,
      "outputs": [
        {
          "output_type": "stream",
          "text": [
            "Enter the country which you reside in:India\n",
            "India\n"
          ],
          "name": "stdout"
        }
      ]
    },
    {
      "cell_type": "code",
      "metadata": {
        "colab": {
          "base_uri": "https://localhost:8080/"
        },
        "id": "VHZHYT3jOgLJ",
        "outputId": "de7bbf9f-cfa2-4a10-f164-12cf1e2374fe"
      },
      "source": [
        "def my_function(*kids):\r\n",
        "  print(\"The youngest child is \" + kids[2])\r\n",
        "\r\n",
        "my_function(\"LALl\", \"TOM\", \"SIMA\")"
      ],
      "execution_count": 4,
      "outputs": [
        {
          "output_type": "stream",
          "text": [
            "The youngest child is SIMA\n"
          ],
          "name": "stdout"
        }
      ]
    },
    {
      "cell_type": "code",
      "metadata": {
        "id": "zqwOe-J7P2yl"
      },
      "source": [
        "#pass a list to a function\r\n",
        "\r\n",
        "def sub(l):\r\n",
        "  print(\"The subject which you like the most is:\", l[0])\r\n",
        "  print(\"The subject which you like the least is:\",l[len(l)-1])"
      ],
      "execution_count": 5,
      "outputs": []
    },
    {
      "cell_type": "code",
      "metadata": {
        "colab": {
          "base_uri": "https://localhost:8080/"
        },
        "id": "M3_d0wb9Q4bg",
        "outputId": "86173a63-f96d-4212-9c06-a0d7a558e849"
      },
      "source": [
        "l=[\"Math\",\"Physics\",\"Bio\",\"Chemistry\",\"Bengali\"]\r\n",
        "sub(l)"
      ],
      "execution_count": 6,
      "outputs": [
        {
          "output_type": "stream",
          "text": [
            "The subject which you like the most is: Math\n",
            "The subject which you like the least is: Bengali\n"
          ],
          "name": "stdout"
        }
      ]
    },
    {
      "cell_type": "code",
      "metadata": {
        "colab": {
          "base_uri": "https://localhost:8080/"
        },
        "id": "EerJlNCVRq2C",
        "outputId": "73ed29b2-081b-458f-dfc4-2e6d87fc93f2"
      },
      "source": [
        "def tri_recursion(k):\r\n",
        "  if(k > 0):\r\n",
        "    result = k + tri_recursion(k - 1)\r\n",
        "    print(result, \" \",end='')\r\n",
        "  else:\r\n",
        "    result = 0\r\n",
        "  return result\r\n",
        "\r\n",
        "print(\"\\n\\nRecursion Example Results\")\r\n",
        "tri_recursion(6)"
      ],
      "execution_count": 10,
      "outputs": [
        {
          "output_type": "stream",
          "text": [
            "\n",
            "\n",
            "Recursion Example Results\n",
            "1  3  6  10  15  21  "
          ],
          "name": "stdout"
        },
        {
          "output_type": "execute_result",
          "data": {
            "text/plain": [
              "21"
            ]
          },
          "metadata": {
            "tags": []
          },
          "execution_count": 10
        }
      ]
    },
    {
      "cell_type": "code",
      "metadata": {
        "colab": {
          "base_uri": "https://localhost:8080/"
        },
        "id": "troQPjBnSjtu",
        "outputId": "1956900c-0493-49de-8005-54af14649642"
      },
      "source": [
        "#Function for name and age\r\n",
        "\r\n",
        "def fun(name,age):\r\n",
        "  print(f\"You name is :{name} and your age is:{age}\")\r\n",
        "\r\n",
        "fun(\"Ankita\",\"21\")"
      ],
      "execution_count": 28,
      "outputs": [
        {
          "output_type": "stream",
          "text": [
            "You name is :Ankita and your age is:21\n"
          ],
          "name": "stdout"
        }
      ]
    },
    {
      "cell_type": "code",
      "metadata": {
        "colab": {
          "base_uri": "https://localhost:8080/"
        },
        "id": "TMgN7uw6UMZJ",
        "outputId": "5cca64e4-722c-42bb-be2b-81133314ec4e"
      },
      "source": [
        "def employee(name,sal):\r\n",
        "  if(sal=='Missing'):\r\n",
        "    sal=50000\r\n",
        "  print(\"Employee name:\",name,\"and salary:\",sal)\r\n",
        "\r\n",
        "employee(\"Waldo\",\"Missing\")"
      ],
      "execution_count": 14,
      "outputs": [
        {
          "output_type": "stream",
          "text": [
            "Employee name: Waldo and salary: 50000\n"
          ],
          "name": "stdout"
        }
      ]
    },
    {
      "cell_type": "code",
      "metadata": {
        "colab": {
          "base_uri": "https://localhost:8080/"
        },
        "id": "2OhTCsKvUtaa",
        "outputId": "5c5ca0cb-3c87-4b48-cfe9-5d4edb030e98"
      },
      "source": [
        "#Multiplication table of 7 using recursion\r\n",
        "\r\n",
        "def mul(x):\r\n",
        "  #base case\r\n",
        "  if x==0:\r\n",
        "    return\r\n",
        "  r=1\r\n",
        "  r=r*7*x\r\n",
        "  print(x,\"* 7 =\",r)\r\n",
        "\r\n",
        "  return mul(x-1)\r\n",
        "\r\n",
        "mul(10)"
      ],
      "execution_count": 29,
      "outputs": [
        {
          "output_type": "stream",
          "text": [
            "10 * 7 = 70\n",
            "9 * 7 = 63\n",
            "8 * 7 = 56\n",
            "7 * 7 = 49\n",
            "6 * 7 = 42\n",
            "5 * 7 = 35\n",
            "4 * 7 = 28\n",
            "3 * 7 = 21\n",
            "2 * 7 = 14\n",
            "1 * 7 = 7\n"
          ],
          "name": "stdout"
        }
      ]
    },
    {
      "cell_type": "code",
      "metadata": {
        "colab": {
          "base_uri": "https://localhost:8080/"
        },
        "id": "wkQOvUfFVaTd",
        "outputId": "41e36c2e-32d6-43a0-99ee-19689f728c91"
      },
      "source": [
        "def s(x,r=0):\r\n",
        "  if x==0:\r\n",
        "    print(\"Your result is:\",r)\r\n",
        "    return\r\n",
        "    \r\n",
        "  r=r+x\r\n",
        "  return s(x-1,r)\r\n",
        "  \r\n",
        "\r\n",
        "s(10)"
      ],
      "execution_count": 25,
      "outputs": [
        {
          "output_type": "stream",
          "text": [
            "Your result is: 55\n"
          ],
          "name": "stdout"
        }
      ]
    },
    {
      "cell_type": "code",
      "metadata": {
        "colab": {
          "base_uri": "https://localhost:8080/"
        },
        "id": "1SABO7SOWpB0",
        "outputId": "11b5bc02-5a65-4eec-bb24-f63059e8fae1"
      },
      "source": [
        "def even(x):\r\n",
        "  if x==100:\r\n",
        "    print(x,\" \",end='')\r\n",
        "    return\r\n",
        "  print(x,\" \",end='')\r\n",
        "  return even(x+2)\r\n",
        "\r\n",
        "even(2)"
      ],
      "execution_count": 27,
      "outputs": [
        {
          "output_type": "stream",
          "text": [
            "2  4  6  8  10  12  14  16  18  20  22  24  26  28  30  32  34  36  38  40  42  44  46  48  50  52  54  56  58  60  62  64  66  68  70  72  74  76  78  80  82  84  86  88  90  92  94  96  98  100  "
          ],
          "name": "stdout"
        }
      ]
    },
    {
      "cell_type": "markdown",
      "metadata": {
        "id": "J03M02L0aBnl"
      },
      "source": [
        "## Pattern Programs"
      ]
    },
    {
      "cell_type": "code",
      "metadata": {
        "colab": {
          "base_uri": "https://localhost:8080/"
        },
        "id": "AfOA22MBaBJW",
        "outputId": "f2524a7e-7df1-4655-bacd-88a23ac5dc76"
      },
      "source": [
        "for i in range(5):\r\n",
        "  for j in range(5):\r\n",
        "    print(\"*\",end='')\r\n",
        "  print(\"\\n\")"
      ],
      "execution_count": 33,
      "outputs": [
        {
          "output_type": "stream",
          "text": [
            "*****\n",
            "\n",
            "*****\n",
            "\n",
            "*****\n",
            "\n",
            "*****\n",
            "\n",
            "*****\n",
            "\n"
          ],
          "name": "stdout"
        }
      ]
    },
    {
      "cell_type": "code",
      "metadata": {
        "colab": {
          "base_uri": "https://localhost:8080/"
        },
        "id": "nMn3u_xvYPee",
        "outputId": "aa9af673-c9bc-4564-fab9-295c5dca76e1"
      },
      "source": [
        "for i in range(65,70):\r\n",
        "  for j in range(5):\r\n",
        "    print(chr(i),end='')\r\n",
        "  print(\"\\n\")"
      ],
      "execution_count": 37,
      "outputs": [
        {
          "output_type": "stream",
          "text": [
            "AAAAA\n",
            "\n",
            "BBBBB\n",
            "\n",
            "CCCCC\n",
            "\n",
            "DDDDD\n",
            "\n",
            "EEEEE\n",
            "\n"
          ],
          "name": "stdout"
        }
      ]
    },
    {
      "cell_type": "code",
      "metadata": {
        "colab": {
          "base_uri": "https://localhost:8080/"
        },
        "id": "aajlQHIxbjPt",
        "outputId": "06fe2b14-5e1c-44c7-933e-19ccb6f4a59e"
      },
      "source": [
        "for i in range(1,6):\r\n",
        "  for j in range(1,i+1):\r\n",
        "    print(i,end='')\r\n",
        "  print(\"\\n\")"
      ],
      "execution_count": 39,
      "outputs": [
        {
          "output_type": "stream",
          "text": [
            "1\n",
            "\n",
            "22\n",
            "\n",
            "333\n",
            "\n",
            "4444\n",
            "\n",
            "55555\n",
            "\n"
          ],
          "name": "stdout"
        }
      ]
    },
    {
      "cell_type": "code",
      "metadata": {
        "colab": {
          "base_uri": "https://localhost:8080/"
        },
        "id": "2AILg1F_b2Z8",
        "outputId": "a023ebe4-2e15-4421-f67a-4ed90db5e17e"
      },
      "source": [
        "s=input(\"Enter any name:\")\r\n",
        "s=s.upper()\r\n",
        "n=len(s)\r\n",
        "for i in range(n+1):\r\n",
        "  for j in range(i):\r\n",
        "    print(s[j],end='')\r\n",
        "  print(\"\\n\")"
      ],
      "execution_count": 43,
      "outputs": [
        {
          "output_type": "stream",
          "text": [
            "Enter any name:prabhu\n",
            "\n",
            "\n",
            "P\n",
            "\n",
            "PR\n",
            "\n",
            "PRA\n",
            "\n",
            "PRAB\n",
            "\n",
            "PRABH\n",
            "\n",
            "PRABHU\n",
            "\n"
          ],
          "name": "stdout"
        }
      ]
    },
    {
      "cell_type": "code",
      "metadata": {
        "colab": {
          "base_uri": "https://localhost:8080/"
        },
        "id": "OwmB3fyZcX2o",
        "outputId": "fc0a557c-076e-4a5a-f0b2-9843a9736e66"
      },
      "source": [
        "for i in range(5):\r\n",
        "  k=70\r\n",
        "  for j in range(i,5):\r\n",
        "    k=k-1\r\n",
        "    print(chr(k),end='')\r\n",
        "  print(\"\\n\")"
      ],
      "execution_count": 46,
      "outputs": [
        {
          "output_type": "stream",
          "text": [
            "EDCBA\n",
            "\n",
            "EDCB\n",
            "\n",
            "EDC\n",
            "\n",
            "ED\n",
            "\n",
            "E\n",
            "\n"
          ],
          "name": "stdout"
        }
      ]
    }
  ]
}