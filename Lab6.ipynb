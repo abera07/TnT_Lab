{
  "nbformat": 4,
  "nbformat_minor": 0,
  "metadata": {
    "colab": {
      "name": "Lab6.ipynb",
      "provenance": []
    },
    "kernelspec": {
      "name": "python3",
      "display_name": "Python 3"
    }
  },
  "cells": [
    {
      "cell_type": "code",
      "metadata": {
        "colab": {
          "base_uri": "https://localhost:8080/",
          "height": 0
        },
        "id": "llSSPIYogqc5",
        "outputId": "b84a61f4-f337-4a2f-b44f-8c433fc8227c"
      },
      "source": [
        "import math\r\n",
        "\r\n",
        "y=int(input(\"Enter a number:\"))\r\n",
        "x=int(input(\"Enter the power to which you want to raise the number:\"))\r\n",
        "r=math.pow(y,x)\r\n",
        "print(\"The result is:\",r)"
      ],
      "execution_count": 1,
      "outputs": [
        {
          "output_type": "stream",
          "text": [
            "Enter a number:5\n",
            "Enter the power to which you want to raise the number:2\n",
            "The result is: 25.0\n"
          ],
          "name": "stdout"
        }
      ]
    },
    {
      "cell_type": "code",
      "metadata": {
        "colab": {
          "base_uri": "https://localhost:8080/",
          "height": 0
        },
        "id": "egg5Isv7h6cW",
        "outputId": "3f6031a8-beed-45b2-870b-25caea92044e"
      },
      "source": [
        "y**x"
      ],
      "execution_count": 2,
      "outputs": [
        {
          "output_type": "execute_result",
          "data": {
            "text/plain": [
              "25"
            ]
          },
          "metadata": {
            "tags": []
          },
          "execution_count": 2
        }
      ]
    },
    {
      "cell_type": "code",
      "metadata": {
        "colab": {
          "base_uri": "https://localhost:8080/",
          "height": 0
        },
        "id": "tdEOT0r6kAgJ",
        "outputId": "2fd83d00-9cea-43c7-e63c-c46f31f16ace"
      },
      "source": [
        "#WAP TO MATCH WHETHER YOUR GUESED VALUES ARE SAME AS THAT OF SCORED VALUES AND ALSO FIND THE GRADES OF SCORED VALUES\r\n",
        "import random\r\n",
        "guessed=int(input(\"Please guess your marks for the Mathematics:\"))\r\n",
        "real=random.randint(0,100)\r\n",
        "\r\n",
        "if real==guessed:\r\n",
        "  print(\"Great, you guessed correctly!\")\r\n",
        "else:\r\n",
        "  print(\"Wrong! You scored:\",real)\r\n",
        "\r\n",
        "print(\"Printing your grade...\")\r\n",
        "\r\n",
        "if real>=50 and real<60:\r\n",
        "  print(\"Grade C:\")\r\n",
        "elif real>=60 and real<70:\r\n",
        "  print(\"Grade B\")\r\n",
        "elif real>=70 and real<80:\r\n",
        "  print(\"Grade A\")\r\n",
        "elif real>=80 and real<90:\r\n",
        "  print(\"Grade E\")\r\n",
        "else:\r\n",
        "  print(\"Grade O\")"
      ],
      "execution_count": 4,
      "outputs": [
        {
          "output_type": "stream",
          "text": [
            "Please guess your marks for the Mathematics:45\n",
            "Wrong! You scored: 80\n",
            "Printing your grade...\n",
            "Grade E\n"
          ],
          "name": "stdout"
        }
      ]
    },
    {
      "cell_type": "code",
      "metadata": {
        "colab": {
          "base_uri": "https://localhost:8080/",
          "height": 0
        },
        "id": "DYADdLvHmESf",
        "outputId": "068bdd6c-3542-4f1f-a70e-776e452602dc"
      },
      "source": [
        "#WAP TO PREPARE A SHOPPING LIST, ATLEAST 10 INPUTS AND TO DISPLAY THE ITEM WHICH HAS MAX PRIORITY\r\n",
        "\r\n",
        "i=0\r\n",
        "shop={}\r\n",
        "c={}\r\n",
        "while(i==0):\r\n",
        "  x=input(\"Enter the item for the shopping list:\")\r\n",
        "  y=int(input(\"Enter the priority of the item, as 1/2/3. Please do not enter a priority number twice,it will cause the replacement of items.\"))\r\n",
        "  c={y:x}\r\n",
        "  shop.update(c)\r\n",
        "  i=int(input(\"Enter 0 to continue editing list else 1 to stop editing.\"))\r\n",
        "\r\n",
        "print(shop)"
      ],
      "execution_count": 12,
      "outputs": [
        {
          "output_type": "stream",
          "text": [
            "Enter the item for the shopping list:nutella\n",
            "Enter the priority of the item, as 1/2/3. Please do not enter a priority number twice,it will cause the replacement of items.1\n",
            "Enter 0 to continue editing list else 1 to stop editing.0\n",
            "Enter the item for the shopping list:waffles\n",
            "Enter the priority of the item, as 1/2/3. Please do not enter a priority number twice,it will cause the replacement of items.4\n",
            "Enter 0 to continue editing list else 1 to stop editing.0\n",
            "Enter the item for the shopping list:jojoba oil\n",
            "Enter the priority of the item, as 1/2/3. Please do not enter a priority number twice,it will cause the replacement of items.2\n",
            "Enter 0 to continue editing list else 1 to stop editing.0\n",
            "Enter the item for the shopping list:yogurt\n",
            "Enter the priority of the item, as 1/2/3. Please do not enter a priority number twice,it will cause the replacement of items.3\n",
            "Enter 0 to continue editing list else 1 to stop editing.0\n",
            "Enter the item for the shopping list:cheese\n",
            "Enter the priority of the item, as 1/2/3. Please do not enter a priority number twice,it will cause the replacement of items.5\n",
            "Enter 0 to continue editing list else 1 to stop editing.1\n",
            "{1: 'nutella', 4: 'waffles', 2: 'jojoba oil', 3: 'yogurt', 5: 'cheese'}\n"
          ],
          "name": "stdout"
        }
      ]
    },
    {
      "cell_type": "code",
      "metadata": {
        "colab": {
          "base_uri": "https://localhost:8080/",
          "height": 0
        },
        "id": "QjHnGQKWpEgQ",
        "outputId": "26d5c359-f9ca-4c74-b62e-015a5c937ac6"
      },
      "source": [
        "print(\"The item of maximum priority:\")\r\n",
        "print(shop[1])"
      ],
      "execution_count": 15,
      "outputs": [
        {
          "output_type": "stream",
          "text": [
            "The item of maximum priority:\n",
            "nutella\n"
          ],
          "name": "stdout"
        }
      ]
    },
    {
      "cell_type": "code",
      "metadata": {
        "colab": {
          "base_uri": "https://localhost:8080/"
        },
        "id": "Cf5dAb_0nI5T",
        "outputId": "72fe3fdf-b33d-4474-e86b-f78ea4ddc426"
      },
      "source": [
        "#WAP TO  CALCULATE THE COST OF FILLING A CYLINDER (USER WILL GIVE THE DIMENSION)  \r\n",
        "#@ 235/Cu.m and also the time to fill if it takes 14minutes to fill 1 cu. m\r\n",
        "\r\n",
        "radius=float(input(\"Please enter the radius of the cylinder in terms of the unit metre, only.\"))\r\n",
        "ht=float(input(\"Please enter the height of the cylinder in terms of the unit metre, only.\"))\r\n",
        "vol=float(3.14*radius*radius*ht)\r\n",
        "print(\"The volume of cylinder in cubic metre is:\",vol)\r\n",
        "cpm=float(input(\"Enter the cost per cubic metre:\"))\r\n",
        "cost=vol*cpm\r\n",
        "print(\"The cost of filling your cylinder is: Rs.\",cost)\r\n",
        "print(\"The time taken to fill your cylinder:\",str(vol*14),\"mins\")"
      ],
      "execution_count": 33,
      "outputs": [
        {
          "output_type": "stream",
          "text": [
            "Please enter the radius of the cylinder in terms of the unit metre, only.2\n",
            "Please enter the height of the cylinder in terms of the unit metre, only.4\n",
            "The volume of cylinder in cubic metre is: 50.24\n",
            "Enter the cost per cubic metre:235\n",
            "The cost of filling your cylinder is: Rs. 11806.4\n",
            "The time taken to fill your cylinder: 703.36 mins\n"
          ],
          "name": "stdout"
        }
      ]
    },
    {
      "cell_type": "code",
      "metadata": {
        "colab": {
          "base_uri": "https://localhost:8080/"
        },
        "id": "SyPgM5_IrdLE",
        "outputId": "b8354fa2-b27d-4c4f-8872-9c7d579eb06c"
      },
      "source": [
        "#WAP to store a student list with all the details of a student and give warning to students with attendance less than 60\r\n",
        "import pandas as pd\r\n",
        "people=[]\r\n",
        "i=0d\r\n",
        "while i==0:\r\n",
        "  print(\"Enter student details in the form of:Name/Roll/Branch/Attendance\")\r\n",
        "  name=input(\"Enter the name:\")\r\n",
        "  roll=int(input(\"Enter the roll number:\"))\r\n",
        "  branch=input(\"Enter branch:\")\r\n",
        "  att=float(input(\"Enter the percentage of attendance:\"))\r\n",
        "\r\n",
        "  people.append([name,roll,branch,att])\r\n",
        "  i=int(input(\"Enter 1 to stop and 0 to continue taking inputs:\"))\r\n",
        "\r\n",
        "print(people)\r\n",
        "df = pd.DataFrame(people,columns=['Name','Roll','Branch','Attendance'])"
      ],
      "execution_count": 22,
      "outputs": [
        {
          "output_type": "stream",
          "text": [
            "Enter student details in the form of:Name/Roll/Branch/Attendance\n",
            "Enter the name:ankita\n",
            "Enter the roll number:29\n",
            "Enter branch:csse\n",
            "Enter the percentage of attendance:70\n",
            "Enter 1 to stop and 0 to continue taking inputs:0\n",
            "Enter student details in the form of:Name/Roll/Branch/Attendance\n",
            "Enter the name:deep\n",
            "Enter the roll number:20\n",
            "Enter branch:cse\n",
            "Enter the percentage of attendance:45\n",
            "Enter 1 to stop and 0 to continue taking inputs:0\n",
            "Enter student details in the form of:Name/Roll/Branch/Attendance\n",
            "Enter the name:julia\n",
            "Enter the roll number:56\n",
            "Enter branch:etc\n",
            "Enter the percentage of attendance:67\n",
            "Enter 1 to stop and 0 to continue taking inputs:0\n",
            "Enter student details in the form of:Name/Roll/Branch/Attendance\n",
            "Enter the name:avneesh\n",
            "Enter the roll number:32\n",
            "Enter branch:cse\n",
            "Enter the percentage of attendance:43\n",
            "Enter 1 to stop and 0 to continue taking inputs:1\n",
            "[['ankita', 29, 'csse', 70.0], ['deep', 20, 'cse', 45.0], ['julia', 56, 'etc', 67.0], ['avneesh', 32, 'cse', 43.0]]\n"
          ],
          "name": "stdout"
        }
      ]
    },
    {
      "cell_type": "code",
      "metadata": {
        "colab": {
          "base_uri": "https://localhost:8080/",
          "height": 171
        },
        "id": "2ph35vzPvIL8",
        "outputId": "e5fedc03-7f3b-4da0-e5da-796ed8fc665d"
      },
      "source": [
        "df.head()"
      ],
      "execution_count": 23,
      "outputs": [
        {
          "output_type": "execute_result",
          "data": {
            "text/html": [
              "<div>\n",
              "<style scoped>\n",
              "    .dataframe tbody tr th:only-of-type {\n",
              "        vertical-align: middle;\n",
              "    }\n",
              "\n",
              "    .dataframe tbody tr th {\n",
              "        vertical-align: top;\n",
              "    }\n",
              "\n",
              "    .dataframe thead th {\n",
              "        text-align: right;\n",
              "    }\n",
              "</style>\n",
              "<table border=\"1\" class=\"dataframe\">\n",
              "  <thead>\n",
              "    <tr style=\"text-align: right;\">\n",
              "      <th></th>\n",
              "      <th>Name</th>\n",
              "      <th>Roll</th>\n",
              "      <th>Branch</th>\n",
              "      <th>Attendance</th>\n",
              "    </tr>\n",
              "  </thead>\n",
              "  <tbody>\n",
              "    <tr>\n",
              "      <th>0</th>\n",
              "      <td>ankita</td>\n",
              "      <td>29</td>\n",
              "      <td>csse</td>\n",
              "      <td>70.0</td>\n",
              "    </tr>\n",
              "    <tr>\n",
              "      <th>1</th>\n",
              "      <td>deep</td>\n",
              "      <td>20</td>\n",
              "      <td>cse</td>\n",
              "      <td>45.0</td>\n",
              "    </tr>\n",
              "    <tr>\n",
              "      <th>2</th>\n",
              "      <td>julia</td>\n",
              "      <td>56</td>\n",
              "      <td>etc</td>\n",
              "      <td>67.0</td>\n",
              "    </tr>\n",
              "    <tr>\n",
              "      <th>3</th>\n",
              "      <td>avneesh</td>\n",
              "      <td>32</td>\n",
              "      <td>cse</td>\n",
              "      <td>43.0</td>\n",
              "    </tr>\n",
              "  </tbody>\n",
              "</table>\n",
              "</div>"
            ],
            "text/plain": [
              "      Name  Roll Branch  Attendance\n",
              "0   ankita    29   csse        70.0\n",
              "1     deep    20    cse        45.0\n",
              "2    julia    56    etc        67.0\n",
              "3  avneesh    32    cse        43.0"
            ]
          },
          "metadata": {
            "tags": []
          },
          "execution_count": 23
        }
      ]
    },
    {
      "cell_type": "code",
      "metadata": {
        "colab": {
          "base_uri": "https://localhost:8080/"
        },
        "id": "O4UTYEPawKsa",
        "outputId": "e91aef4c-528c-49c4-fcac-6ce7856d1b7e"
      },
      "source": [
        "print(df.Name[df['Attendance'] <=60])\r\n",
        "print(\"\\n\\nWarning, you have low attendance!\")"
      ],
      "execution_count": 31,
      "outputs": [
        {
          "output_type": "stream",
          "text": [
            "1       deep\n",
            "3    avneesh\n",
            "Name: Name, dtype: object\n",
            "\n",
            "\n",
            "Warning, you have low attendance!\n"
          ],
          "name": "stdout"
        }
      ]
    }
  ]
}