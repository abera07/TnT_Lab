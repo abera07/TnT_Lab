{
  "nbformat": 4,
  "nbformat_minor": 0,
  "metadata": {
    "colab": {
      "name": "Lab4_HomeAssignment.ipynb",
      "provenance": []
    },
    "kernelspec": {
      "name": "python3",
      "display_name": "Python 3"
    }
  },
  "cells": [
    {
      "cell_type": "code",
      "metadata": {
        "colab": {
          "base_uri": "https://localhost:8080/"
        },
        "id": "SQ0wmPzAP6jo",
        "outputId": "cdd025b2-9418-4bf8-acb8-9a4501c44b8c"
      },
      "source": [
        "#Write a Python program to find the average of highest 3 values in a dictionary.\r\n",
        "marks={'A':91,'B':87,'C':64,'D':71,'E':76}\r\n",
        "\r\n",
        "tot=0\r\n",
        "c=0\r\n",
        "for i in marks.values():\r\n",
        "  tot=tot+int(i)\r\n",
        "  c=c+1\r\n",
        "print(\"Total Average is:\", tot/c)\r\n",
        "\r\n",
        "m=sorted(marks.values(),reverse=True)\r\n",
        "print(m)\r\n",
        "tot=0\r\n",
        "for i in range(3):\r\n",
        "  tot=tot+m[i]\r\n",
        "print(tot)\r\n",
        "print(\"Average of top 3 marks:\", tot/3 )"
      ],
      "execution_count": 9,
      "outputs": [
        {
          "output_type": "stream",
          "text": [
            "Total Average is: 77.8\n",
            "[91, 87, 76, 71, 64]\n",
            "254\n",
            "Average of top 3 marks: 84.66666666666667\n"
          ],
          "name": "stdout"
        }
      ]
    },
    {
      "cell_type": "code",
      "metadata": {
        "colab": {
          "base_uri": "https://localhost:8080/"
        },
        "id": "WB0a02JHTHFZ",
        "outputId": "f1e879f6-134d-4057-da3b-4936cc92ddfb"
      },
      "source": [
        "#Write a Python program to get the top FIVE items in an inventory.\r\n",
        "store = {'item1': 45.50, 'item2':35, 'item3': 41.30, 'item4':55, 'item5': 24,'item6': 67.50, 'item7':30, 'item8': 101, 'item9':59, 'item10': 2}\r\n",
        "new=sorted(store.values(),reverse=True)\r\n",
        "print(new)"
      ],
      "execution_count": 2,
      "outputs": [
        {
          "output_type": "stream",
          "text": [
            "[101, 67.5, 59, 55, 45.5, 41.3, 35, 30, 24, 2]\n"
          ],
          "name": "stdout"
        }
      ]
    },
    {
      "cell_type": "code",
      "metadata": {
        "colab": {
          "base_uri": "https://localhost:8080/"
        },
        "id": "5zcrUrNihzoT",
        "outputId": "db772c5e-242a-4c83-9546-881273ad7acc"
      },
      "source": [
        "def get_key(val,x):\r\n",
        "  for key,value in x.items():\r\n",
        "    if val==value:\r\n",
        "      return key\r\n",
        "\r\n",
        "topstore={}\r\n",
        "for i in range(0,6):\r\n",
        "  topstore.update({get_key(new[i],store):new[i]})\r\n",
        "\r\n",
        "print(\"Top 5 items in your store:\",topstore)"
      ],
      "execution_count": 3,
      "outputs": [
        {
          "output_type": "stream",
          "text": [
            "Top 5 items in your store: {'item8': 101, 'item6': 67.5, 'item9': 59, 'item4': 55, 'item1': 45.5, 'item3': 41.3}\n"
          ],
          "name": "stdout"
        }
      ]
    },
    {
      "cell_type": "code",
      "metadata": {
        "colab": {
          "base_uri": "https://localhost:8080/"
        },
        "id": "-m7oRYf5VAU6",
        "outputId": "cb8f3941-f1be-45c1-8eca-bea036e6ead1"
      },
      "source": [
        "#Write a Python program to replace dictionary values with their ASCII values\r\n",
        "abc={1:'A', 2:'E', 3:'i', 4:'O',5:'u'}\r\n",
        "c={}\r\n",
        "j=1\r\n",
        "for i in abc.values():\r\n",
        "  c={j:ord(i)}\r\n",
        "  abc.update(c)\r\n",
        "  j=j+1\r\n",
        "print(abc)"
      ],
      "execution_count": 4,
      "outputs": [
        {
          "output_type": "stream",
          "text": [
            "{1: 65, 2: 69, 3: 105, 4: 79, 5: 117}\n"
          ],
          "name": "stdout"
        }
      ]
    },
    {
      "cell_type": "code",
      "metadata": {
        "colab": {
          "base_uri": "https://localhost:8080/"
        },
        "id": "98mWVdaaVILB",
        "outputId": "118eb57c-ad1b-46b0-9fc6-293fad789225"
      },
      "source": [
        "#Write a Python program to create a dictionary of keys p, q, and r \r\n",
        "#where each key has as value a list from \r\n",
        "#101-120, 201-220, and 301-320 respectively. \r\n",
        "\r\n",
        "k={'p':list(range(101,121)),'q':list(range(201,221)),'r':list(range(301,321))}\r\n",
        "print(k)"
      ],
      "execution_count": 5,
      "outputs": [
        {
          "output_type": "stream",
          "text": [
            "{'p': [101, 102, 103, 104, 105, 106, 107, 108, 109, 110, 111, 112, 113, 114, 115, 116, 117, 118, 119, 120], 'q': [201, 202, 203, 204, 205, 206, 207, 208, 209, 210, 211, 212, 213, 214, 215, 216, 217, 218, 219, 220], 'r': [301, 302, 303, 304, 305, 306, 307, 308, 309, 310, 311, 312, 313, 314, 315, 316, 317, 318, 319, 320]}\n"
          ],
          "name": "stdout"
        }
      ]
    },
    {
      "cell_type": "code",
      "metadata": {
        "id": "dZbD50BUWf3X"
      },
      "source": [
        "#Display the seventh (both from beginning and end)value of each key from the dictionary.\r\n",
        "import random\r\n",
        "d={}\r\n",
        "\r\n",
        "for i in range(1,31):\r\n",
        "  d.update({i:i+random.randint(0,100)})"
      ],
      "execution_count": 6,
      "outputs": []
    },
    {
      "cell_type": "code",
      "metadata": {
        "colab": {
          "base_uri": "https://localhost:8080/"
        },
        "id": "BRpSRsCfX8Of",
        "outputId": "c83ee9f1-1518-4abc-f195-f1454cce913a"
      },
      "source": [
        "print(\"The 7th element from the beginning of the dictionary:\",d.get(7))\r\n",
        "a=len(d)-7\r\n",
        "print(\"The 7th element from the end of the dictionary:\",d.get(a))"
      ],
      "execution_count": 7,
      "outputs": [
        {
          "output_type": "stream",
          "text": [
            "The 7th element from the beginning of the dictionary: 74\n",
            "The 7th element from the end of the dictionary: 82\n"
          ],
          "name": "stdout"
        }
      ]
    }
  ]
}