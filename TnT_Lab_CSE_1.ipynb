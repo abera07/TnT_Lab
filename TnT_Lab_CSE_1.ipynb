{
  "nbformat": 4,
  "nbformat_minor": 0,
  "metadata": {
    "colab": {
      "name": "TnT_Lab_CSE_1.ipynb",
      "provenance": [],
      "authorship_tag": "ABX9TyNdMsxSUH/2X41RwQ6xz/E/"
    },
    "kernelspec": {
      "name": "python3",
      "display_name": "Python 3"
    }
  },
  "cells": [
    {
      "cell_type": "code",
      "metadata": {
        "colab": {
          "base_uri": "https://localhost:8080/"
        },
        "id": "GFPCN5bnXXs9",
        "outputId": "82d99b3c-8fc1-40b0-eb8f-0171ab2a2e74"
      },
      "source": [
        "\"\"\"Take a String like ‘I am learning Python everyday’ and do the below function on this\r\n",
        "a)Convert all to upper\r\n",
        "b)Convert all to Lower\r\n",
        "c)Count number of letters in string\r\n",
        "d)Check if ‘Everyday’ exist in string\r\n",
        "e)Find the position of ‘P’ in the string\r\n",
        "f)Replace ‘Python’ with ‘python course’ \r\n",
        "g)Print all letters except last one\r\n",
        "h)Print 5 characters from position 1.\r\n",
        "i)Fetch 'Python' from the string.\"\"\"\r\n",
        "\r\n",
        "s=\"I am learning Python everyday\"\r\n",
        "s_cap=s.upper()\r\n",
        "s_low=s.lower()\r\n",
        "print(f\"The original string : {s}\\nCapital letters:{s_cap}\\nLowercase letters:{s_low}\")\r\n",
        "letters=0\r\n",
        "\r\n",
        "for i in s:\r\n",
        "  if (i.isalpha()):\r\n",
        "    letters=letters+1\r\n",
        "print(\"The number of letters in s:\",letters)\r\n",
        "\r\n",
        "if(\"everyday\" in s):\r\n",
        "  print(\"The word is present in the string.\")\r\n",
        "\r\n",
        "for i in range(0,len(s)):\r\n",
        "  if s[i]=='P':\r\n",
        "    print(f\"P is in the position {i+1}.\")\r\n",
        "\r\n",
        "s=s.replace(\"Python\",\"python course\")\r\n",
        "print(f\"Modified string is:{s}\")\r\n",
        "\r\n",
        "print(\"Printing all characters except the last one:\")\r\n",
        "for i in range(0,len(s)-1):\r\n",
        "  print(s[i],end='')\r\n",
        "\r\n",
        "print('\\nPrinting the first 5 characters from position 1:')\r\n",
        "for i in range(1,7):\r\n",
        "  print(s[i],end='')\r\n",
        "print('\\n')\r\n",
        "l=s.split()\r\n",
        "print(f\"Fetching word l[3]:{l[3]}\")"
      ],
      "execution_count": 1,
      "outputs": [
        {
          "output_type": "stream",
          "text": [
            "The original string : I am learning Python everyday\n",
            "Capital letters:I AM LEARNING PYTHON EVERYDAY\n",
            "Lowercase letters:i am learning python everyday\n",
            "The number of letters in s: 25\n",
            "The word is present in the string.\n",
            "P is in the position 15.\n",
            "Modified string is:I am learning python course everyday\n",
            "Printing all characters except the last one:\n",
            "I am learning python course everyda\n",
            "Printing the first 5 characters from position 1:\n",
            " am le\n",
            "\n",
            "Fetching word l[3]:python\n"
          ],
          "name": "stdout"
        }
      ]
    },
    {
      "cell_type": "code",
      "metadata": {
        "id": "xQ7G8-5JUUyD",
        "colab": {
          "base_uri": "https://localhost:8080/"
        },
        "outputId": "d0db49fe-a0f8-49bb-f609-2c1fecf50767"
      },
      "source": [
        "\"\"\"Create a list and perform the following methods on the list.\r\n",
        "a)sort the list in both ascending and desecending order.\r\n",
        "b)create a 2 dimensional list and fetch all items from the list.\r\n",
        "c)Write a program to remove duplicates from the list.\r\n",
        "d)create a tuple and unpack the tuple.\r\n",
        "e)join the two tuples.\r\n",
        "f)Find out the common item from 2 tuples and eliminate the commmon item from both the tuple.\r\n",
        "\"\"\"\r\n",
        "l=[1,23,6,74,7,84,32,2,9,101,30,5,34,69,89,50]\r\n",
        "asc=sorted(l)\r\n",
        "des=sorted(l,reverse=True)\r\n",
        "print(f\"Original list:{l}\\nList in ascending order:{asc}\\nList in descending order:{des}\")\r\n",
        "\r\n",
        "a = [[1, 2, 3, 4], [5, 6], [7, 8, 9]]\r\n",
        "for i in range(len(a)):\r\n",
        "    for j in range(len(a[i])):\r\n",
        "        print(a[i][j], end=' ')\r\n",
        "    print('\\n')\r\n",
        "\r\n",
        "l2=[1, 3, 5, 6, 3, 5, 6, 1,5,6,3,5,1]\r\n",
        "res = [] \r\n",
        "[res.append(x) for x in l2 if x not in res] \r\n",
        "print(\"Duplicates removed:\",res)\r\n",
        "\r\n",
        "tup=(1,2,3,4)\r\n",
        "v1,v2,v3,v4=tup\r\n",
        "print(f\"Unpacked tuple, v1:{v1}, v2:{v2}, v3:{v3}, v4:{v4}\")\r\n",
        "\r\n",
        "tuple1 = (\"a\", \"b\" , \"c\")\r\n",
        "tuple2 = (1, 2, 3)\r\n",
        "\r\n",
        "tuple3 = tuple1 + tuple2\r\n",
        "print(tuple3)\r\n",
        "tuple4=(1,5,6,2)\r\n",
        "print(\"Operating with tuple2 and tuple4\")\r\n",
        "print(f\"Original tuples:{tuple2} and {tuple4}\")\r\n",
        "\r\n",
        "l2=list(tuple2)\r\n",
        "dup=list(tuple2)\r\n",
        "l4=list(tuple4)\r\n",
        "for i in dup:\r\n",
        "  for j in l4:\r\n",
        "    if i==j:\r\n",
        "      l4.remove(i)\r\n",
        "      l2.remove(i)\r\n",
        "\r\n",
        "tuple2=tuple(l2)\r\n",
        "tuple4=tuple(l4)\r\n",
        "print(f\"Modified tuples: {tuple2} and {tuple4}\")"
      ],
      "execution_count": 2,
      "outputs": [
        {
          "output_type": "stream",
          "text": [
            "Original list:[1, 23, 6, 74, 7, 84, 32, 2, 9, 101, 30, 5, 34, 69, 89, 50]\n",
            "List in ascending order:[1, 2, 5, 6, 7, 9, 23, 30, 32, 34, 50, 69, 74, 84, 89, 101]\n",
            "List in descending order:[101, 89, 84, 74, 69, 50, 34, 32, 30, 23, 9, 7, 6, 5, 2, 1]\n",
            "1 2 3 4 \n",
            "\n",
            "5 6 \n",
            "\n",
            "7 8 9 \n",
            "\n",
            "Duplicates removed: [1, 3, 5, 6]\n",
            "Unpacked tuple, v1:1, v2:2, v3:3, v4:4\n",
            "('a', 'b', 'c', 1, 2, 3)\n",
            "Operating with tuple2 and tuple4\n",
            "Original tuples:(1, 2, 3) and (1, 5, 6, 2)\n",
            "Modified tuples: (3,) and (5, 6)\n"
          ],
          "name": "stdout"
        }
      ]
    },
    {
      "cell_type": "code",
      "metadata": {
        "colab": {
          "base_uri": "https://localhost:8080/"
        },
        "id": "sgCpT5Dqhlxn",
        "outputId": "1c52691d-691f-4b86-eb54-a4cb9eaaff71"
      },
      "source": [
        "\"\"\"Print below using For loop\r\n",
        "\r\n",
        "X\r\n",
        "X\r\n",
        "X\r\n",
        "XXXXXX\r\n",
        "\r\n",
        "\"\"\"\r\n",
        "\r\n",
        "for i in range(3):\r\n",
        "  print(\"X\")\r\n",
        "for i in range(6):\r\n",
        "  print(\"X\",end='')"
      ],
      "execution_count": 3,
      "outputs": [
        {
          "output_type": "stream",
          "text": [
            "X\n",
            "X\n",
            "X\n",
            "XXXXXX"
          ],
          "name": "stdout"
        }
      ]
    },
    {
      "cell_type": "code",
      "metadata": {
        "id": "ft5CjZlNiCGN",
        "colab": {
          "base_uri": "https://localhost:8080/"
        },
        "outputId": "9e01a71d-6b63-46db-aad1-b80d225229c0"
      },
      "source": [
        "\"\"\"Define a list with item with both upper and lower case and sort the list.\"\"\"\r\n",
        "l=['apple','ORANGE','sTraWbeRRies','BLUEBERRY']\r\n",
        "l=sorted(l)\r\n",
        "print(l)"
      ],
      "execution_count": 4,
      "outputs": [
        {
          "output_type": "stream",
          "text": [
            "['BLUEBERRY', 'ORANGE', 'apple', 'sTraWbeRRies']\n"
          ],
          "name": "stdout"
        }
      ]
    },
    {
      "cell_type": "code",
      "metadata": {
        "colab": {
          "base_uri": "https://localhost:8080/"
        },
        "id": "uaTizfSZiNm3",
        "outputId": "1c692e5d-0cd6-41c3-f177-a42b121d4969"
      },
      "source": [
        "\"\"\"Take your mobile number as input and convert it to characters for each digit(ex- 1 as one).\"\"\"\r\n",
        "\r\n",
        "def word(s):\r\n",
        "  if s==1:\r\n",
        "    return 'one'\r\n",
        "  elif s==2:\r\n",
        "    return 'two'\r\n",
        "  elif s==3:\r\n",
        "    return 'three'\r\n",
        "  elif s==4:\r\n",
        "    return 'four'\r\n",
        "  elif s==5:\r\n",
        "    return 'five'\r\n",
        "  elif s==6:\r\n",
        "    return 'six'\r\n",
        "  elif s==7:\r\n",
        "    return 'seven'\r\n",
        "  elif s==8:\r\n",
        "    return 'eight'\r\n",
        "  else:\r\n",
        "    return 'nine'\r\n",
        "\r\n",
        "num=input(\"Enter your phone number:\")\r\n",
        "digits = [int(x) for x in str(num)]\r\n",
        "digits_2=[word(x) for x in digits]\r\n",
        "\r\n",
        "print(digits_2)"
      ],
      "execution_count": 5,
      "outputs": [
        {
          "output_type": "stream",
          "text": [
            "Enter your phone number:9831876806\n",
            "['nine', 'eight', 'three', 'one', 'eight', 'seven', 'six', 'eight', 'nine', 'six']\n"
          ],
          "name": "stdout"
        }
      ]
    },
    {
      "cell_type": "code",
      "metadata": {
        "colab": {
          "base_uri": "https://localhost:8080/"
        },
        "id": "Fd45qaLc2joN",
        "outputId": "b373bb0d-0953-4cbf-b39c-894e75ccf9b7"
      },
      "source": [
        "\"\"\"Define a dictionary for students with name and marks and\r\n",
        "print the marks for a particular student matching with the name.\"\"\"\r\n",
        "\r\n",
        "dict={'Tsubaki':23.5,'Ishiguro':34,'Kobayashi':78,'Tachibana':67}\r\n",
        "val=0\r\n",
        "def get_val(s,d):\r\n",
        "  for key,value in d.items():\r\n",
        "    if key==s:\r\n",
        "      val=value\r\n",
        "  return val\r\n",
        "\r\n",
        "name=input(\"Enter the student name:\")\r\n",
        "print(\"The marks of this student is:\",get_val(name,dict))"
      ],
      "execution_count": 6,
      "outputs": [
        {
          "output_type": "stream",
          "text": [
            "Enter the student name:Kobayashi\n",
            "The marks of this student is: 78\n"
          ],
          "name": "stdout"
        }
      ]
    },
    {
      "cell_type": "code",
      "metadata": {
        "colab": {
          "base_uri": "https://localhost:8080/"
        },
        "id": "oVKOdWNh33vn",
        "outputId": "649edf08-4efb-4f6c-a9b8-3f5be400106f"
      },
      "source": [
        "\"\"\"Define a function with a single parameter\r\n",
        "and print some message,pass multiple arguments for that function.\"\"\"\r\n",
        "\r\n",
        "def weird(*kwargs):\r\n",
        "  print(\"Non-named arguments are:\",kwargs)\r\n",
        "\r\n",
        "weird(1,2,3,4,5)"
      ],
      "execution_count": 7,
      "outputs": [
        {
          "output_type": "stream",
          "text": [
            "Non-named arguments are: (1, 2, 3, 4, 5)\n"
          ],
          "name": "stdout"
        }
      ]
    },
    {
      "cell_type": "code",
      "metadata": {
        "colab": {
          "base_uri": "https://localhost:8080/"
        },
        "id": "yqppuUkJkDG-",
        "outputId": "f6a3ea7b-4774-499c-e70e-7c041d9ea07c"
      },
      "source": [
        "\"\"\"Print every alternate prime numbers between 1 to 100\"\"\"\r\n",
        "count=0\r\n",
        "for num in range(1,101):\r\n",
        "  if num>1:\r\n",
        "    k=0\r\n",
        "    for j in range(1,num+1):\r\n",
        "      if(num%j==0):\r\n",
        "        k=k+1\r\n",
        "    if k==2:\r\n",
        "      count=count+1 \r\n",
        "      if count%2!=0:\r\n",
        "        print(num)\r\n",
        "   "
      ],
      "execution_count": 8,
      "outputs": [
        {
          "output_type": "stream",
          "text": [
            "2\n",
            "5\n",
            "11\n",
            "17\n",
            "23\n",
            "31\n",
            "41\n",
            "47\n",
            "59\n",
            "67\n",
            "73\n",
            "83\n",
            "97\n"
          ],
          "name": "stdout"
        }
      ]
    },
    {
      "cell_type": "code",
      "metadata": {
        "id": "C9mXL2DNttrF",
        "colab": {
          "base_uri": "https://localhost:8080/"
        },
        "outputId": "d7ac4155-928e-4080-978a-b700477ecec4"
      },
      "source": [
        "\"\"\"Define a function to reverse a string and print it.\"\"\"\r\n",
        "\r\n",
        "def str_rev(s):\r\n",
        "  res=''\r\n",
        " \r\n",
        "  for i in range(len(s)-1,-1,-1):\r\n",
        "    res=res+s[i]\r\n",
        "    \r\n",
        "  return res\r\n",
        "\r\n",
        "s=input(\"Enter a string:\")\r\n",
        "print(\"Reversed string is:\",str_rev(s))"
      ],
      "execution_count": 9,
      "outputs": [
        {
          "output_type": "stream",
          "text": [
            "Enter a string:harry potter\n",
            "Reversed string is: rettop yrrah\n"
          ],
          "name": "stdout"
        }
      ]
    }
  ]
}