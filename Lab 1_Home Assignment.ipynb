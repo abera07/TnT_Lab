{
 "cells": [
  {
   "cell_type": "code",
   "execution_count": 1,
   "metadata": {},
   "outputs": [],
   "source": [
    "#Fibonacci sequence\n",
    "\n",
    "def fib():\n",
    "    n=int(input(\"Enter the length of the sequence to be printed: \"))\n",
    "    a=[]\n",
    "    a.append(0)\n",
    "    a.append(1)\n",
    "    \n",
    "    for i in range(3,n+1):\n",
    "        x=a[i-3]\n",
    "        y=a[i-2]\n",
    "        a.append(x+y)\n",
    "        \n",
    "    for x in range(len(a)):\n",
    "        print(a[x],\" \", end='')       "
   ]
  },
  {
   "cell_type": "code",
   "execution_count": 2,
   "metadata": {},
   "outputs": [
    {
     "name": "stdout",
     "output_type": "stream",
     "text": [
      "Enter the length of the sequence to be printed: 5\n",
      "0  1  1  2  3  "
     ]
    }
   ],
   "source": [
    "fib()"
   ]
  },
  {
   "cell_type": "code",
   "execution_count": 3,
   "metadata": {},
   "outputs": [],
   "source": [
    "#WAP to evaluate the equation y=xn where n is a non-negative integer.\n",
    "\n",
    "def st_line():\n",
    "    x=int(input(\"Enter the x coordinate:\"))\n",
    "    \n",
    "    while(True):\n",
    "        n=int(input(\"Enter a positive slope:\"))\n",
    "        if(n>=0):\n",
    "            break\n",
    "        \n",
    "    return (n*x)"
   ]
  },
  {
   "cell_type": "code",
   "execution_count": 4,
   "metadata": {},
   "outputs": [
    {
     "name": "stdout",
     "output_type": "stream",
     "text": [
      "Enter the x coordinate:3\n",
      "Enter a positive slope:-5\n",
      "Enter a positive slope:-3\n",
      "Enter a positive slope:2\n",
      "The corresponding y coordinate is: 6\n"
     ]
    }
   ],
   "source": [
    "print(\"The corresponding y coordinate is:\", st_line())"
   ]
  },
  {
   "cell_type": "code",
   "execution_count": 5,
   "metadata": {},
   "outputs": [
    {
     "name": "stdout",
     "output_type": "stream",
     "text": [
      "Enter the last term:3\n",
      "The sum of the series is: 10\n"
     ]
    }
   ],
   "source": [
    "#WAP to sum the following series S=1+(1+2)+(1+2+3)+...+(1+2+3+...+n)\n",
    "\n",
    "n=int(input(\"Enter the last term:\"))\n",
    "\n",
    "S=0\n",
    "for i in range(1,n+1):\n",
    "    for j in range(1,i+1):\n",
    "        S=S+j\n",
    "print(\"The sum of the series is:\",S)"
   ]
  },
  {
   "cell_type": "code",
   "execution_count": 6,
   "metadata": {},
   "outputs": [],
   "source": [
    "#WAP to input any two integers, and provide a menu to the user to select any of the options as:\n",
    "#Add, subtract, multiply, divide and display the result accordingly\n",
    "\n",
    "def calculation(choice):\n",
    "    x=int(input(\"Enter an integer:\"))\n",
    "    y=int(input(\"Enter another integer:\"))\n",
    "    switcher ={\n",
    "        1:(x+y),\n",
    "        2:(x-y),\n",
    "        3:(x*y),\n",
    "        4:(x/y)\n",
    "    }\n",
    "    \n",
    "    return switcher.get(choice,\"Incorrect input\")"
   ]
  },
  {
   "cell_type": "code",
   "execution_count": 7,
   "metadata": {},
   "outputs": [
    {
     "name": "stdout",
     "output_type": "stream",
     "text": [
      "Enter your choice:\n",
      "1.Add\n",
      "2.Substract\n",
      "3.Multiply\n",
      "4.Divide.\n",
      "3\n",
      "Enter an integer:4\n",
      "Enter another integer:70\n"
     ]
    },
    {
     "data": {
      "text/plain": [
       "280"
      ]
     },
     "execution_count": 7,
     "metadata": {},
     "output_type": "execute_result"
    }
   ],
   "source": [
    "choice=int(input(\"Enter your choice:\\n1.Add\\n2.Substract\\n3.Multiply\\n4.Divide.\\n\"))\n",
    "calculation(choice)"
   ]
  },
  {
   "cell_type": "code",
   "execution_count": 8,
   "metadata": {},
   "outputs": [],
   "source": [
    "#WAP to find the roots of a quadratic equation ax2+bx+c=0 using  if-else statement.\n",
    "import math\n",
    "def roots(a, b, c):\n",
    "    r=b**2-4*a*c\n",
    "    \n",
    "    if(r<0):\n",
    "        print(\"No roots possible.\")\n",
    "    elif(r==0):\n",
    "        root=(-b)/(2*a)\n",
    "        print(\"One root is possible: \",root)\n",
    "    else:\n",
    "        r1=((-b)+math.sqrt(r))/(2*a)\n",
    "        r2=((-b)-math.sqrt(r))/(2*a)\n",
    "        print(\"The two roots are:\", r1, \"and \",r2)"
   ]
  },
  {
   "cell_type": "code",
   "execution_count": 9,
   "metadata": {},
   "outputs": [
    {
     "name": "stdout",
     "output_type": "stream",
     "text": [
      "The coefficients of quadratic equation is: ax^2+bx+c, are a,b and c respectively.\n",
      "\n",
      "Enter coefficient a,b,c respectively:6 7 2\n"
     ]
    }
   ],
   "source": [
    "print(\"The coefficients of quadratic equation is: ax^2+bx+c, are a,b and c respectively.\")\n",
    "\n",
    "a,b,c=list(map(int,(input(\"\\nEnter coefficient a,b,c respectively:\").split(\" \"))))"
   ]
  },
  {
   "cell_type": "code",
   "execution_count": 10,
   "metadata": {},
   "outputs": [
    {
     "name": "stdout",
     "output_type": "stream",
     "text": [
      "The two roots are: -0.5 and  -0.6666666666666666\n"
     ]
    }
   ],
   "source": [
    "roots(a,b,c)"
   ]
  }
 ],
 "metadata": {
  "kernelspec": {
   "display_name": "Python 3",
   "language": "python",
   "name": "python3"
  },
  "language_info": {
   "codemirror_mode": {
    "name": "ipython",
    "version": 3
   },
   "file_extension": ".py",
   "mimetype": "text/x-python",
   "name": "python",
   "nbconvert_exporter": "python",
   "pygments_lexer": "ipython3",
   "version": "3.7.3"
  }
 },
 "nbformat": 4,
 "nbformat_minor": 2
}
