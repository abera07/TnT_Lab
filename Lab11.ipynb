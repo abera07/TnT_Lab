{
  "nbformat": 4,
  "nbformat_minor": 0,
  "metadata": {
    "kernelspec": {
      "display_name": "Python 3",
      "language": "python",
      "name": "python3"
    },
    "language_info": {
      "codemirror_mode": {
        "name": "ipython",
        "version": 3
      },
      "file_extension": ".py",
      "mimetype": "text/x-python",
      "name": "python",
      "nbconvert_exporter": "python",
      "pygments_lexer": "ipython3",
      "version": "3.7.7"
    },
    "colab": {
      "name": "Lab11.ipynb",
      "provenance": []
    }
  },
  "cells": [
    {
      "cell_type": "code",
      "metadata": {
        "colab": {
          "base_uri": "https://localhost:8080/"
        },
        "id": "rKip_B1DFu4G",
        "outputId": "f68cd8e6-92f4-4340-980b-11a3e8e2ecb7"
      },
      "source": [
        "class Bird:\n",
        "    \n",
        "    def __init__(self):\n",
        "        print(\"Bird is ready\")\n",
        "\n",
        "    def whoisThis(self):\n",
        "        print(\"Bird\")\n",
        "\n",
        "    def swim(self):\n",
        "        print(\"Swim faster\")\n",
        "\n",
        "class Penguin(Bird):\n",
        "\n",
        "    def __init__(self):\n",
        "        super().__init__()\n",
        "        print(\"Penguin is ready\")\n",
        "\n",
        "    def whoisThis(self):\n",
        "        print(\"Penguin\")\n",
        "\n",
        "    def run(self):\n",
        "        print(\"Run faster\")\n",
        "\n",
        "peggy = Penguin()\n",
        "peggy.whoisThis()\n",
        "peggy.swim()\n",
        "peggy.run()"
      ],
      "execution_count": 1,
      "outputs": [
        {
          "output_type": "stream",
          "text": [
            "Bird is ready\n",
            "Penguin is ready\n",
            "Penguin\n",
            "Swim faster\n",
            "Run faster\n"
          ],
          "name": "stdout"
        }
      ]
    },
    {
      "cell_type": "code",
      "metadata": {
        "colab": {
          "base_uri": "https://localhost:8080/"
        },
        "id": "sJAZ6pE2Fu4X",
        "outputId": "565ae949-5d9f-4d07-a760-316e7101836e"
      },
      "source": [
        "#WAP TO CREATE A CLASS AND USE INSTANCE VARIABLES python\n",
        "class print1():\n",
        "    def __init__(self):\n",
        "        self.string=\"\"\n",
        " \n",
        "    def get(self):\n",
        "        self.string=input(\"Enter string: \")\n",
        " \n",
        "    def put(self):\n",
        "        print(\"String is:\")\n",
        "        print(self.string)\n",
        "\n",
        "obj=print1()\n",
        "obj.get()\n",
        "obj.put()"
      ],
      "execution_count": 2,
      "outputs": [
        {
          "output_type": "stream",
          "text": [
            "Enter string: Bananas\n",
            "String is:\n",
            "Bananas\n"
          ],
          "name": "stdout"
        }
      ]
    },
    {
      "cell_type": "code",
      "metadata": {
        "colab": {
          "base_uri": "https://localhost:8080/"
        },
        "id": "W3g1Vjg4Fu4b",
        "outputId": "9aefa827-529b-4d82-9ea9-798d6d7bf8ef"
      },
      "source": [
        "#WAP that creates a class with a single method in python\n",
        "class Shark:\n",
        "\n",
        "    animal_type = \"fish\"\n",
        "    location = \"ocean\"\n",
        "\n",
        "    def __init__(self, name, age):\n",
        "        self.name = name\n",
        "        self.age = age\n",
        "    def set_followers(self, followers):\n",
        "        print(\"This user has \" + str(followers) + \" followers\")\n",
        "\n",
        "\n",
        "def main():\n",
        "    sammy = Shark(\"Sammy\", 5)\n",
        "    print(sammy.name)\n",
        "    print(sammy.location)\n",
        "    stevie = Shark(\"Stevie\", 8)\n",
        "    print(stevie.name)\n",
        "    stevie.set_followers(77)\n",
        "    print(stevie.animal_type)\n",
        "\n",
        "if __name__ == \"__main__\":\n",
        "    main()"
      ],
      "execution_count": 3,
      "outputs": [
        {
          "output_type": "stream",
          "text": [
            "Sammy\n",
            "ocean\n",
            "Stevie\n",
            "This user has 77 followers\n",
            "fish\n"
          ],
          "name": "stdout"
        }
      ]
    },
    {
      "cell_type": "code",
      "metadata": {
        "colab": {
          "base_uri": "https://localhost:8080/"
        },
        "id": "mu0BQELnFu4f",
        "outputId": "aad01be1-8a5a-48cb-9246-c4dd7f58f2dd"
      },
      "source": [
        "# WAP TO COUNT NO. OF OBJECTS CREATED python\n",
        "class Student :\n",
        "    counter = 0\n",
        "\n",
        "    def __init__(self,name,age) :\n",
        "        self.name = name\n",
        "        self.age = age\n",
        "\n",
        "        Student.counter += 1\n",
        "    def printDetails(self) :\n",
        "        print(self.name,self.age,\"years old\")\n",
        "\n",
        "student1 = Student('A',22)\n",
        "student2 = Student('B',21)\n",
        "student3 = Student('C',21)\n",
        "\n",
        "print(\"Total number of objects created: \",Student.counter)"
      ],
      "execution_count": 4,
      "outputs": [
        {
          "output_type": "stream",
          "text": [
            "Total number of objects created:  3\n"
          ],
          "name": "stdout"
        }
      ]
    },
    {
      "cell_type": "code",
      "metadata": {
        "colab": {
          "base_uri": "https://localhost:8080/"
        },
        "id": "5vVLuHdTFu4i",
        "outputId": "7344efc9-7d07-4bea-a616-bab236545608"
      },
      "source": [
        "#USING CLASS CONCEPT IN  Python WAP to check a number is Palindrome number or not\n",
        " \n",
        "n=int(input(\"Enter number:\"))\n",
        "temp=n\n",
        "rev=0\n",
        "while(n>0):\n",
        "    dig=n%10\n",
        "    rev=rev*10+dig\n",
        "    n=n//10\n",
        "if(temp==rev):\n",
        "    print(\"The number is a palindrome!\")\n",
        "else:\n",
        "    print(\"The number isn't a palindrome!\")"
      ],
      "execution_count": 5,
      "outputs": [
        {
          "output_type": "stream",
          "text": [
            "Enter number:12321\n",
            "The number is a palindrome!\n"
          ],
          "name": "stdout"
        }
      ]
    },
    {
      "cell_type": "code",
      "metadata": {
        "colab": {
          "base_uri": "https://localhost:8080/"
        },
        "id": "l_7357dZFu4k",
        "outputId": "e23db892-6e91-4eb6-e9ca-4170e8e846cc"
      },
      "source": [
        "#USING CLASS CONCEPT IN Python WAP to check a number is Palindrome number or not\n",
        "class Check :\n",
        "    def __init__(self,number) :\n",
        "        self.num = number\n",
        "        \n",
        "    def isPalindrome(self) :\n",
        "        temp = self.num\n",
        "        result = 0\n",
        "        while(temp != 0) :\n",
        "            rem = temp % 10\n",
        "            result =  result * 10 + rem\n",
        "            temp //= 10\n",
        "        if self.num == result :\n",
        "            print(self.num,\"is Palindrome\")\n",
        "        else :\n",
        "            print(self.num,\"is not Palindrome\")\n",
        "\n",
        "if __name__ == \"__main__\" :\n",
        "    num = 121\n",
        "    \n",
        "    check_Palindrome = Check(num)\n",
        "    \n",
        "    check_Palindrome.isPalindrome()\n",
        "    num = 157\n",
        "    check_Palindrome = Check(num)\n",
        "    check_Palindrome.isPalindrome()"
      ],
      "execution_count": 6,
      "outputs": [
        {
          "output_type": "stream",
          "text": [
            "121 is Palindrome\n",
            "157 is not Palindrome\n"
          ],
          "name": "stdout"
        }
      ]
    },
    {
      "cell_type": "code",
      "metadata": {
        "colab": {
          "base_uri": "https://localhost:8080/"
        },
        "id": "bU182Z49Fu4o",
        "outputId": "f11348ae-bced-46ad-9ac1-2d1031f18266"
      },
      "source": [
        "#Python program to add two distances\n",
        "print(\"FIRST DISTANCE\")\n",
        "xfeet=int(input(\"Enter feets 1: \"))\n",
        "xinches=float(input(\"Enter inches 1: \"))\n",
        "print(\"\\nSECOND DISTANCE\")\n",
        "yfeet=int(input(\"Enter feets 2: \"))\n",
        "yinches=float(input(\"Enter inches 2: \"))\n",
        "feet = xfeet + yfeet\n",
        "inches = float(xinches+yinches)\n",
        "\n",
        "while inches>=12:\n",
        "    feet = feet+1\n",
        "    inches = inches-12\n",
        "print(\"\\nSUM OF THE DISTANCES IS {0} FEET, {1} INCHES.\".format(feet, inches))"
      ],
      "execution_count": 7,
      "outputs": [
        {
          "output_type": "stream",
          "text": [
            "FIRST DISTANCE\n",
            "Enter feets 1: 12\n",
            "Enter inches 1: 7\n",
            "\n",
            "SECOND DISTANCE\n",
            "Enter feets 2: 87\n",
            "Enter inches 2: 9\n",
            "\n",
            "SUM OF THE DISTANCES IS 100 FEET, 4.0 INCHES.\n"
          ],
          "name": "stdout"
        }
      ]
    },
    {
      "cell_type": "code",
      "metadata": {
        "colab": {
          "base_uri": "https://localhost:8080/"
        },
        "id": "yUTbPdexFu4p",
        "outputId": "5d1104e6-34a5-4b11-f462-67ae46305749"
      },
      "source": [
        "#Python program to add two distances\n",
        "print(\"FIRST DISTANCE\")\n",
        "xkm=int(input(\"Enter dist in km 1: \"))\n",
        "xm=float(input(\"Enter dist m 1: \"))\n",
        "print(\"\\nSECOND DISTANCE\")\n",
        "ykm=int(input(\"Enter dist in km 2: \"))\n",
        "ym=float(input(\"Enter dist in m 2: \"))\n",
        "km = xkm + ykm\n",
        "m = float(xm+ym)\n",
        "\n",
        "while m>=1000:\n",
        "    km = km+1\n",
        "    m = m-1000\n",
        "print(\"\\nSUM OF THE DISTANCES IS {0} KM, {1} M.\".format(km, m))"
      ],
      "execution_count": 8,
      "outputs": [
        {
          "output_type": "stream",
          "text": [
            "FIRST DISTANCE\n",
            "Enter dist in km 1: 93\n",
            "Enter dist m 1: 9\n",
            "\n",
            "SECOND DISTANCE\n",
            "Enter dist in km 2: 22\n",
            "Enter dist in m 2: 7\n",
            "\n",
            "SUM OF THE DISTANCES IS 115 KM, 16.0 M.\n"
          ],
          "name": "stdout"
        }
      ]
    }
  ]
}