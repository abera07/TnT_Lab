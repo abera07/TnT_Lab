{
 "cells": [
  {
   "cell_type": "code",
   "execution_count": 1,
   "metadata": {},
   "outputs": [
    {
     "name": "stdout",
     "output_type": "stream",
     "text": [
      "Hello, world\n"
     ]
    }
   ],
   "source": [
    "print(\"Hello, world\")"
   ]
  },
  {
   "cell_type": "code",
   "execution_count": 2,
   "metadata": {},
   "outputs": [
    {
     "name": "stdout",
     "output_type": "stream",
     "text": [
      "What is your name?Ankita\n"
     ]
    }
   ],
   "source": [
    "name=input(\"What is your name?\")"
   ]
  },
  {
   "cell_type": "code",
   "execution_count": 3,
   "metadata": {},
   "outputs": [
    {
     "name": "stdout",
     "output_type": "stream",
     "text": [
      "Hi, Ankita\n"
     ]
    }
   ],
   "source": [
    "print(\"Hi,\",name)"
   ]
  },
  {
   "cell_type": "code",
   "execution_count": 4,
   "metadata": {},
   "outputs": [
    {
     "name": "stdout",
     "output_type": "stream",
     "text": [
      "What is your last name?Bera\n",
      "Okay, noted Bera\n"
     ]
    }
   ],
   "source": [
    "lname=input(\"What is your last name?\")\n",
    "print(\"Okay, noted\",lname)"
   ]
  },
  {
   "cell_type": "code",
   "execution_count": 5,
   "metadata": {},
   "outputs": [],
   "source": [
    "#Inputting numbers"
   ]
  },
  {
   "cell_type": "code",
   "execution_count": 6,
   "metadata": {},
   "outputs": [
    {
     "name": "stdout",
     "output_type": "stream",
     "text": [
      "Enter integer 2\n",
      "2\n"
     ]
    }
   ],
   "source": [
    "n=int(input(\"Enter integer \"))\n",
    "print(n)"
   ]
  },
  {
   "cell_type": "code",
   "execution_count": 7,
   "metadata": {},
   "outputs": [
    {
     "name": "stdout",
     "output_type": "stream",
     "text": [
      "Enter a real number 2.4\n",
      "2.4\n"
     ]
    }
   ],
   "source": [
    "n2=float(input(\"Enter a real number \"))\n",
    "print(n2)"
   ]
  },
  {
   "cell_type": "code",
   "execution_count": 8,
   "metadata": {},
   "outputs": [
    {
     "name": "stdout",
     "output_type": "stream",
     "text": [
      "Enter one side of square:2\n",
      "Perimeter of square is: 8\n"
     ]
    }
   ],
   "source": [
    "#Code 1\n",
    "s=float(input(\"Enter one side of square:\"))\n",
    "print(\"Perimeter of square is:\", int(4*s))"
   ]
  },
  {
   "cell_type": "code",
   "execution_count": 9,
   "metadata": {},
   "outputs": [
    {
     "name": "stdout",
     "output_type": "stream",
     "text": [
      "Enter the radius of a circle:4\n"
     ]
    }
   ],
   "source": [
    "r=float(input(\"Enter the radius of a circle:\"))\n",
    "C=float(2.0*3.14*r)"
   ]
  },
  {
   "cell_type": "code",
   "execution_count": 10,
   "metadata": {},
   "outputs": [
    {
     "name": "stdout",
     "output_type": "stream",
     "text": [
      "25.12\n"
     ]
    }
   ],
   "source": [
    "print(C)"
   ]
  },
  {
   "cell_type": "code",
   "execution_count": 13,
   "metadata": {},
   "outputs": [
    {
     "name": "stdout",
     "output_type": "stream",
     "text": [
      "5\n"
     ]
    }
   ],
   "source": [
    "#Code 2\n",
    "a=int(input())"
   ]
  },
  {
   "cell_type": "code",
   "execution_count": 14,
   "metadata": {},
   "outputs": [
    {
     "name": "stdout",
     "output_type": "stream",
     "text": [
      "10\n"
     ]
    }
   ],
   "source": [
    "b=int(input())"
   ]
  },
  {
   "cell_type": "code",
   "execution_count": 16,
   "metadata": {},
   "outputs": [
    {
     "name": "stdout",
     "output_type": "stream",
     "text": [
      "5   10\n"
     ]
    }
   ],
   "source": [
    "a=a+b\n",
    "b=a-b\n",
    "a=a-b\n",
    "print(a,\" \",b)"
   ]
  },
  {
   "cell_type": "code",
   "execution_count": 18,
   "metadata": {},
   "outputs": [],
   "source": [
    "#Code 3"
   ]
  },
  {
   "cell_type": "code",
   "execution_count": 19,
   "metadata": {},
   "outputs": [
    {
     "name": "stdout",
     "output_type": "stream",
     "text": [
      "Second number is greater\n"
     ]
    }
   ],
   "source": [
    "if(a>b):\n",
    "    print(\"First number is greater\")\n",
    "    \n",
    "else:\n",
    "    print(\"Second number is greater\")"
   ]
  },
  {
   "cell_type": "code",
   "execution_count": 26,
   "metadata": {},
   "outputs": [
    {
     "name": "stdout",
     "output_type": "stream",
     "text": [
      "Enter an integer:5\n",
      "* \n",
      "\n",
      "* * \n",
      "\n",
      "* * * \n",
      "\n",
      "* * * * \n",
      "\n",
      "* * * * * \n",
      "\n"
     ]
    }
   ],
   "source": [
    "num=int(input(\"Enter an integer:\"))\n",
    "for i in range(1,num+1):\n",
    "    for j in range(1, i+1):\n",
    "         print(\"* \" , end=\"\") \n",
    "    print(\"\\n\")       "
   ]
  },
  {
   "cell_type": "code",
   "execution_count": 33,
   "metadata": {},
   "outputs": [
    {
     "name": "stdout",
     "output_type": "stream",
     "text": [
      "Enter an integer:101\n",
      "Palindrome number\n"
     ]
    }
   ],
   "source": [
    "num=int(input(\"Enter an integer:\"))\n",
    "copy=num\n",
    "rev=0\n",
    "while(copy !=0):\n",
    "    x=int(copy%10)\n",
    "    rev=int(rev*10+x)\n",
    "    copy=int(copy/10)\n",
    "if(rev==num):\n",
    "    print(\"Palindrome number\")\n",
    "else:\n",
    "    print(\"Not a palindrome number\")\n",
    "    "
   ]
  },
  {
   "cell_type": "code",
   "execution_count": 39,
   "metadata": {},
   "outputs": [
    {
     "name": "stdout",
     "output_type": "stream",
     "text": [
      "hogw"
     ]
    }
   ],
   "source": [
    "for val in 'hogwarts':\n",
    "    print(val,end=\"\")\n",
    "    if(val=='w'):\n",
    "        break     "
   ]
  },
  {
   "cell_type": "code",
   "execution_count": 45,
   "metadata": {},
   "outputs": [],
   "source": [
    "from datetime import datetime"
   ]
  },
  {
   "cell_type": "code",
   "execution_count": 50,
   "metadata": {},
   "outputs": [
    {
     "name": "stdout",
     "output_type": "stream",
     "text": [
      "2020-12-18 10:34:32.918248\n"
     ]
    }
   ],
   "source": [
    "today=datetime.now()\n",
    "print(today)\n",
    "y=int(today.year)"
   ]
  },
  {
   "cell_type": "code",
   "execution_count": 51,
   "metadata": {},
   "outputs": [
    {
     "name": "stdout",
     "output_type": "stream",
     "text": [
      "2020\n",
      "This year is a leap year.\n"
     ]
    }
   ],
   "source": [
    "print(y)\n",
    "if (y%4==0):\n",
    "    print(\"This year is a leap year.\")"
   ]
  },
  {
   "cell_type": "code",
   "execution_count": 56,
   "metadata": {},
   "outputs": [
    {
     "name": "stdout",
     "output_type": "stream",
     "text": [
      "Enter an integer:4\n",
      "Enter an integer:18\n",
      "4\n",
      "HCF is: 2\n"
     ]
    }
   ],
   "source": [
    "#HCF\n",
    "x=int(input(\"Enter an integer:\"))\n",
    "y=int(input(\"Enter an integer:\"))\n",
    "\n",
    "a=min(x,y)\n",
    "print(a)\n",
    "\n",
    "for i in range (1,a+1):\n",
    "    if(x%i==0 and y%i==0):\n",
    "        hcf=i\n",
    "print(\"HCF is:\",hcf)        "
   ]
  },
  {
   "cell_type": "code",
   "execution_count": null,
   "metadata": {},
   "outputs": [],
   "source": []
  }
 ],
 "metadata": {
  "kernelspec": {
   "display_name": "Python 3",
   "language": "python",
   "name": "python3"
  },
  "language_info": {
   "codemirror_mode": {
    "name": "ipython",
    "version": 3
   },
   "file_extension": ".py",
   "mimetype": "text/x-python",
   "name": "python",
   "nbconvert_exporter": "python",
   "pygments_lexer": "ipython3",
   "version": "3.7.3"
  }
 },
 "nbformat": 4,
 "nbformat_minor": 2
}
