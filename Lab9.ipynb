{
  "nbformat": 4,
  "nbformat_minor": 0,
  "metadata": {
    "colab": {
      "name": "Lab9.ipynb",
      "provenance": []
    },
    "kernelspec": {
      "name": "python3",
      "display_name": "Python 3"
    }
  },
  "cells": [
    {
      "cell_type": "markdown",
      "metadata": {
        "id": "eebb7Z443G6H"
      },
      "source": [
        "### Ankita Bera, 1828229"
      ]
    },
    {
      "cell_type": "markdown",
      "metadata": {
        "id": "UcfPPwN8vbrD"
      },
      "source": [
        "## Tuples in Python"
      ]
    },
    {
      "cell_type": "markdown",
      "metadata": {
        "id": "J5a9iBipvlOC"
      },
      "source": [
        "Tuple items are ordered, unchangeable, and allow duplicate values.\r\n",
        "\r\n",
        "Tuple items are indexed, the first item has index [0], the second item has index [1] etc."
      ]
    },
    {
      "cell_type": "code",
      "metadata": {
        "colab": {
          "base_uri": "https://localhost:8080/"
        },
        "id": "97CNmD73ow6k",
        "outputId": "224c3389-7a05-498b-e1c5-514e6a1192f0"
      },
      "source": [
        "#Sum of 2 tuples stored in the 3rd tuple\r\n",
        "tup1=(1,2,3,4,5,6)\r\n",
        "tup2=(6,4,6,7,9,3)\r\n",
        "sum=tup1+tup2\r\n",
        "print(sum)"
      ],
      "execution_count": 1,
      "outputs": [
        {
          "output_type": "stream",
          "text": [
            "(1, 2, 3, 4, 5, 6, 6, 4, 6, 7, 9, 3)\n"
          ],
          "name": "stdout"
        }
      ]
    },
    {
      "cell_type": "code",
      "metadata": {
        "colab": {
          "base_uri": "https://localhost:8080/"
        },
        "id": "1QXfEjXhsaMK",
        "outputId": "f020d70d-6359-48dc-bffa-db865a88462f"
      },
      "source": [
        "#to get the length of a tuple.\r\n",
        "len(tup2)"
      ],
      "execution_count": 2,
      "outputs": [
        {
          "output_type": "execute_result",
          "data": {
            "text/plain": [
              "6"
            ]
          },
          "metadata": {
            "tags": []
          },
          "execution_count": 2
        }
      ]
    },
    {
      "cell_type": "markdown",
      "metadata": {
        "id": "R-GaHDrVtX--"
      },
      "source": [
        "Operations on a tuple:\r\n",
        "\r\n",
        "1. Length\r\n",
        "2. Concatenation\r\n",
        "3. Repetition\r\n",
        "4. Iteration"
      ]
    },
    {
      "cell_type": "code",
      "metadata": {
        "colab": {
          "base_uri": "https://localhost:8080/"
        },
        "id": "5MYB2dOTtXCi",
        "outputId": "67c8d04f-e141-416f-9392-d91d1d8ba4c6"
      },
      "source": [
        "#Repetition\r\n",
        "tup2*4"
      ],
      "execution_count": 3,
      "outputs": [
        {
          "output_type": "execute_result",
          "data": {
            "text/plain": [
              "(6, 4, 6, 7, 9, 3, 6, 4, 6, 7, 9, 3, 6, 4, 6, 7, 9, 3, 6, 4, 6, 7, 9, 3)"
            ]
          },
          "metadata": {
            "tags": []
          },
          "execution_count": 3
        }
      ]
    },
    {
      "cell_type": "code",
      "metadata": {
        "colab": {
          "base_uri": "https://localhost:8080/"
        },
        "id": "oNCKwjVgs2yU",
        "outputId": "211c4832-9528-4f20-c1e6-684f9d804a6b"
      },
      "source": [
        "print(7 in tup2)"
      ],
      "execution_count": 4,
      "outputs": [
        {
          "output_type": "stream",
          "text": [
            "True\n"
          ],
          "name": "stdout"
        }
      ]
    },
    {
      "cell_type": "code",
      "metadata": {
        "colab": {
          "base_uri": "https://localhost:8080/"
        },
        "id": "LQx0x1hAwcNm",
        "outputId": "939f7856-0c1a-4460-f050-d858ca0252de"
      },
      "source": [
        "#WAP TO PICK THE 3RD, 4TH AND 5TH OBJECT AND CREATE ANOTHER TUPLE WITH THE SAME\r\n",
        "x=tup2[2]\r\n",
        "y=tup2[3]\r\n",
        "z=tup2[4]\r\n",
        "tup3=(x,y,z)\r\n",
        "print(tup3)"
      ],
      "execution_count": 5,
      "outputs": [
        {
          "output_type": "stream",
          "text": [
            "(6, 7, 9)\n"
          ],
          "name": "stdout"
        }
      ]
    },
    {
      "cell_type": "code",
      "metadata": {
        "colab": {
          "base_uri": "https://localhost:8080/"
        },
        "id": "Aw5Jld5_uuRH",
        "outputId": "a91a3091-c52e-4f05-9e2c-401b3164cbc2"
      },
      "source": [
        "import random\r\n",
        "l=random.sample(range(0, 100), 10)\r\n",
        "tup=tuple(l)\r\n",
        "print(tup)\r\n",
        "ele=int(input(\"Enter an element:\"))\r\n",
        "count=0\r\n",
        "for e in tup:\r\n",
        "  if e==ele:\r\n",
        "    count=count+1\r\n",
        "\r\n",
        "print(f\"Occurence of element {ele} is:\",count)"
      ],
      "execution_count": 6,
      "outputs": [
        {
          "output_type": "stream",
          "text": [
            "(2, 15, 58, 41, 3, 53, 56, 94, 77, 90)\n",
            "Enter an element:53\n",
            "Occurence of element 53 is: 1\n"
          ],
          "name": "stdout"
        }
      ]
    },
    {
      "cell_type": "code",
      "metadata": {
        "colab": {
          "base_uri": "https://localhost:8080/"
        },
        "id": "cU_0neWDxXGP",
        "outputId": "de7fa3ba-4628-4965-cbe0-44ee11b57f0c"
      },
      "source": [
        "#Write a Python program calculate the product, multiplying all the numbers  with 35\r\n",
        "tup4=()\r\n",
        "for ele in tup:\r\n",
        "  prod=ele*35\r\n",
        "  tup4=tup4+(prod,)\r\n",
        "\r\n",
        "print(tup4)"
      ],
      "execution_count": 7,
      "outputs": [
        {
          "output_type": "stream",
          "text": [
            "(70, 525, 2030, 1435, 105, 1855, 1960, 3290, 2695, 3150)\n"
          ],
          "name": "stdout"
        }
      ]
    },
    {
      "cell_type": "code",
      "metadata": {
        "colab": {
          "base_uri": "https://localhost:8080/"
        },
        "id": "y94KTa9xzhxz",
        "outputId": "61c94cdb-d10c-4ac5-dbe9-6a8a2e79e12a"
      },
      "source": [
        "\"\"\" Write a Python program to replace last value of tuples in a list.\r\n",
        "Sample list: [(10, 20, 40), (40, 50, 60), (70, 80, 90)]\r\n",
        "Expected Output: [(10, 20, 100), (40, 50, 100), (70, 80, 100)]\r\n",
        "\"\"\"\r\n",
        "l=[(10, 20, 40), (40, 50, 60), (70, 80, 90)]\r\n",
        "newl=[]\r\n",
        "x=int(input(\"Enter a number for replacement:\"))\r\n",
        "for i in l:\r\n",
        "  temp=list(i)\r\n",
        "  temp[-1]=x\r\n",
        "  newl.append(tuple(temp))\r\n",
        "\r\n",
        "print(newl)"
      ],
      "execution_count": 8,
      "outputs": [
        {
          "output_type": "stream",
          "text": [
            "Enter a number for replacement:100\n",
            "[(10, 20, 100), (40, 50, 100), (70, 80, 100)]\n"
          ],
          "name": "stdout"
        }
      ]
    }
  ]
}