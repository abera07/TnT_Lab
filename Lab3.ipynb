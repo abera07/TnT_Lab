{
  "nbformat": 4,
  "nbformat_minor": 0,
  "metadata": {
    "colab": {
      "name": "Lab3.ipynb",
      "provenance": []
    },
    "kernelspec": {
      "name": "python3",
      "display_name": "Python 3"
    }
  },
  "cells": [
    {
      "cell_type": "code",
      "metadata": {
        "colab": {
          "base_uri": "https://localhost:8080/"
        },
        "id": "DNr3HPqTQ7Kw",
        "outputId": "169c8fa8-7287-4ff0-e3bb-6a8cd15013ef"
      },
      "source": [
        "#Write a Python program to get the largest number from a list.\r\n",
        "\r\n",
        "l=[1,2,44,578,1,2233,211]\r\n",
        "print(max(l))"
      ],
      "execution_count": 1,
      "outputs": [
        {
          "output_type": "stream",
          "text": [
            "2233\n"
          ],
          "name": "stdout"
        }
      ]
    },
    {
      "cell_type": "code",
      "metadata": {
        "id": "BYE3NFNTRFDn"
      },
      "source": [
        "for i in range(1,len(l)):\r\n",
        "  if(l[i]>l[i-1]):\r\n",
        "    m=l[i] "
      ],
      "execution_count": 3,
      "outputs": []
    },
    {
      "cell_type": "code",
      "metadata": {
        "colab": {
          "base_uri": "https://localhost:8080/"
        },
        "id": "Mnu9JYKdSJwU",
        "outputId": "d340f708-cda3-48b0-ee81-7dae67212876"
      },
      "source": [
        "print(m)"
      ],
      "execution_count": 4,
      "outputs": [
        {
          "output_type": "stream",
          "text": [
            "2233\n"
          ],
          "name": "stdout"
        }
      ]
    },
    {
      "cell_type": "code",
      "metadata": {
        "colab": {
          "base_uri": "https://localhost:8080/"
        },
        "id": "nyQ5yhXQSOcP",
        "outputId": "d8d9ad3e-d608-49fe-92e8-a9cf98fed076"
      },
      "source": [
        "#Write a Python program to sum all the items in a list\r\n",
        "sum=0\r\n",
        "for i in l:\r\n",
        "  sum=sum+i\r\n",
        "\r\n",
        "print(sum)"
      ],
      "execution_count": 8,
      "outputs": [
        {
          "output_type": "stream",
          "text": [
            "3070\n"
          ],
          "name": "stdout"
        }
      ]
    },
    {
      "cell_type": "code",
      "metadata": {
        "colab": {
          "base_uri": "https://localhost:8080/"
        },
        "id": "yfEBYqRnS_Iv",
        "outputId": "d3268e38-c714-4e58-c6c5-9fb633c79eed"
      },
      "source": [
        "#Write a Python program to get a list sorted in decreasing order \r\n",
        "\r\n",
        "l.sort(reverse=True)\r\n",
        "print(l)\r\n",
        "\r\n",
        "#without sort() method\r\n",
        "l=[1,2,44,578,1,2233,211]\r\n",
        "new_list = []\r\n",
        "\r\n",
        "while l:\r\n",
        "    max = l[0]  \r\n",
        "    for x in l: \r\n",
        "        if x > max:\r\n",
        "            max = x\r\n",
        "    new_list.append(max)\r\n",
        "    l.remove(max)    \r\n",
        "\r\n",
        "print(new_list)\r\n"
      ],
      "execution_count": 23,
      "outputs": [
        {
          "output_type": "stream",
          "text": [
            "[2233, 578, 211, 44, 2, 1, 1]\n",
            "[2233, 578, 211, 44, 2, 1, 1]\n"
          ],
          "name": "stdout"
        }
      ]
    },
    {
      "cell_type": "code",
      "metadata": {
        "id": "myEM6chyTR-R"
      },
      "source": [
        "#Write a Python program to clone or copy a list.\r\n",
        "l=[1,2,44,578,1,2233,211]\r\n",
        "l2=[None]*len(l)\r\n",
        "\r\n",
        "for i in range(len(l)):\r\n",
        "  l2[i]=l[i]"
      ],
      "execution_count": 15,
      "outputs": []
    },
    {
      "cell_type": "code",
      "metadata": {
        "colab": {
          "base_uri": "https://localhost:8080/"
        },
        "id": "t9_RbdimUdPV",
        "outputId": "2d6b0355-65ec-4726-a251-dbee13c2eedd"
      },
      "source": [
        "print(l2)"
      ],
      "execution_count": 16,
      "outputs": [
        {
          "output_type": "stream",
          "text": [
            "[1, 2, 44, 578, 1, 2233, 211]\n"
          ],
          "name": "stdout"
        }
      ]
    },
    {
      "cell_type": "code",
      "metadata": {
        "id": "KyC-iWLEUejB"
      },
      "source": [
        "#Write a Python program to get the frequency of the elements in a list.\r\n",
        "\r\n",
        "k=[1,1,2,3,4,5,6,8,8,5,4,5,6,7,4,2,1,3,4,8,5,2,1,1,1,1,1]\r\n",
        "\r\n",
        "freq = {} \r\n",
        "  \r\n",
        "for i in k: \r\n",
        "    if i in freq: \r\n",
        "        freq[i] += 1\r\n",
        "    else: \r\n",
        "        freq[i] = 1"
      ],
      "execution_count": 17,
      "outputs": []
    },
    {
      "cell_type": "code",
      "metadata": {
        "colab": {
          "base_uri": "https://localhost:8080/"
        },
        "id": "U7SEbTL4VPqW",
        "outputId": "015fc816-a4ba-4b47-8f9f-886ff34ce667"
      },
      "source": [
        "print(freq)"
      ],
      "execution_count": 18,
      "outputs": [
        {
          "output_type": "stream",
          "text": [
            "{1: 8, 2: 3, 3: 2, 4: 4, 5: 4, 6: 2, 8: 3, 7: 1}\n"
          ],
          "name": "stdout"
        }
      ]
    },
    {
      "cell_type": "code",
      "metadata": {
        "colab": {
          "base_uri": "https://localhost:8080/"
        },
        "id": "BplWNIErVS-l",
        "outputId": "8f97d141-83d2-43e2-993e-ecc4860158f1"
      },
      "source": [
        "#WAP TO  SEPARATE THE STRING VALUES FROM A LIST WITH DIFFRENT DATATYPES AND ALSO COUNT THEIR FREQUENCY\r\n",
        "j=[\"apple\",1,334,5.2,\"boat\",3.5,\"purple\"]\r\n",
        "x=[ele for ele in j if type(ele)==int]\r\n",
        "y=[ele for ele in j if type(ele)==float]\r\n",
        "z=[ele for ele in j if type(ele)==str]\r\n",
        "print(\"Integer objects:\",len(x))\r\n",
        "print(\"Float objects:\",len(y))\r\n",
        "print(\"String objects:\",len(z))"
      ],
      "execution_count": 20,
      "outputs": [
        {
          "output_type": "stream",
          "text": [
            "Integer objects: 2\n",
            "Float objects: 2\n",
            "String objects: 3\n"
          ],
          "name": "stdout"
        }
      ]
    },
    {
      "cell_type": "code",
      "metadata": {
        "colab": {
          "base_uri": "https://localhost:8080/"
        },
        "id": "1N2udS4UWuPy",
        "outputId": "3b32db1c-e7e7-4f55-c5ca-e7838842f5e6"
      },
      "source": [
        "#WAP TO JOIN 2 LIST AND FIND THE SMALEST ELEMENT FROM THE THIRD LIST\r\n",
        "list1 = [223,754,101]\r\n",
        "list2 = [103,114,121]\r\n",
        "\r\n",
        "list3 = list1 + list2\r\n",
        "print(list3)\r\n",
        "\r\n",
        "for i in range(1,len(list3)):\r\n",
        "  if(list3[i]<list3[i-1]):\r\n",
        "    m=list3[i] \r\n",
        "print(m)"
      ],
      "execution_count": 22,
      "outputs": [
        {
          "output_type": "stream",
          "text": [
            "[223, 754, 101, 103, 114, 121]\n",
            "101\n"
          ],
          "name": "stdout"
        }
      ]
    },
    {
      "cell_type": "code",
      "metadata": {
        "id": "9gqkBInfYtJe"
      },
      "source": [
        ""
      ],
      "execution_count": null,
      "outputs": []
    }
  ]
}